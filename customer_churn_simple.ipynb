{
 "cells": [
  {
   "cell_type": "markdown",
   "id": "bfcacd21",
   "metadata": {},
   "source": [
    "# Churn Prediction - Telecom Case\n",
    "Author: Daniel Grzebyk\n",
    "\n",
    "Date: 1.07.2022"
   ]
  },
  {
   "cell_type": "code",
   "execution_count": 64,
   "id": "ccf6beeb",
   "metadata": {},
   "outputs": [],
   "source": [
    "import pandas as pd\n",
    "import numpy as np\n",
    "import matplotlib.pyplot as plt\n",
    "import seaborn as sns\n",
    "\n",
    "from sklearn.preprocessing import OneHotEncoder, MinMaxScaler, StandardScaler, OrdinalEncoder, LabelEncoder\n",
    "from sklearn.compose import ColumnTransformer, make_column_transformer\n",
    "from sklearn.feature_selection import VarianceThreshold, SelectKBest, chi2, f_classif, mutual_info_classif, SelectFromModel, RFE\n",
    "from sklearn.model_selection import train_test_split, RandomizedSearchCV, learning_curve\n",
    "from sklearn.linear_model import LogisticRegression\n",
    "from sklearn.svm import SVC\n",
    "from sklearn.ensemble import RandomForestClassifier, GradientBoostingClassifier\n",
    "from sklearn.pipeline import Pipeline\n",
    "from sklearn.metrics import mean_squared_error, accuracy_score, precision_score, recall_score, confusion_matrix,classification_report\n",
    "\n",
    "from classification_utils import chi_test, chi_test_new, find_boolean_features, find_correlated_features, remove_outliers\n",
    "\n",
    "from functools import partial\n",
    "from sklearn.feature_selection import mutual_info_classif, SelectKBest"
   ]
  },
  {
   "cell_type": "markdown",
   "id": "79a87468",
   "metadata": {},
   "source": [
    "## Loading the data"
   ]
  },
  {
   "cell_type": "code",
   "execution_count": 2,
   "id": "f6315453",
   "metadata": {},
   "outputs": [],
   "source": [
    "# selected_features = ['totmrc_Mean','plcd_vce_Mean', 'comp_vce_Mean', 'mou_cvce_Mean', 'mou_opkv_Mean', 'attempt_Mean',\n",
    "#                      'complete_Mean', 'avg3mou', 'avg6mou', 'hnd_price', 'eqpdays',\n",
    "#                      'new_cell', 'area', 'dualband', 'refurb_new', 'hnd_webcap', 'marital', 'infobase',\n",
    "#                      'kid0_2', 'kid3_5', 'kid6_10', 'kid11_15', 'kid16_17', 'churn']\n",
    "# selected_features = ['eqpdays', 'avgmou', 'avg3mou', 'avg6mou', 'hnd_price', 'complete_Mean', 'churn']\n",
    "selected_features = ['mou_opkv_Mean','months', 'uniqsubs', 'actvsubs', 'hnd_price', 'truck', 'rv', 'adults', 'income',\n",
    "                     'eqpdays',\n",
    "                     'new_cell', 'area', 'dualband', 'refurb_new', 'hnd_webcap', 'marital', 'infobase',\n",
    "                     'kid0_2', 'kid3_5', 'kid6_10', 'kid11_15', 'kid16_17', 'churn']\n",
    "\n",
    "df = pd.read_csv(\"data/telecom/data.csv\", usecols=selected_features)\n",
    "var_df = pd.read_csv(\"data/telecom/variables-definition.csv\")"
   ]
  },
  {
   "cell_type": "code",
   "execution_count": 3,
   "id": "04e10bfe",
   "metadata": {},
   "outputs": [],
   "source": [
    "X = df.drop(columns=['churn']).copy()\n",
    "y = df['churn'].copy()"
   ]
  },
  {
   "cell_type": "code",
   "execution_count": 4,
   "id": "23249dcd",
   "metadata": {},
   "outputs": [
    {
     "data": {
      "text/plain": [
       "(100000, 22)"
      ]
     },
     "execution_count": 4,
     "metadata": {},
     "output_type": "execute_result"
    }
   ],
   "source": [
    "X.shape"
   ]
  },
  {
   "cell_type": "markdown",
   "id": "49f32deb",
   "metadata": {},
   "source": [
    "### Investigating Correlations\n",
    "1. Removing features correlated with other features\n",
    "2. Removing features uncorrelated with churn (label)\n",
    "\n",
    "#### Categorical Features"
   ]
  },
  {
   "cell_type": "code",
   "execution_count": 5,
   "id": "1ff1e8c3",
   "metadata": {},
   "outputs": [
    {
     "data": {
      "text/plain": [
       "Index(['new_cell', 'area', 'dualband', 'refurb_new', 'hnd_webcap', 'marital',\n",
       "       'infobase', 'kid0_2', 'kid3_5', 'kid6_10', 'kid11_15', 'kid16_17'],\n",
       "      dtype='object')"
      ]
     },
     "execution_count": 5,
     "metadata": {},
     "output_type": "execute_result"
    }
   ],
   "source": [
    "cat_features = X.select_dtypes(include='object').columns\n",
    "cat_features"
   ]
  },
  {
   "cell_type": "code",
   "execution_count": 6,
   "id": "ad00a792",
   "metadata": {},
   "outputs": [],
   "source": [
    "cat_features = X.select_dtypes(include='object').columns\n",
    "\n",
    "my_x = X[cat_features].dropna().copy()\n",
    "my_y = y.loc[my_x.index]\n",
    "\n",
    "one_hot = OneHotEncoder(sparse=False)  # handle_unknown='ignore'\n",
    "my_x_enc = one_hot.fit_transform(my_x)\n",
    "\n",
    "chi2_selector = SelectKBest(score_func=chi2, k='all')\n",
    "chi2_selector.fit(my_x_enc, my_y)\n",
    "\n",
    "X_train_chi = chi2_selector.transform(my_x_enc)"
   ]
  },
  {
   "cell_type": "code",
   "execution_count": 7,
   "id": "70963097",
   "metadata": {},
   "outputs": [
    {
     "data": {
      "text/html": [
       "<div>\n",
       "<style scoped>\n",
       "    .dataframe tbody tr th:only-of-type {\n",
       "        vertical-align: middle;\n",
       "    }\n",
       "\n",
       "    .dataframe tbody tr th {\n",
       "        vertical-align: top;\n",
       "    }\n",
       "\n",
       "    .dataframe thead th {\n",
       "        text-align: right;\n",
       "    }\n",
       "</style>\n",
       "<table border=\"1\" class=\"dataframe\">\n",
       "  <thead>\n",
       "    <tr style=\"text-align: right;\">\n",
       "      <th></th>\n",
       "      <th>feature</th>\n",
       "      <th>score</th>\n",
       "      <th>p_value</th>\n",
       "    </tr>\n",
       "  </thead>\n",
       "  <tbody>\n",
       "    <tr>\n",
       "      <th>29</th>\n",
       "      <td>hnd_webcap_WC</td>\n",
       "      <td>311.278190</td>\n",
       "      <td>1.150221e-69</td>\n",
       "    </tr>\n",
       "    <tr>\n",
       "      <th>27</th>\n",
       "      <td>refurb_new_R</td>\n",
       "      <td>71.981433</td>\n",
       "      <td>2.172317e-17</td>\n",
       "    </tr>\n",
       "    <tr>\n",
       "      <th>16</th>\n",
       "      <td>area_NORTHWEST/ROCKY MOUNTAIN AREA</td>\n",
       "      <td>64.364388</td>\n",
       "      <td>1.034105e-15</td>\n",
       "    </tr>\n",
       "    <tr>\n",
       "      <th>30</th>\n",
       "      <td>hnd_webcap_WCMB</td>\n",
       "      <td>58.362259</td>\n",
       "      <td>2.180338e-14</td>\n",
       "    </tr>\n",
       "    <tr>\n",
       "      <th>22</th>\n",
       "      <td>dualband_N</td>\n",
       "      <td>52.025357</td>\n",
       "      <td>5.478853e-13</td>\n",
       "    </tr>\n",
       "  </tbody>\n",
       "</table>\n",
       "</div>"
      ],
      "text/plain": [
       "                               feature       score       p_value\n",
       "29                       hnd_webcap_WC  311.278190  1.150221e-69\n",
       "27                        refurb_new_R   71.981433  2.172317e-17\n",
       "16  area_NORTHWEST/ROCKY MOUNTAIN AREA   64.364388  1.034105e-15\n",
       "30                     hnd_webcap_WCMB   58.362259  2.180338e-14\n",
       "22                          dualband_N   52.025357  5.478853e-13"
      ]
     },
     "execution_count": 7,
     "metadata": {},
     "output_type": "execute_result"
    }
   ],
   "source": [
    "feature_names = one_hot.get_feature_names(cat_features)\n",
    "\n",
    "chi_df = pd.DataFrame({\"feature\": feature_names, \"score\": chi2_selector.scores_, \"p_value\": chi2_selector.pvalues_})\n",
    "chi_df.loc[chi_df['p_value'] < 0.05].sort_values(by='p_value', ascending=True).head()"
   ]
  },
  {
   "cell_type": "code",
   "execution_count": 8,
   "id": "00f9323a",
   "metadata": {},
   "outputs": [
    {
     "data": {
      "text/plain": [
       "<AxesSubplot:xlabel='feature'>"
      ]
     },
     "execution_count": 8,
     "metadata": {},
     "output_type": "execute_result"
    },
    {
     "data": {
      "image/png": "[encoded data removed]",
      "text/plain": [
       "<Figure size 432x288 with 1 Axes>"
      ]
     },
     "metadata": {
      "needs_background": "light"
     },
     "output_type": "display_data"
    }
   ],
   "source": [
    "chi_df.nsmallest(10, columns=['p_value']).plot(x='feature', y='score', kind='bar')"
   ]
  },
  {
   "cell_type": "markdown",
   "id": "f391076b",
   "metadata": {},
   "source": [
    "#### Numerical features\n",
    "Continous numerical features are also investigated looking for correlations."
   ]
  },
  {
   "cell_type": "code",
   "execution_count": 9,
   "id": "69ed0263",
   "metadata": {},
   "outputs": [
    {
     "data": {
      "text/plain": [
       "Index(['mou_opkv_Mean', 'churn', 'months', 'uniqsubs', 'actvsubs', 'hnd_price',\n",
       "       'truck', 'rv', 'adults', 'income', 'eqpdays'],\n",
       "      dtype='object')"
      ]
     },
     "execution_count": 9,
     "metadata": {},
     "output_type": "execute_result"
    }
   ],
   "source": [
    "num_features = df.select_dtypes(include='number').columns\n",
    "num_features"
   ]
  },
  {
   "cell_type": "code",
   "execution_count": 10,
   "id": "c3c7f8ba",
   "metadata": {},
   "outputs": [
    {
     "data": {
      "text/plain": [
       "<AxesSubplot:>"
      ]
     },
     "execution_count": 10,
     "metadata": {},
     "output_type": "execute_result"
    },
    {
     "data": {
      "image/png": "[encoded data removed]",
      "text/plain": [
       "<Figure size 432x288 with 2 Axes>"
      ]
     },
     "metadata": {
      "needs_background": "light"
     },
     "output_type": "display_data"
    }
   ],
   "source": [
    "# myfeat = ['mou_Mean', 'totmrc_Mean', 'plcd_vce_Mean', 'mou_cvce_Mean', 'mou_rvce_Mean', 'hnd_price',\n",
    "#           'opk_vce_Mean', 'mou_opkv_Mean', 'complete_Mean', 'avg3mou', 'avg6mou', 'eqpdays','models']\n",
    "# comp_vce_Mean, 'attempt_Mean',\n",
    "\n",
    "corr_matrix = df.corr()\n",
    "sns.heatmap(corr_matrix)"
   ]
  },
  {
   "cell_type": "markdown",
   "id": "8dcd01b1",
   "metadata": {},
   "source": [
    "## Data Preprocessing\n",
    "### Removing duplicates"
   ]
  },
  {
   "cell_type": "code",
   "execution_count": 11,
   "id": "02f63d8f",
   "metadata": {},
   "outputs": [
    {
     "data": {
      "text/plain": [
       "25"
      ]
     },
     "execution_count": 11,
     "metadata": {},
     "output_type": "execute_result"
    }
   ],
   "source": [
    "X.duplicated().sum()"
   ]
  },
  {
   "cell_type": "code",
   "execution_count": 12,
   "id": "b2d5bddf",
   "metadata": {},
   "outputs": [],
   "source": [
    "X.drop_duplicates(inplace=True)"
   ]
  },
  {
   "cell_type": "markdown",
   "id": "2155bfe4",
   "metadata": {},
   "source": [
    "### Removing outliers"
   ]
  },
  {
   "cell_type": "code",
   "execution_count": 13,
   "id": "41f04a34",
   "metadata": {
    "scrolled": true
   },
   "outputs": [],
   "source": [
    "def remove_outliers_iqr(X, cols):\n",
    "    for col in cols:\n",
    "        feature = X[col]\n",
    "        q1 = feature.quantile(0.25)\n",
    "        q3 = feature.quantile(0.75)\n",
    "        iqr = q3 - q1\n",
    "        mask = feature.loc[((feature < (q1 - 1.5 * iqr)) | (feature > (q3 + 1.5 * iqr)))].index\n",
    "        X.loc[mask, col] = np.nan\n",
    "    return X"
   ]
  },
  {
   "cell_type": "code",
   "execution_count": 14,
   "id": "8931617f",
   "metadata": {},
   "outputs": [],
   "source": [
    "num_features = X.select_dtypes(include='number').columns\n",
    "X = remove_outliers_iqr(X, num_features)"
   ]
  },
  {
   "cell_type": "markdown",
   "id": "db3f7eff",
   "metadata": {},
   "source": [
    "### Removing NaNs\n",
    "Some columns have so many missing values that keeping them would leave us with too small dataset. Therefore, firstly entire columns with too many missing values are removed and then NaNs are dropped per row. "
   ]
  },
  {
   "cell_type": "code",
   "execution_count": 15,
   "id": "9943c59a",
   "metadata": {},
   "outputs": [
    {
     "data": {
      "text/plain": [
       "income        25418\n",
       "adults        23001\n",
       "infobase      22061\n",
       "truck         20287\n",
       "hnd_webcap    10187\n",
       "dtype: int64"
      ]
     },
     "execution_count": 15,
     "metadata": {},
     "output_type": "execute_result"
    }
   ],
   "source": [
    "# Count NaNs\n",
    "nans_per_feature = X.isna().sum()\n",
    "nans_per_feature[nans_per_feature > 10000].sort_values(ascending=False)  # Is one of the dropped features crucial?"
   ]
  },
  {
   "cell_type": "code",
   "execution_count": 16,
   "id": "f2da825c",
   "metadata": {},
   "outputs": [
    {
     "name": "stdout",
     "output_type": "stream",
     "text": [
      "Dropping: ['hnd_webcap', 'truck', 'adults', 'infobase', 'income']\n",
      "Before dropping rows with NaNs: (99975, 17)\n",
      "After dropping rows with NaNs: (75009, 17)\n"
     ]
    }
   ],
   "source": [
    "cols_to_drop = list(nans_per_feature[nans_per_feature > 10000].index)  # drop features which have more than 20% NaNs\n",
    "X.drop(columns=cols_to_drop, inplace=True)\n",
    "print(\"Dropping:\", cols_to_drop)\n",
    "\n",
    "print(\"Before dropping rows with NaNs:\", X.shape)\n",
    "X.dropna(inplace=True)\n",
    "y = y.loc[X.index]\n",
    "print(\"After dropping rows with NaNs:\", X.shape)"
   ]
  },
  {
   "cell_type": "markdown",
   "id": "baa7b7e6",
   "metadata": {},
   "source": [
    "### Looking for class imbalance"
   ]
  },
  {
   "cell_type": "code",
   "execution_count": 17,
   "id": "2813c1c3",
   "metadata": {},
   "outputs": [
    {
     "data": {
      "text/plain": [
       "0    37693\n",
       "1    37316\n",
       "Name: churn, dtype: int64"
      ]
     },
     "execution_count": 17,
     "metadata": {},
     "output_type": "execute_result"
    }
   ],
   "source": [
    "y.value_counts()"
   ]
  },
  {
   "cell_type": "code",
   "execution_count": 18,
   "id": "8bc65faa",
   "metadata": {},
   "outputs": [
    {
     "data": {
      "text/plain": [
       "(7, 10)"
      ]
     },
     "execution_count": 18,
     "metadata": {},
     "output_type": "execute_result"
    }
   ],
   "source": [
    "num_features = X.select_dtypes(include='number').columns\n",
    "cat_features = X.select_dtypes(include='object').columns\n",
    "len(num_features), len(cat_features)"
   ]
  },
  {
   "cell_type": "markdown",
   "id": "1f59042f",
   "metadata": {},
   "source": [
    "## Predicting churn"
   ]
  },
  {
   "cell_type": "markdown",
   "id": "e7534feb",
   "metadata": {},
   "source": [
    "### Splitting the data"
   ]
  },
  {
   "cell_type": "code",
   "execution_count": 19,
   "id": "145c2f2b",
   "metadata": {},
   "outputs": [],
   "source": [
    "X_train, X_val, y_train, y_val = train_test_split(X, y, test_size=0.2, random_state=42)"
   ]
  },
  {
   "cell_type": "code",
   "execution_count": 20,
   "id": "1075039f",
   "metadata": {},
   "outputs": [
    {
     "data": {
      "text/plain": [
       "(60007, 17)"
      ]
     },
     "execution_count": 20,
     "metadata": {},
     "output_type": "execute_result"
    }
   ],
   "source": [
    "X_train.shape"
   ]
  },
  {
   "cell_type": "markdown",
   "id": "d38a9694",
   "metadata": {},
   "source": [
    "### Training the model"
   ]
  },
  {
   "cell_type": "code",
   "execution_count": 24,
   "id": "ea757cd4",
   "metadata": {},
   "outputs": [],
   "source": [
    "# X_train = X_train[num_features]\n",
    "# X_val = X_val[num_features]"
   ]
  },
  {
   "cell_type": "code",
   "execution_count": 32,
   "id": "b7b02d3b",
   "metadata": {
    "scrolled": false
   },
   "outputs": [
    {
     "name": "stdout",
     "output_type": "stream",
     "text": [
      "Wall time: 19 ms\n"
     ]
    }
   ],
   "source": [
    "%%time\n",
    "numeric_transformer = Pipeline(\n",
    "    steps=[(\"scaler\", StandardScaler()), \n",
    "           (\"var_thr\", VarianceThreshold(threshold=0.1))],\n",
    ")\n",
    "\n",
    "categorical_transformer = Pipeline(\n",
    "    steps=[(\"encoder\", OneHotEncoder()), # handle_unknown=\"ignore\"\n",
    "           (\"cat_selector\",  SelectKBest(chi2, k=5))]\n",
    ")\n",
    "\n",
    "preprocessor = ColumnTransformer(\n",
    "    transformers=[\n",
    "        (\"num\", numeric_transformer, num_features),\n",
    "        (\"cat\", categorical_transformer, cat_features)\n",
    "    ],\n",
    "    remainder = 'passthrough',\n",
    "    n_jobs=-1\n",
    ")\n",
    "\n",
    "pipeline = Pipeline(\n",
    "    steps=[(\"preprocessor\", preprocessor), \n",
    "           (\"classifier\", RandomForestClassifier())]\n",
    ")\n",
    "#   LogisticRegression(n_jobs=-1, max_iter=10000, C=0.1, warm_start=True)\n",
    "# RandomForestClassifier(n_jobs=-1, max_depth=20, max_features=10, min_samples_leaf=2)\n",
    "\n",
    "# pipeline.fit(X_train, y_train)\n",
    "# print(\"model score: %.3f\" % pipeline.score(X_val, y_val))"
   ]
  },
  {
   "cell_type": "code",
   "execution_count": 65,
   "id": "9c8c70cd",
   "metadata": {
    "scrolled": false
   },
   "outputs": [
    {
     "name": "stdout",
     "output_type": "stream",
     "text": [
      "Fitting 3 folds for each of 5 candidates, totalling 15 fits\n"
     ]
    },
    {
     "name": "stderr",
     "output_type": "stream",
     "text": [
      "C:\\Users\\danie\\anaconda3\\lib\\site-packages\\sklearn\\model_selection\\_search.py:922: UserWarning: One or more of the test scores are non-finite: [0.57773897        nan 0.56777097 0.57843418 0.56749439]\n",
      "  warnings.warn(\n",
      "C:\\Users\\danie\\anaconda3\\lib\\site-packages\\sklearn\\model_selection\\_search.py:922: UserWarning: One or more of the train scores are non-finite: [0.61323103        nan 0.5687006  0.61271877 0.56799797]\n",
      "  warnings.warn(\n"
     ]
    },
    {
     "name": "stdout",
     "output_type": "stream",
     "text": [
      "Wall time: 24.2 s\n"
     ]
    },
    {
     "data": {
      "text/plain": [
       "RandomizedSearchCV(cv=3,\n",
       "                   estimator=Pipeline(steps=[('preprocessor',\n",
       "                                              ColumnTransformer(n_jobs=-1,\n",
       "                                                                remainder='passthrough',\n",
       "                                                                transformers=[('num',\n",
       "                                                                               Pipeline(steps=[('scaler',\n",
       "                                                                                                StandardScaler()),\n",
       "                                                                                               ('var_thr',\n",
       "                                                                                                VarianceThreshold(threshold=0.1))]),\n",
       "                                                                               Index(['mou_opkv_Mean', 'months', 'uniqsubs', 'actvsubs', 'hnd_price', 'rv',\n",
       "       'eqpdays'],\n",
       "      dtype='object')),\n",
       "                                                                              ('cat',\n",
       "                                                                               Pipeline(steps...\n",
       "       'kid3_5', 'kid6_10', 'kid11_15', 'kid16_17'],\n",
       "      dtype='object'))])),\n",
       "                                             ('classifier',\n",
       "                                              RandomForestClassifier())]),\n",
       "                   n_iter=5, n_jobs=-1,\n",
       "                   param_distributions={'classifier__max_depth': [3, 6, 9, 12],\n",
       "                                        'classifier__max_features': [0.4, 0.5,\n",
       "                                                                     0.6, 0.7,\n",
       "                                                                     0.9],\n",
       "                                        'classifier__min_samples_split': [1, 2,\n",
       "                                                                          5, 10,\n",
       "                                                                          20],\n",
       "                                        'classifier__n_estimators': [50, 100,\n",
       "                                                                     150,\n",
       "                                                                     200]},\n",
       "                   random_state=42, return_train_score=True,\n",
       "                   scoring='precision', verbose=5)"
      ]
     },
     "execution_count": 65,
     "metadata": {},
     "output_type": "execute_result"
    }
   ],
   "source": [
    "%%time\n",
    "hyperparameter_grid = {\n",
    "    'classifier__n_estimators': [50, 100, 150, 200],\n",
    "    'classifier__max_depth': [3, 6, 9, 12],\n",
    "    'classifier__max_features': [0.4, 0.5, 0.6, 0.7, 0.9],\n",
    "    'classifier__min_samples_split': [1, 2, 5, 10, 20]\n",
    "}\n",
    "\n",
    "\n",
    "random_cv = RandomizedSearchCV(estimator=pipeline,\n",
    "            param_distributions=hyperparameter_grid,\n",
    "            cv=3, \n",
    "            n_iter=5,\n",
    "            scoring = 'precision',\n",
    "            n_jobs = -1,\n",
    "            verbose = 5, \n",
    "            return_train_score = True,\n",
    "            random_state=42)\n",
    "\n",
    "\n",
    "random_cv.fit(X_train, y_train)"
   ]
  },
  {
   "cell_type": "markdown",
   "id": "39e1384f",
   "metadata": {},
   "source": [
    "### Inference"
   ]
  },
  {
   "cell_type": "code",
   "execution_count": 66,
   "id": "ba2081ec",
   "metadata": {},
   "outputs": [],
   "source": [
    "# Train Inference\n",
    "y_pred = random_cv.predict(X_train)\n",
    "y_val_pred = random_cv.predict(X_val)"
   ]
  },
  {
   "cell_type": "markdown",
   "id": "fbf8eb80",
   "metadata": {},
   "source": [
    "### Evaluation"
   ]
  },
  {
   "cell_type": "code",
   "execution_count": 67,
   "id": "342318c1",
   "metadata": {},
   "outputs": [
    {
     "name": "stdout",
     "output_type": "stream",
     "text": [
      "Train Accuracy: 0.63\n",
      "Train Precision: 0.6\n",
      "Train Recall: 0.73\n",
      "\n",
      "Validation Accuracy: 0.6\n",
      "Validation Precision: 0.58\n",
      "Validation Recall: 0.71\n"
     ]
    }
   ],
   "source": [
    "# Train metric\n",
    "train_acc = accuracy_score(y_train, y_pred)\n",
    "train_prec = precision_score(y_train, y_pred)\n",
    "train_recall = recall_score(y_train, y_pred)\n",
    "print(\"Train Accuracy:\", train_acc.round(2))\n",
    "print(\"Train Precision:\", train_prec.round(2))\n",
    "print(\"Train Recall:\", train_recall.round(2))\n",
    "\n",
    "# Val metric\n",
    "val_acc = accuracy_score(y_val, y_val_pred)\n",
    "val_prec = precision_score(y_val, y_val_pred)\n",
    "val_recall = recall_score(y_val, y_val_pred)\n",
    "print(\"\\nValidation Accuracy:\", val_acc.round(2))\n",
    "print(\"Validation Precision:\", val_prec.round(2))\n",
    "print(\"Validation Recall:\", val_recall.round(2))"
   ]
  },
  {
   "cell_type": "code",
   "execution_count": 68,
   "id": "08958156",
   "metadata": {},
   "outputs": [
    {
     "data": {
      "text/plain": [
       "{'classifier__n_estimators': 150,\n",
       " 'classifier__min_samples_split': 5,\n",
       " 'classifier__max_features': 0.4,\n",
       " 'classifier__max_depth': 9}"
      ]
     },
     "execution_count": 68,
     "metadata": {},
     "output_type": "execute_result"
    }
   ],
   "source": [
    "random_cv.best_params_"
   ]
  },
  {
   "cell_type": "markdown",
   "id": "f64740d3",
   "metadata": {},
   "source": [
    "## Error Analysis / Postprocessing"
   ]
  },
  {
   "cell_type": "code",
   "execution_count": null,
   "id": "6b867af8",
   "metadata": {},
   "outputs": [],
   "source": []
  },
  {
   "cell_type": "markdown",
   "id": "d1274dbe",
   "metadata": {},
   "source": [
    "### Learning Curve"
   ]
  },
  {
   "cell_type": "code",
   "execution_count": 71,
   "id": "34f5ab88",
   "metadata": {},
   "outputs": [
    {
     "name": "stdout",
     "output_type": "stream",
     "text": [
      "[learning_curve] Training set sizes: [ 4000 13001 22002 31003 40004]\n"
     ]
    },
    {
     "name": "stderr",
     "output_type": "stream",
     "text": [
      "[Parallel(n_jobs=-1)]: Using backend LokyBackend with 8 concurrent workers.\n",
      "[Parallel(n_jobs=-1)]: Done   8 out of  15 | elapsed:    9.3s remaining:    8.1s\n",
      "[Parallel(n_jobs=-1)]: Done  15 out of  15 | elapsed:   16.6s finished\n"
     ]
    }
   ],
   "source": [
    "learning_result = learning_curve(random_cv.best_estimator_, X_train, y_train, scoring='recall', cv=3, n_jobs=-1, verbose=2)"
   ]
  },
  {
   "cell_type": "code",
   "execution_count": 78,
   "id": "a47a3ce2",
   "metadata": {},
   "outputs": [
    {
     "data": {
      "text/plain": [
       "array([ 4000, 13001, 22002, 31003, 40004])"
      ]
     },
     "execution_count": 78,
     "metadata": {},
     "output_type": "execute_result"
    }
   ],
   "source": [
    "learning_result[0]"
   ]
  },
  {
   "cell_type": "code",
   "execution_count": 81,
   "id": "8f9dc7fe",
   "metadata": {},
   "outputs": [
    {
     "data": {
      "text/plain": [
       "array([0.82549633, 0.79680821, 0.7953167 , 0.76943843, 0.7461986 ])"
      ]
     },
     "execution_count": 81,
     "metadata": {},
     "output_type": "execute_result"
    }
   ],
   "source": [
    "np.mean(learning_result[1], axis=1)"
   ]
  },
  {
   "cell_type": "code",
   "execution_count": 86,
   "id": "66477b5e",
   "metadata": {},
   "outputs": [
    {
     "data": {
      "text/plain": [
       "(0.0, 1.0)"
      ]
     },
     "execution_count": 86,
     "metadata": {},
     "output_type": "execute_result"
    },
    {
     "data": {
      "image/png": "[encoded data removed]",
      "text/plain": [
       "<Figure size 432x288 with 1 Axes>"
      ]
     },
     "metadata": {
      "needs_background": "light"
     },
     "output_type": "display_data"
    }
   ],
   "source": [
    "plt.scatter(x=learning_result[0], y=np.mean(learning_result[1], axis=1))\n",
    "plt.scatter(x=learning_result[0], y=np.mean(learning_result[2], axis=1))\n",
    "plt.ylim([0, 1])"
   ]
  },
  {
   "cell_type": "code",
   "execution_count": null,
   "id": "726311f0",
   "metadata": {},
   "outputs": [],
   "source": []
  },
  {
   "cell_type": "code",
   "execution_count": 28,
   "id": "fc63af66",
   "metadata": {},
   "outputs": [
    {
     "data": {
      "text/plain": [
       "array(['x1_NORTHWEST/ROCKY MOUNTAIN AREA', 'x2_N', 'x2_T', 'x3_R', 'x4_U'],\n",
       "      dtype=object)"
      ]
     },
     "execution_count": 28,
     "metadata": {},
     "output_type": "execute_result"
    }
   ],
   "source": [
    "hot_names = pipeline.steps[0][1].named_transformers_['cat']['encoder'].get_feature_names()\n",
    "hot_idxs = pipeline.steps[0][1].named_transformers_['cat']['cat_selector'].get_support(indices=True)\n",
    "hot_names[hot_idxs]"
   ]
  },
  {
   "cell_type": "code",
   "execution_count": 29,
   "id": "4e60f836",
   "metadata": {},
   "outputs": [
    {
     "data": {
      "text/plain": [
       "array([ True,  True,  True,  True,  True, False,  True])"
      ]
     },
     "execution_count": 29,
     "metadata": {},
     "output_type": "execute_result"
    }
   ],
   "source": [
    "pipeline.steps[0][1].named_transformers_['num']['var_thr'].get_support()"
   ]
  },
  {
   "cell_type": "code",
   "execution_count": 30,
   "id": "1e1d2927",
   "metadata": {},
   "outputs": [
    {
     "data": {
      "text/plain": [
       "Index(['mou_opkv_Mean', 'months', 'uniqsubs', 'actvsubs', 'hnd_price',\n",
       "       'eqpdays'],\n",
       "      dtype='object')"
      ]
     },
     "execution_count": 30,
     "metadata": {},
     "output_type": "execute_result"
    }
   ],
   "source": [
    "# var_thr_names = pipeline.steps[0][1].named_transformers_['num']['var_thr'].get_feature_names()\n",
    "var_thr_idxs = pipeline.steps[0][1].named_transformers_['num']['var_thr'].get_support(indices=True)\n",
    "num_features[var_thr_idxs] "
   ]
  },
  {
   "cell_type": "code",
   "execution_count": 31,
   "id": "13640ef3",
   "metadata": {},
   "outputs": [
    {
     "ename": "ValueError",
     "evalue": "All arrays must be of the same length",
     "output_type": "error",
     "traceback": [
      "\u001b[1;31m---------------------------------------------------------------------------\u001b[0m",
      "\u001b[1;31mValueError\u001b[0m                                Traceback (most recent call last)",
      "\u001b[1;32m~\\AppData\\Local\\Temp/ipykernel_9996/1418212445.py\u001b[0m in \u001b[0;36m<module>\u001b[1;34m\u001b[0m\n\u001b[0;32m      2\u001b[0m \u001b[0mfeature_importances\u001b[0m \u001b[1;33m=\u001b[0m \u001b[0mpipeline\u001b[0m\u001b[1;33m.\u001b[0m\u001b[0msteps\u001b[0m\u001b[1;33m[\u001b[0m\u001b[1;36m1\u001b[0m\u001b[1;33m]\u001b[0m\u001b[1;33m[\u001b[0m\u001b[1;36m1\u001b[0m\u001b[1;33m]\u001b[0m\u001b[1;33m.\u001b[0m\u001b[0mfeature_importances_\u001b[0m\u001b[1;33m\u001b[0m\u001b[1;33m\u001b[0m\u001b[0m\n\u001b[0;32m      3\u001b[0m \u001b[1;33m\u001b[0m\u001b[0m\n\u001b[1;32m----> 4\u001b[1;33m \u001b[0mimportance_df\u001b[0m \u001b[1;33m=\u001b[0m \u001b[0mpd\u001b[0m\u001b[1;33m.\u001b[0m\u001b[0mDataFrame\u001b[0m\u001b[1;33m(\u001b[0m\u001b[1;33m{\u001b[0m\u001b[1;34m\"name\"\u001b[0m\u001b[1;33m:\u001b[0m\u001b[0mfeature_names\u001b[0m\u001b[1;33m,\u001b[0m \u001b[1;34m\"importance\"\u001b[0m\u001b[1;33m:\u001b[0m\u001b[0mfeature_importances\u001b[0m\u001b[1;33m}\u001b[0m\u001b[1;33m)\u001b[0m\u001b[1;33m\u001b[0m\u001b[1;33m\u001b[0m\u001b[0m\n\u001b[0m\u001b[0;32m      5\u001b[0m \u001b[0mimportance_df\u001b[0m \u001b[1;33m=\u001b[0m \u001b[0mimportance_df\u001b[0m\u001b[1;33m.\u001b[0m\u001b[0msort_values\u001b[0m\u001b[1;33m(\u001b[0m\u001b[0mby\u001b[0m\u001b[1;33m=\u001b[0m\u001b[1;34m'importance'\u001b[0m\u001b[1;33m,\u001b[0m \u001b[0mascending\u001b[0m\u001b[1;33m=\u001b[0m\u001b[1;32mFalse\u001b[0m\u001b[1;33m)\u001b[0m\u001b[1;33m\u001b[0m\u001b[1;33m\u001b[0m\u001b[0m\n\u001b[0;32m      6\u001b[0m \u001b[0mimportance_df\u001b[0m\u001b[1;33m.\u001b[0m\u001b[0mplot\u001b[0m\u001b[1;33m(\u001b[0m\u001b[0mkind\u001b[0m\u001b[1;33m=\u001b[0m\u001b[1;34m'bar'\u001b[0m\u001b[1;33m,\u001b[0m \u001b[0mx\u001b[0m\u001b[1;33m=\u001b[0m\u001b[1;34m'name'\u001b[0m\u001b[1;33m)\u001b[0m\u001b[1;33m\u001b[0m\u001b[1;33m\u001b[0m\u001b[0m\n",
      "\u001b[1;32m~\\anaconda3\\lib\\site-packages\\pandas\\core\\frame.py\u001b[0m in \u001b[0;36m__init__\u001b[1;34m(self, data, index, columns, dtype, copy)\u001b[0m\n\u001b[0;32m    612\u001b[0m         \u001b[1;32melif\u001b[0m \u001b[0misinstance\u001b[0m\u001b[1;33m(\u001b[0m\u001b[0mdata\u001b[0m\u001b[1;33m,\u001b[0m \u001b[0mdict\u001b[0m\u001b[1;33m)\u001b[0m\u001b[1;33m:\u001b[0m\u001b[1;33m\u001b[0m\u001b[1;33m\u001b[0m\u001b[0m\n\u001b[0;32m    613\u001b[0m             \u001b[1;31m# GH#38939 de facto copy defaults to False only in non-dict cases\u001b[0m\u001b[1;33m\u001b[0m\u001b[1;33m\u001b[0m\u001b[0m\n\u001b[1;32m--> 614\u001b[1;33m             \u001b[0mmgr\u001b[0m \u001b[1;33m=\u001b[0m \u001b[0mdict_to_mgr\u001b[0m\u001b[1;33m(\u001b[0m\u001b[0mdata\u001b[0m\u001b[1;33m,\u001b[0m \u001b[0mindex\u001b[0m\u001b[1;33m,\u001b[0m \u001b[0mcolumns\u001b[0m\u001b[1;33m,\u001b[0m \u001b[0mdtype\u001b[0m\u001b[1;33m=\u001b[0m\u001b[0mdtype\u001b[0m\u001b[1;33m,\u001b[0m \u001b[0mcopy\u001b[0m\u001b[1;33m=\u001b[0m\u001b[0mcopy\u001b[0m\u001b[1;33m,\u001b[0m \u001b[0mtyp\u001b[0m\u001b[1;33m=\u001b[0m\u001b[0mmanager\u001b[0m\u001b[1;33m)\u001b[0m\u001b[1;33m\u001b[0m\u001b[1;33m\u001b[0m\u001b[0m\n\u001b[0m\u001b[0;32m    615\u001b[0m         \u001b[1;32melif\u001b[0m \u001b[0misinstance\u001b[0m\u001b[1;33m(\u001b[0m\u001b[0mdata\u001b[0m\u001b[1;33m,\u001b[0m \u001b[0mma\u001b[0m\u001b[1;33m.\u001b[0m\u001b[0mMaskedArray\u001b[0m\u001b[1;33m)\u001b[0m\u001b[1;33m:\u001b[0m\u001b[1;33m\u001b[0m\u001b[1;33m\u001b[0m\u001b[0m\n\u001b[0;32m    616\u001b[0m             \u001b[1;32mimport\u001b[0m \u001b[0mnumpy\u001b[0m\u001b[1;33m.\u001b[0m\u001b[0mma\u001b[0m\u001b[1;33m.\u001b[0m\u001b[0mmrecords\u001b[0m \u001b[1;32mas\u001b[0m \u001b[0mmrecords\u001b[0m\u001b[1;33m\u001b[0m\u001b[1;33m\u001b[0m\u001b[0m\n",
      "\u001b[1;32m~\\anaconda3\\lib\\site-packages\\pandas\\core\\internals\\construction.py\u001b[0m in \u001b[0;36mdict_to_mgr\u001b[1;34m(data, index, columns, dtype, typ, copy)\u001b[0m\n\u001b[0;32m    462\u001b[0m         \u001b[1;31m# TODO: can we get rid of the dt64tz special case above?\u001b[0m\u001b[1;33m\u001b[0m\u001b[1;33m\u001b[0m\u001b[0m\n\u001b[0;32m    463\u001b[0m \u001b[1;33m\u001b[0m\u001b[0m\n\u001b[1;32m--> 464\u001b[1;33m     return arrays_to_mgr(\n\u001b[0m\u001b[0;32m    465\u001b[0m         \u001b[0marrays\u001b[0m\u001b[1;33m,\u001b[0m \u001b[0mdata_names\u001b[0m\u001b[1;33m,\u001b[0m \u001b[0mindex\u001b[0m\u001b[1;33m,\u001b[0m \u001b[0mcolumns\u001b[0m\u001b[1;33m,\u001b[0m \u001b[0mdtype\u001b[0m\u001b[1;33m=\u001b[0m\u001b[0mdtype\u001b[0m\u001b[1;33m,\u001b[0m \u001b[0mtyp\u001b[0m\u001b[1;33m=\u001b[0m\u001b[0mtyp\u001b[0m\u001b[1;33m,\u001b[0m \u001b[0mconsolidate\u001b[0m\u001b[1;33m=\u001b[0m\u001b[0mcopy\u001b[0m\u001b[1;33m\u001b[0m\u001b[1;33m\u001b[0m\u001b[0m\n\u001b[0;32m    466\u001b[0m     )\n",
      "\u001b[1;32m~\\anaconda3\\lib\\site-packages\\pandas\\core\\internals\\construction.py\u001b[0m in \u001b[0;36marrays_to_mgr\u001b[1;34m(arrays, arr_names, index, columns, dtype, verify_integrity, typ, consolidate)\u001b[0m\n\u001b[0;32m    117\u001b[0m         \u001b[1;31m# figure out the index, if necessary\u001b[0m\u001b[1;33m\u001b[0m\u001b[1;33m\u001b[0m\u001b[0m\n\u001b[0;32m    118\u001b[0m         \u001b[1;32mif\u001b[0m \u001b[0mindex\u001b[0m \u001b[1;32mis\u001b[0m \u001b[1;32mNone\u001b[0m\u001b[1;33m:\u001b[0m\u001b[1;33m\u001b[0m\u001b[1;33m\u001b[0m\u001b[0m\n\u001b[1;32m--> 119\u001b[1;33m             \u001b[0mindex\u001b[0m \u001b[1;33m=\u001b[0m \u001b[0m_extract_index\u001b[0m\u001b[1;33m(\u001b[0m\u001b[0marrays\u001b[0m\u001b[1;33m)\u001b[0m\u001b[1;33m\u001b[0m\u001b[1;33m\u001b[0m\u001b[0m\n\u001b[0m\u001b[0;32m    120\u001b[0m         \u001b[1;32melse\u001b[0m\u001b[1;33m:\u001b[0m\u001b[1;33m\u001b[0m\u001b[1;33m\u001b[0m\u001b[0m\n\u001b[0;32m    121\u001b[0m             \u001b[0mindex\u001b[0m \u001b[1;33m=\u001b[0m \u001b[0mensure_index\u001b[0m\u001b[1;33m(\u001b[0m\u001b[0mindex\u001b[0m\u001b[1;33m)\u001b[0m\u001b[1;33m\u001b[0m\u001b[1;33m\u001b[0m\u001b[0m\n",
      "\u001b[1;32m~\\anaconda3\\lib\\site-packages\\pandas\\core\\internals\\construction.py\u001b[0m in \u001b[0;36m_extract_index\u001b[1;34m(data)\u001b[0m\n\u001b[0;32m    633\u001b[0m             \u001b[0mlengths\u001b[0m \u001b[1;33m=\u001b[0m \u001b[0mlist\u001b[0m\u001b[1;33m(\u001b[0m\u001b[0mset\u001b[0m\u001b[1;33m(\u001b[0m\u001b[0mraw_lengths\u001b[0m\u001b[1;33m)\u001b[0m\u001b[1;33m)\u001b[0m\u001b[1;33m\u001b[0m\u001b[1;33m\u001b[0m\u001b[0m\n\u001b[0;32m    634\u001b[0m             \u001b[1;32mif\u001b[0m \u001b[0mlen\u001b[0m\u001b[1;33m(\u001b[0m\u001b[0mlengths\u001b[0m\u001b[1;33m)\u001b[0m \u001b[1;33m>\u001b[0m \u001b[1;36m1\u001b[0m\u001b[1;33m:\u001b[0m\u001b[1;33m\u001b[0m\u001b[1;33m\u001b[0m\u001b[0m\n\u001b[1;32m--> 635\u001b[1;33m                 \u001b[1;32mraise\u001b[0m \u001b[0mValueError\u001b[0m\u001b[1;33m(\u001b[0m\u001b[1;34m\"All arrays must be of the same length\"\u001b[0m\u001b[1;33m)\u001b[0m\u001b[1;33m\u001b[0m\u001b[1;33m\u001b[0m\u001b[0m\n\u001b[0m\u001b[0;32m    636\u001b[0m \u001b[1;33m\u001b[0m\u001b[0m\n\u001b[0;32m    637\u001b[0m             \u001b[1;32mif\u001b[0m \u001b[0mhave_dicts\u001b[0m\u001b[1;33m:\u001b[0m\u001b[1;33m\u001b[0m\u001b[1;33m\u001b[0m\u001b[0m\n",
      "\u001b[1;31mValueError\u001b[0m: All arrays must be of the same length"
     ]
    }
   ],
   "source": [
    "feature_names = X_train.columns\n",
    "feature_importances = pipeline.steps[1][1].feature_importances_\n",
    "\n",
    "importance_df = pd.DataFrame({\"name\":feature_names, \"importance\":feature_importances})\n",
    "importance_df = importance_df.sort_values(by='importance', ascending=False)\n",
    "importance_df.plot(kind='bar', x='name')\n",
    "plt.show()"
   ]
  },
  {
   "cell_type": "code",
   "execution_count": null,
   "id": "c5dec8f7",
   "metadata": {},
   "outputs": [],
   "source": [
    "plt.bar(height=feature_importances, x=np.arange(0, len(feature_importances), 1))"
   ]
  },
  {
   "cell_type": "code",
   "execution_count": null,
   "id": "a70632a0",
   "metadata": {},
   "outputs": [],
   "source": []
  }
 ],
 "metadata": {
  "kernelspec": {
   "display_name": "Python 3 (ipykernel)",
   "language": "python",
   "name": "python3"
  },
  "language_info": {
   "codemirror_mode": {
    "name": "ipython",
    "version": 3
   },
   "file_extension": ".py",
   "mimetype": "text/x-python",
   "name": "python",
   "nbconvert_exporter": "python",
   "pygments_lexer": "ipython3",
   "version": "3.9.7"
  }
 },
 "nbformat": 4,
 "nbformat_minor": 5
}
