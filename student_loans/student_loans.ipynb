{
 "cells": [
  {
   "cell_type": "markdown",
   "metadata": {},
   "source": [
    "# Student Loans\n",
    "An upcoming financial institution wants to specialize in student loans and has contacted us in September of 2013 to look at their data.<br/>\n",
    "You are given three datasets:\n",
    "* college_features_2012_2013/2013_2014: contains general information about US colleges\n",
    "* loans_2012_2013: contains the amount and type of loans given to students studying at US colleges\n",
    "* default_rates_2012_2013/2011_2012: contains default rates of student loans studying at US colleges\n",
    "\n",
    "Your task is to answer following questions as accurately as possible. Questions one and two will assess your general insight and business acumen. Questions three to six will test your data-analysis skills. Here you are not required to come up with a fully functional solution, however you should properly articulate your proposed approach on solving these problems.\n",
    "\n",
    "__Author: Daniel Grzebyk__\n",
    "\n",
    "__Date: 21.12.2020__"
   ]
  },
  {
   "cell_type": "code",
   "execution_count": 1,
   "metadata": {},
   "outputs": [
    {
     "name": "stderr",
     "output_type": "stream",
     "text": [
      "C:\\Users\\danie\\anaconda3\\envs\\o9\\lib\\site-packages\\xgboost\\compat.py:36: FutureWarning: pandas.Int64Index is deprecated and will be removed from pandas in a future version. Use pandas.Index with the appropriate dtype instead.\n",
      "  from pandas import MultiIndex, Int64Index\n"
     ]
    }
   ],
   "source": [
    "import joblib\n",
    "import pandas as pd\n",
    "import numpy as np\n",
    "import matplotlib.pyplot as plt\n",
    "import seaborn as sns\n",
    "import xgboost as xgb\n",
    "\n",
    "from sklearn.ensemble import RandomForestRegressor\n",
    "from sklearn.preprocessing import MinMaxScaler, OrdinalEncoder\n",
    "from sklearn.decomposition import PCA\n",
    "from sklearn.feature_selection import VarianceThreshold, SelectFromModel, RFE\n",
    "from sklearn.pipeline import Pipeline\n",
    "from sklearn.cluster import KMeans\n",
    "from sklearn.model_selection import train_test_split, RandomizedSearchCV\n",
    "from sklearn.metrics import mean_squared_error, mean_absolute_error\n",
    "\n",
    "from functions import display_component"
   ]
  },
  {
   "cell_type": "code",
   "execution_count": 2,
   "metadata": {},
   "outputs": [],
   "source": [
    "# Load data\n",
    "college_features_2014 = pd.read_csv('data/student_loans/Current Data/college_features_2013_2014.csv', index_col=['unitid'])\n",
    "college_features_df = pd.read_csv('data/student_loans/Historical Data/college_features_2012_2013.csv') # , index_col=['unitid']\n",
    "loans_df = pd.read_csv('data/student_loans/Historical Data/loans_2012_2013.csv') # , index_col=['opeid']\n",
    "rates_df = pd.read_csv('data/student_loans/Historical Data/default_rates_2012_2013.csv') # , index_col=['opeid']\n",
    "rates_old_df = pd.read_csv('data/student_loans/Historical Data/default_rates_2011_2012.csv') # , index_col=['opeid']\n",
    "\n",
    "features_description = pd.read_csv('data/student_loans/Historical Data/college_features_description.csv')\n",
    "loans_description = pd.read_csv('data/student_loans/Historical Data/loans_description.csv')"
   ]
  },
  {
   "cell_type": "markdown",
   "metadata": {},
   "source": [
    "## Data Cleaning"
   ]
  },
  {
   "cell_type": "code",
   "execution_count": 3,
   "metadata": {},
   "outputs": [
    {
     "data": {
      "text/plain": [
       "admission_rate                                                 70.370846\n",
       "admission_rate.all_campuses                                    66.187604\n",
       "sat_score_average                                              81.688695\n",
       "sat_score_average.all_campuses                                 80.238676\n",
       "average_faculty_salary                                         42.563839\n",
       "full_time_faculty                                              46.888233\n",
       "completion_rate_4yr_studies_150%_of_expected_time              68.907994\n",
       "completion_rate_less_than_4yr_studies_150%_of_expected_time    49.659951\n",
       "completion_rate_4yr_studies_200%_of_expected_time              73.078404\n",
       "completion_rate_less_than_4yr_studies_200%_of_expected_time    51.905556\n",
       "dtype: float64"
      ]
     },
     "execution_count": 3,
     "metadata": {},
     "output_type": "execute_result"
    }
   ],
   "source": [
    "# Display the % of NaNs for each column\n",
    "# print(loans_df.isna().sum()) # <-- no NaNs\n",
    "# print(rates_df.isna().sum()) # <-- no NaNs\n",
    "nans_fraction = college_features_df.isna().sum() / len(college_features_df) * 100\n",
    "nans_fraction[nans_fraction > 25]"
   ]
  },
  {
   "cell_type": "markdown",
   "metadata": {},
   "source": [
    "After manual investigation it was discovered that the above features have more than 42 % of missing values. This means using them for further analysis would remove almost half of the US colleges from the data set. Therefore, the features listed above are dropped."
   ]
  },
  {
   "cell_type": "code",
   "execution_count": 4,
   "metadata": {},
   "outputs": [
    {
     "name": "stdout",
     "output_type": "stream",
     "text": [
      "Shape before: (7793, 74)\n",
      "Shape after:  (7793, 64)\n",
      "Dropped 10 features: \n",
      "\n",
      " {'completion_rate_less_than_4yr_studies_200%_of_expected_time', 'sat_score_average.all_campuses', 'admission_rate', 'completion_rate_4yr_studies_150%_of_expected_time', 'admission_rate.all_campuses', 'completion_rate_less_than_4yr_studies_150%_of_expected_time', 'full_time_faculty', 'average_faculty_salary', 'completion_rate_4yr_studies_200%_of_expected_time', 'sat_score_average'}\n"
     ]
    }
   ],
   "source": [
    "# Drop columns containing more than 25 % of missing values\n",
    "old_features = college_features_df.columns\n",
    "print(\"Shape before:\", college_features_df.shape)\n",
    "college_features_df.dropna(thresh=len(college_features_df) * 0.75, axis=1, inplace=True)\n",
    "print(\"Shape after: \", college_features_df.shape)\n",
    "new_features = college_features_df.columns\n",
    "dropped_features = set(old_features) - set(new_features)\n",
    "print(f\"Dropped {len(dropped_features)} features: \\n\\n\", dropped_features)"
   ]
  },
  {
   "cell_type": "code",
   "execution_count": 5,
   "metadata": {},
   "outputs": [
    {
     "name": "stdout",
     "output_type": "stream",
     "text": [
      "Shape before: (7793, 64)\n",
      "Shape after:  (6799, 64)\n"
     ]
    }
   ],
   "source": [
    "# Drop rows containing missing values\n",
    "print(\"Shape before:\", college_features_df.shape)\n",
    "college_features_df.dropna(axis=0, inplace=True)\n",
    "print(\"Shape after: \", college_features_df.shape)"
   ]
  },
  {
   "cell_type": "code",
   "execution_count": 6,
   "metadata": {
    "scrolled": true
   },
   "outputs": [
    {
     "name": "stdout",
     "output_type": "stream",
     "text": [
      "Present dataframe shapes:\n",
      "Colleges:  (6799, 64)\n",
      "Loans:     (5650, 28)\n",
      "Rates:     (4712, 9)\n"
     ]
    }
   ],
   "source": [
    "print(\"Present dataframe shapes:\")\n",
    "print(\"Colleges: \", college_features_df.shape)\n",
    "print(\"Loans:    \", loans_df.shape)\n",
    "print(\"Rates:    \", rates_df.shape)"
   ]
  },
  {
   "cell_type": "code",
   "execution_count": 7,
   "metadata": {},
   "outputs": [
    {
     "data": {
      "text/plain": [
       "Index(['unitid', 'opeid', 'is_main_campus', 'number_of_branch_campuses',\n",
       "       'control', 'region', 'program_percentage.agriculture',\n",
       "       'program_percentage.resources', 'program_percentage.architecture',\n",
       "       'program_percentage.ethnic_cultural_gender',\n",
       "       'program_percentage.communication',\n",
       "       'program_percentage.communications_technology',\n",
       "       'program_percentage.computer', 'program_percentage.personal_culinary',\n",
       "       'program_percentage.education', 'program_percentage.engineering',\n",
       "       'program_percentage.engineering_technology',\n",
       "       'program_percentage.language',\n",
       "       'program_percentage.family_consumer_science',\n",
       "       'program_percentage.legal', 'program_percentage.english',\n",
       "       'program_percentage.humanities', 'program_percentage.library',\n",
       "       'program_percentage.biological', 'program_percentage.mathematics',\n",
       "       'program_percentage.military', 'program_percentage.multidiscipline',\n",
       "       'program_percentage.parks_recreation_fitness',\n",
       "       'program_percentage.philosophy_religious',\n",
       "       'program_percentage.theology_religious_vocation',\n",
       "       'program_percentage.physical_science',\n",
       "       'program_percentage.science_technology',\n",
       "       'program_percentage.psychology',\n",
       "       'program_percentage.security_law_enforcement',\n",
       "       'program_percentage.public_administration_social_service',\n",
       "       'program_percentage.social_science', 'program_percentage.construction',\n",
       "       'program_percentage.mechanic_repair_technology',\n",
       "       'program_percentage.precision_production',\n",
       "       'program_percentage.transportation',\n",
       "       'program_percentage.visual_performing', 'program_percentage.health',\n",
       "       'program_percentage.business_marketing', 'program_percentage.history',\n",
       "       'distance_only', 'undergrad_enrollment_size',\n",
       "       'demographics.race_ethnicity.white',\n",
       "       'demographics.race_ethnicity.black',\n",
       "       'demographics.race_ethnicity.hispanic',\n",
       "       'demographics.race_ethnicity.asian', 'demographics.race_ethnicity.aian',\n",
       "       'demographics.race_ethnicity.nhpi',\n",
       "       'demographics.race_ethnicity.two_or_more',\n",
       "       'demographics.race_ethnicity.non_resident_alien',\n",
       "       'demographics.race_ethnicity.unknown', 'part_time_students_share',\n",
       "       'net_tuition_revenue_per_full_time_equivalent_student',\n",
       "       'instructional_expenditure_per_fte',\n",
       "       'pell_grant_undergratuates_percentage',\n",
       "       'share_first_time_full_time_students'],\n",
       "      dtype='object')"
      ]
     },
     "execution_count": 7,
     "metadata": {},
     "output_type": "execute_result"
    }
   ],
   "source": [
    "# Identify feature types\n",
    "college_features_df.select_dtypes(include='number').columns"
   ]
  },
  {
   "cell_type": "code",
   "execution_count": 8,
   "metadata": {},
   "outputs": [
    {
     "data": {
      "text/plain": [
       "Index([], dtype='object')"
      ]
     },
     "execution_count": 8,
     "metadata": {},
     "output_type": "execute_result"
    }
   ],
   "source": [
    "college_features_df.select_dtypes(include='category').columns"
   ]
  },
  {
   "cell_type": "code",
   "execution_count": 9,
   "metadata": {},
   "outputs": [
    {
     "data": {
      "text/plain": [
       "Index(['name', 'city', 'state', 'zip'], dtype='object')"
      ]
     },
     "execution_count": 9,
     "metadata": {},
     "output_type": "execute_result"
    }
   ],
   "source": [
    "college_features_df.select_dtypes(include='object').columns"
   ]
  },
  {
   "cell_type": "markdown",
   "metadata": {},
   "source": [
    "_It is important to remember that correlation is not causation, and even though a person's origin might be correlated with his/her financial success, ethnicity should not be included while predicting the most profitable customers (or colleges). It is important than the created models remain racially unbiased._"
   ]
  },
  {
   "cell_type": "code",
   "execution_count": 10,
   "metadata": {},
   "outputs": [],
   "source": [
    "# Drop features which introduce racial bias\n",
    "demographic_features = ['demographics.race_ethnicity.white',\n",
    "                       'demographics.race_ethnicity.black',\n",
    "                       'demographics.race_ethnicity.hispanic',\n",
    "                       'demographics.race_ethnicity.asian',\n",
    "                       'demographics.race_ethnicity.aian',\n",
    "                       'demographics.race_ethnicity.nhpi',\n",
    "                       'demographics.race_ethnicity.two_or_more',\n",
    "                       'demographics.race_ethnicity.non_resident_alien',\n",
    "                       'demographics.race_ethnicity.unknown']\n",
    "\n",
    "college_features_df.drop(columns=demographic_features, inplace=True)"
   ]
  },
  {
   "cell_type": "markdown",
   "metadata": {},
   "source": [
    "### Looking for Outliers"
   ]
  },
  {
   "cell_type": "code",
   "execution_count": 11,
   "metadata": {},
   "outputs": [],
   "source": [
    "# Analyze program percentages separately\n",
    "program_percentage = ['program_percentage.agriculture',\n",
    "       'program_percentage.resources','program_percentage.architecture',\n",
    "       'program_percentage.ethnic_cultural_gender',\n",
    "       'program_percentage.communication',\n",
    "       'program_percentage.communications_technology',\n",
    "       'program_percentage.computer', 'program_percentage.personal_culinary',\n",
    "       'program_percentage.education', 'program_percentage.engineering',\n",
    "       'program_percentage.engineering_technology',\n",
    "       'program_percentage.language',\n",
    "       'program_percentage.family_consumer_science',\n",
    "       'program_percentage.legal', 'program_percentage.english',\n",
    "       'program_percentage.humanities', 'program_percentage.library',\n",
    "       'program_percentage.biological', 'program_percentage.mathematics',\n",
    "       'program_percentage.military', 'program_percentage.multidiscipline',\n",
    "       'program_percentage.parks_recreation_fitness',\n",
    "       'program_percentage.philosophy_religious',\n",
    "       'program_percentage.theology_religious_vocation',\n",
    "       'program_percentage.physical_science',\n",
    "       'program_percentage.science_technology',\n",
    "       'program_percentage.psychology',\n",
    "       'program_percentage.security_law_enforcement',\n",
    "       'program_percentage.public_administration_social_service',\n",
    "       'program_percentage.social_science', 'program_percentage.construction',\n",
    "       'program_percentage.mechanic_repair_technology',\n",
    "       'program_percentage.precision_production',\n",
    "       'program_percentage.transportation',\n",
    "       'program_percentage.visual_performing', 'program_percentage.health',\n",
    "       'program_percentage.business_marketing', 'program_percentage.history']"
   ]
  },
  {
   "cell_type": "code",
   "execution_count": 12,
   "metadata": {},
   "outputs": [
    {
     "data": {
      "text/plain": [
       "count    6799.000000\n",
       "mean        0.992206\n",
       "std         0.087953\n",
       "min         0.000000\n",
       "25%         1.000000\n",
       "50%         1.000000\n",
       "75%         1.000000\n",
       "max         1.000600\n",
       "dtype: float64"
      ]
     },
     "execution_count": 12,
     "metadata": {},
     "output_type": "execute_result"
    }
   ],
   "source": [
    "# Looking for outliers in program percentages, confirming that program percentages stay between 0 and 1\n",
    "college_features_df[program_percentage].sum(axis=1).describe()"
   ]
  },
  {
   "cell_type": "code",
   "execution_count": 13,
   "metadata": {},
   "outputs": [
    {
     "data": {
      "text/html": [
       "<div>\n",
       "<style scoped>\n",
       "    .dataframe tbody tr th:only-of-type {\n",
       "        vertical-align: middle;\n",
       "    }\n",
       "\n",
       "    .dataframe tbody tr th {\n",
       "        vertical-align: top;\n",
       "    }\n",
       "\n",
       "    .dataframe thead th {\n",
       "        text-align: right;\n",
       "    }\n",
       "</style>\n",
       "<table border=\"1\" class=\"dataframe\">\n",
       "  <thead>\n",
       "    <tr style=\"text-align: right;\">\n",
       "      <th></th>\n",
       "      <th>unitid</th>\n",
       "      <th>opeid</th>\n",
       "      <th>is_main_campus</th>\n",
       "      <th>number_of_branch_campuses</th>\n",
       "      <th>control</th>\n",
       "      <th>region</th>\n",
       "      <th>distance_only</th>\n",
       "      <th>undergrad_enrollment_size</th>\n",
       "      <th>part_time_students_share</th>\n",
       "      <th>net_tuition_revenue_per_full_time_equivalent_student</th>\n",
       "      <th>instructional_expenditure_per_fte</th>\n",
       "      <th>pell_grant_undergratuates_percentage</th>\n",
       "      <th>share_first_time_full_time_students</th>\n",
       "    </tr>\n",
       "  </thead>\n",
       "  <tbody>\n",
       "    <tr>\n",
       "      <th>count</th>\n",
       "      <td>6799.000000</td>\n",
       "      <td>6799.000000</td>\n",
       "      <td>6799.000000</td>\n",
       "      <td>6799.000000</td>\n",
       "      <td>6799.000000</td>\n",
       "      <td>6799.000000</td>\n",
       "      <td>6799.000000</td>\n",
       "      <td>6799.000000</td>\n",
       "      <td>6799.000000</td>\n",
       "      <td>6.799000e+03</td>\n",
       "      <td>6799.000000</td>\n",
       "      <td>6799.000000</td>\n",
       "      <td>6799.000000</td>\n",
       "    </tr>\n",
       "    <tr>\n",
       "      <th>mean</th>\n",
       "      <td>278724.481541</td>\n",
       "      <td>15999.392411</td>\n",
       "      <td>0.779526</td>\n",
       "      <td>7.334314</td>\n",
       "      <td>2.204883</td>\n",
       "      <td>4.621121</td>\n",
       "      <td>0.003971</td>\n",
       "      <td>2461.851155</td>\n",
       "      <td>0.222103</td>\n",
       "      <td>9.275990e+03</td>\n",
       "      <td>6075.956464</td>\n",
       "      <td>0.537395</td>\n",
       "      <td>0.674417</td>\n",
       "    </tr>\n",
       "    <tr>\n",
       "      <th>std</th>\n",
       "      <td>130197.322147</td>\n",
       "      <td>13436.423390</td>\n",
       "      <td>0.414597</td>\n",
       "      <td>23.179205</td>\n",
       "      <td>0.857928</td>\n",
       "      <td>2.160247</td>\n",
       "      <td>0.062897</td>\n",
       "      <td>5772.607406</td>\n",
       "      <td>0.237680</td>\n",
       "      <td>1.477162e+04</td>\n",
       "      <td>9911.453454</td>\n",
       "      <td>0.223578</td>\n",
       "      <td>0.277313</td>\n",
       "    </tr>\n",
       "    <tr>\n",
       "      <th>min</th>\n",
       "      <td>100654.000000</td>\n",
       "      <td>1002.000000</td>\n",
       "      <td>0.000000</td>\n",
       "      <td>1.000000</td>\n",
       "      <td>1.000000</td>\n",
       "      <td>0.000000</td>\n",
       "      <td>0.000000</td>\n",
       "      <td>3.000000</td>\n",
       "      <td>0.000000</td>\n",
       "      <td>0.000000e+00</td>\n",
       "      <td>0.000000</td>\n",
       "      <td>0.000000</td>\n",
       "      <td>0.000000</td>\n",
       "    </tr>\n",
       "    <tr>\n",
       "      <th>25%</th>\n",
       "      <td>169725.000000</td>\n",
       "      <td>3491.000000</td>\n",
       "      <td>1.000000</td>\n",
       "      <td>1.000000</td>\n",
       "      <td>1.000000</td>\n",
       "      <td>3.000000</td>\n",
       "      <td>0.000000</td>\n",
       "      <td>136.000000</td>\n",
       "      <td>0.000000</td>\n",
       "      <td>3.825000e+03</td>\n",
       "      <td>2950.000000</td>\n",
       "      <td>0.368450</td>\n",
       "      <td>0.476945</td>\n",
       "    </tr>\n",
       "    <tr>\n",
       "      <th>50%</th>\n",
       "      <td>220808.000000</td>\n",
       "      <td>10490.000000</td>\n",
       "      <td>1.000000</td>\n",
       "      <td>1.000000</td>\n",
       "      <td>2.000000</td>\n",
       "      <td>5.000000</td>\n",
       "      <td>0.000000</td>\n",
       "      <td>498.000000</td>\n",
       "      <td>0.151700</td>\n",
       "      <td>8.015000e+03</td>\n",
       "      <td>4706.000000</td>\n",
       "      <td>0.532300</td>\n",
       "      <td>0.706897</td>\n",
       "    </tr>\n",
       "    <tr>\n",
       "      <th>75%</th>\n",
       "      <td>438276.000000</td>\n",
       "      <td>25624.000000</td>\n",
       "      <td>1.000000</td>\n",
       "      <td>2.000000</td>\n",
       "      <td>3.000000</td>\n",
       "      <td>6.000000</td>\n",
       "      <td>0.000000</td>\n",
       "      <td>2084.500000</td>\n",
       "      <td>0.377400</td>\n",
       "      <td>1.253850e+04</td>\n",
       "      <td>7087.000000</td>\n",
       "      <td>0.711550</td>\n",
       "      <td>0.953987</td>\n",
       "    </tr>\n",
       "    <tr>\n",
       "      <th>max</th>\n",
       "      <td>480523.000000</td>\n",
       "      <td>42176.000000</td>\n",
       "      <td>1.000000</td>\n",
       "      <td>141.000000</td>\n",
       "      <td>3.000000</td>\n",
       "      <td>9.000000</td>\n",
       "      <td>1.000000</td>\n",
       "      <td>205286.000000</td>\n",
       "      <td>1.000000</td>\n",
       "      <td>1.056528e+06</td>\n",
       "      <td>606843.000000</td>\n",
       "      <td>1.000000</td>\n",
       "      <td>1.000000</td>\n",
       "    </tr>\n",
       "  </tbody>\n",
       "</table>\n",
       "</div>"
      ],
      "text/plain": [
       "              unitid         opeid  is_main_campus  number_of_branch_campuses  \\\n",
       "count    6799.000000   6799.000000     6799.000000                6799.000000   \n",
       "mean   278724.481541  15999.392411        0.779526                   7.334314   \n",
       "std    130197.322147  13436.423390        0.414597                  23.179205   \n",
       "min    100654.000000   1002.000000        0.000000                   1.000000   \n",
       "25%    169725.000000   3491.000000        1.000000                   1.000000   \n",
       "50%    220808.000000  10490.000000        1.000000                   1.000000   \n",
       "75%    438276.000000  25624.000000        1.000000                   2.000000   \n",
       "max    480523.000000  42176.000000        1.000000                 141.000000   \n",
       "\n",
       "           control       region  distance_only  undergrad_enrollment_size  \\\n",
       "count  6799.000000  6799.000000    6799.000000                6799.000000   \n",
       "mean      2.204883     4.621121       0.003971                2461.851155   \n",
       "std       0.857928     2.160247       0.062897                5772.607406   \n",
       "min       1.000000     0.000000       0.000000                   3.000000   \n",
       "25%       1.000000     3.000000       0.000000                 136.000000   \n",
       "50%       2.000000     5.000000       0.000000                 498.000000   \n",
       "75%       3.000000     6.000000       0.000000                2084.500000   \n",
       "max       3.000000     9.000000       1.000000              205286.000000   \n",
       "\n",
       "       part_time_students_share  \\\n",
       "count               6799.000000   \n",
       "mean                   0.222103   \n",
       "std                    0.237680   \n",
       "min                    0.000000   \n",
       "25%                    0.000000   \n",
       "50%                    0.151700   \n",
       "75%                    0.377400   \n",
       "max                    1.000000   \n",
       "\n",
       "       net_tuition_revenue_per_full_time_equivalent_student  \\\n",
       "count                                       6.799000e+03      \n",
       "mean                                        9.275990e+03      \n",
       "std                                         1.477162e+04      \n",
       "min                                         0.000000e+00      \n",
       "25%                                         3.825000e+03      \n",
       "50%                                         8.015000e+03      \n",
       "75%                                         1.253850e+04      \n",
       "max                                         1.056528e+06      \n",
       "\n",
       "       instructional_expenditure_per_fte  \\\n",
       "count                        6799.000000   \n",
       "mean                         6075.956464   \n",
       "std                          9911.453454   \n",
       "min                             0.000000   \n",
       "25%                          2950.000000   \n",
       "50%                          4706.000000   \n",
       "75%                          7087.000000   \n",
       "max                        606843.000000   \n",
       "\n",
       "       pell_grant_undergratuates_percentage  \\\n",
       "count                           6799.000000   \n",
       "mean                               0.537395   \n",
       "std                                0.223578   \n",
       "min                                0.000000   \n",
       "25%                                0.368450   \n",
       "50%                                0.532300   \n",
       "75%                                0.711550   \n",
       "max                                1.000000   \n",
       "\n",
       "       share_first_time_full_time_students  \n",
       "count                          6799.000000  \n",
       "mean                              0.674417  \n",
       "std                               0.277313  \n",
       "min                               0.000000  \n",
       "25%                               0.476945  \n",
       "50%                               0.706897  \n",
       "75%                               0.953987  \n",
       "max                               1.000000  "
      ]
     },
     "execution_count": 13,
     "metadata": {},
     "output_type": "execute_result"
    }
   ],
   "source": [
    "college_features_df.drop(columns=program_percentage).select_dtypes(include='number').describe()"
   ]
  },
  {
   "cell_type": "markdown",
   "metadata": {},
   "source": [
    "Suspiciously large differences between max value and the third quartile are observed in _number_of_branch_campuses, undergrad_enrollment_size, net_tuition_revenue_per_full_time_equivalent_student, instructional_expenditure_per_fte_."
   ]
  },
  {
   "cell_type": "code",
   "execution_count": 20,
   "metadata": {},
   "outputs": [],
   "source": [
    "# This seems to be right-skewed normal distribution\n",
    "# If it is a normal distribution we can drop outliers grear than 3 sigma\n",
    "\n"
   ]
  },
  {
   "cell_type": "code",
   "execution_count": 21,
   "metadata": {},
   "outputs": [
    {
     "data": {
      "text/plain": [
       "<seaborn.axisgrid.FacetGrid at 0x180a17cfe80>"
      ]
     },
     "execution_count": 21,
     "metadata": {},
     "output_type": "execute_result"
    },
    {
     "data": {
      "image/png": "[encoded data removed]",
      "text/plain": [
       "<Figure size 360x360 with 1 Axes>"
      ]
     },
     "metadata": {
      "needs_background": "light"
     },
     "output_type": "display_data"
    }
   ],
   "source": [
    "sns.displot(data=college_features_df, x=\"instructional_expenditure_per_fte\", binwidth=1000, binrange=(0, 50000))"
   ]
  },
  {
   "cell_type": "code",
   "execution_count": 14,
   "metadata": {},
   "outputs": [
    {
     "data": {
      "text/plain": [
       "<seaborn.axisgrid.FacetGrid at 0x19115e014c0>"
      ]
     },
     "execution_count": 14,
     "metadata": {},
     "output_type": "execute_result"
    },
    {
     "data": {
      "image/png": "[encoded data removed]",
      "text/plain": [
       "<Figure size 360x360 with 1 Axes>"
      ]
     },
     "metadata": {
      "needs_background": "light"
     },
     "output_type": "display_data"
    }
   ],
   "source": [
    "sns.displot(data=college_features_df, x=\"net_tuition_revenue_per_full_time_equivalent_student\", \n",
    "            binwidth=2500, binrange=(0,50000))"
   ]
  },
  {
   "cell_type": "code",
   "execution_count": 19,
   "metadata": {},
   "outputs": [
    {
     "name": "stdout",
     "output_type": "stream",
     "text": [
      "75th quantile:  2.0\n",
      "95th quantile:  31.0\n"
     ]
    },
    {
     "data": {
      "image/png": "[encoded data removed]",
      "text/plain": [
       "<Figure size 360x360 with 1 Axes>"
      ]
     },
     "metadata": {
      "needs_background": "light"
     },
     "output_type": "display_data"
    }
   ],
   "source": [
    "q75 = college_features_df['number_of_branch_campuses'].quantile(0.75)\n",
    "q95 = college_features_df['number_of_branch_campuses'].quantile(0.95)\n",
    "print(\"75th quantile: \", q75)\n",
    "print(\"95th quantile: \", q95)\n",
    "sns.displot(data=college_features_df, x=\"number_of_branch_campuses\", palette=\"black\", binwidth=5)\n",
    "plt.show()\n",
    "plt.close()"
   ]
  },
  {
   "cell_type": "code",
   "execution_count": 16,
   "metadata": {},
   "outputs": [
    {
     "name": "stdout",
     "output_type": "stream",
     "text": [
      "(16, 54)\n",
      "(20, 54)\n",
      "(312, 54)\n"
     ]
    }
   ],
   "source": [
    "# Count outliers\n",
    "print(college_features_df[college_features_df['net_tuition_revenue_per_full_time_equivalent_student'] > 50000].shape)\n",
    "print(college_features_df[college_features_df['instructional_expenditure_per_fte'] > 50000].shape)\n",
    "print(college_features_df[college_features_df['number_of_branch_campuses'] > 40].shape)"
   ]
  },
  {
   "cell_type": "markdown",
   "metadata": {},
   "source": [
    "In this study analysing outliers in not critical, as they would be in case of anomaly detection or predictive maintenance. Outliers are also a minority of the data. Therefore, for simplicity the outliers can be safely removed. Dropping the outliers below removes colleges with net tuition revenue or instructional expenditure per fte student exceeding 50,000 USD. This eliminates very expensive schools from the analysis. \n",
    "\n",
    "On the other hand, it is unlikely that a college has tuition fee exceeding 1 mln USD which probably is an example of corrupt data.\n",
    "\n",
    "It was decided not to remove colleges with suspiciously large number of campuses (141). <-- WHY?"
   ]
  },
  {
   "cell_type": "code",
   "execution_count": 17,
   "metadata": {
    "scrolled": true
   },
   "outputs": [],
   "source": [
    "# Drop outliers\n",
    "college_features_df = college_features_df[college_features_df['instructional_expenditure_per_fte'] <= 50000]\n",
    "college_features_df = college_features_df[college_features_df['net_tuition_revenue_per_full_time_equivalent_student'] <= 50000]\n",
    "# college_features_df = college_features_df[college_features_df['number_of_branch_campuses'] <= 40]"
   ]
  },
  {
   "cell_type": "code",
   "execution_count": 47,
   "metadata": {},
   "outputs": [
    {
     "data": {
      "text/html": [
       "<div>\n",
       "<style scoped>\n",
       "    .dataframe tbody tr th:only-of-type {\n",
       "        vertical-align: middle;\n",
       "    }\n",
       "\n",
       "    .dataframe tbody tr th {\n",
       "        vertical-align: top;\n",
       "    }\n",
       "\n",
       "    .dataframe thead th {\n",
       "        text-align: right;\n",
       "    }\n",
       "</style>\n",
       "<table border=\"1\" class=\"dataframe\">\n",
       "  <thead>\n",
       "    <tr style=\"text-align: right;\">\n",
       "      <th></th>\n",
       "      <th>opeid</th>\n",
       "      <th>subsidized_disbursements_nb</th>\n",
       "      <th>unsubsidized_undergraduate_disbursements_nb</th>\n",
       "      <th>unsubsidized_graduate_disbursements_nb</th>\n",
       "      <th>parent_plus_disbursements_nb</th>\n",
       "      <th>graduate_plus_disbursements_nb</th>\n",
       "    </tr>\n",
       "  </thead>\n",
       "  <tbody>\n",
       "    <tr>\n",
       "      <th>count</th>\n",
       "      <td>5650.000000</td>\n",
       "      <td>5650.000000</td>\n",
       "      <td>5650.000000</td>\n",
       "      <td>5650.000000</td>\n",
       "      <td>5650.000000</td>\n",
       "      <td>5650.00000</td>\n",
       "    </tr>\n",
       "    <tr>\n",
       "      <th>mean</th>\n",
       "      <td>16242.311504</td>\n",
       "      <td>2811.530442</td>\n",
       "      <td>2774.193628</td>\n",
       "      <td>646.747611</td>\n",
       "      <td>264.414690</td>\n",
       "      <td>154.43292</td>\n",
       "    </tr>\n",
       "    <tr>\n",
       "      <th>std</th>\n",
       "      <td>14395.899789</td>\n",
       "      <td>9536.575982</td>\n",
       "      <td>9890.472572</td>\n",
       "      <td>3521.183155</td>\n",
       "      <td>830.863571</td>\n",
       "      <td>747.94338</td>\n",
       "    </tr>\n",
       "    <tr>\n",
       "      <th>min</th>\n",
       "      <td>1002.000000</td>\n",
       "      <td>0.000000</td>\n",
       "      <td>0.000000</td>\n",
       "      <td>0.000000</td>\n",
       "      <td>0.000000</td>\n",
       "      <td>0.00000</td>\n",
       "    </tr>\n",
       "    <tr>\n",
       "      <th>25%</th>\n",
       "      <td>3165.250000</td>\n",
       "      <td>108.000000</td>\n",
       "      <td>97.250000</td>\n",
       "      <td>0.000000</td>\n",
       "      <td>0.000000</td>\n",
       "      <td>0.00000</td>\n",
       "    </tr>\n",
       "    <tr>\n",
       "      <th>50%</th>\n",
       "      <td>10059.500000</td>\n",
       "      <td>646.000000</td>\n",
       "      <td>573.000000</td>\n",
       "      <td>0.000000</td>\n",
       "      <td>16.000000</td>\n",
       "      <td>0.00000</td>\n",
       "    </tr>\n",
       "    <tr>\n",
       "      <th>75%</th>\n",
       "      <td>30107.750000</td>\n",
       "      <td>2582.000000</td>\n",
       "      <td>2523.750000</td>\n",
       "      <td>133.000000</td>\n",
       "      <td>164.000000</td>\n",
       "      <td>4.00000</td>\n",
       "    </tr>\n",
       "    <tr>\n",
       "      <th>max</th>\n",
       "      <td>42371.000000</td>\n",
       "      <td>430659.000000</td>\n",
       "      <td>449764.000000</td>\n",
       "      <td>108652.000000</td>\n",
       "      <td>18396.000000</td>\n",
       "      <td>16892.00000</td>\n",
       "    </tr>\n",
       "  </tbody>\n",
       "</table>\n",
       "</div>"
      ],
      "text/plain": [
       "              opeid  subsidized_disbursements_nb  \\\n",
       "count   5650.000000                  5650.000000   \n",
       "mean   16242.311504                  2811.530442   \n",
       "std    14395.899789                  9536.575982   \n",
       "min     1002.000000                     0.000000   \n",
       "25%     3165.250000                   108.000000   \n",
       "50%    10059.500000                   646.000000   \n",
       "75%    30107.750000                  2582.000000   \n",
       "max    42371.000000                430659.000000   \n",
       "\n",
       "       unsubsidized_undergraduate_disbursements_nb  \\\n",
       "count                                  5650.000000   \n",
       "mean                                   2774.193628   \n",
       "std                                    9890.472572   \n",
       "min                                       0.000000   \n",
       "25%                                      97.250000   \n",
       "50%                                     573.000000   \n",
       "75%                                    2523.750000   \n",
       "max                                  449764.000000   \n",
       "\n",
       "       unsubsidized_graduate_disbursements_nb  parent_plus_disbursements_nb  \\\n",
       "count                             5650.000000                   5650.000000   \n",
       "mean                               646.747611                    264.414690   \n",
       "std                               3521.183155                    830.863571   \n",
       "min                                  0.000000                      0.000000   \n",
       "25%                                  0.000000                      0.000000   \n",
       "50%                                  0.000000                     16.000000   \n",
       "75%                                133.000000                    164.000000   \n",
       "max                             108652.000000                  18396.000000   \n",
       "\n",
       "       graduate_plus_disbursements_nb  \n",
       "count                      5650.00000  \n",
       "mean                        154.43292  \n",
       "std                         747.94338  \n",
       "min                           0.00000  \n",
       "25%                           0.00000  \n",
       "50%                           0.00000  \n",
       "75%                           4.00000  \n",
       "max                       16892.00000  "
      ]
     },
     "execution_count": 47,
     "metadata": {},
     "output_type": "execute_result"
    }
   ],
   "source": [
    "loans_df.describe()"
   ]
  },
  {
   "cell_type": "code",
   "execution_count": 29,
   "metadata": {},
   "outputs": [
    {
     "data": {
      "text/html": [
       "<div>\n",
       "<style scoped>\n",
       "    .dataframe tbody tr th:only-of-type {\n",
       "        vertical-align: middle;\n",
       "    }\n",
       "\n",
       "    .dataframe tbody tr th {\n",
       "        vertical-align: top;\n",
       "    }\n",
       "\n",
       "    .dataframe thead th {\n",
       "        text-align: right;\n",
       "    }\n",
       "</style>\n",
       "<table border=\"1\" class=\"dataframe\">\n",
       "  <thead>\n",
       "    <tr style=\"text-align: right;\">\n",
       "      <th></th>\n",
       "      <th>opeid</th>\n",
       "      <th>number_of_defaults</th>\n",
       "      <th>number_of_loans</th>\n",
       "      <th>default_rate</th>\n",
       "    </tr>\n",
       "  </thead>\n",
       "  <tbody>\n",
       "    <tr>\n",
       "      <th>count</th>\n",
       "      <td>4712.000000</td>\n",
       "      <td>4712.000000</td>\n",
       "      <td>4712.000000</td>\n",
       "      <td>4712.000000</td>\n",
       "    </tr>\n",
       "    <tr>\n",
       "      <th>mean</th>\n",
       "      <td>14491.962436</td>\n",
       "      <td>120.747453</td>\n",
       "      <td>1094.505518</td>\n",
       "      <td>10.609041</td>\n",
       "    </tr>\n",
       "    <tr>\n",
       "      <th>std</th>\n",
       "      <td>14059.273862</td>\n",
       "      <td>516.664124</td>\n",
       "      <td>3690.023766</td>\n",
       "      <td>7.583603</td>\n",
       "    </tr>\n",
       "    <tr>\n",
       "      <th>min</th>\n",
       "      <td>1002.000000</td>\n",
       "      <td>0.000000</td>\n",
       "      <td>0.000000</td>\n",
       "      <td>0.000000</td>\n",
       "    </tr>\n",
       "    <tr>\n",
       "      <th>25%</th>\n",
       "      <td>2847.750000</td>\n",
       "      <td>7.000000</td>\n",
       "      <td>93.000000</td>\n",
       "      <td>4.400000</td>\n",
       "    </tr>\n",
       "    <tr>\n",
       "      <th>50%</th>\n",
       "      <td>7691.500000</td>\n",
       "      <td>26.500000</td>\n",
       "      <td>337.000000</td>\n",
       "      <td>9.300000</td>\n",
       "    </tr>\n",
       "    <tr>\n",
       "      <th>75%</th>\n",
       "      <td>25124.750000</td>\n",
       "      <td>105.000000</td>\n",
       "      <td>1029.000000</td>\n",
       "      <td>15.700000</td>\n",
       "    </tr>\n",
       "    <tr>\n",
       "      <th>max</th>\n",
       "      <td>42636.000000</td>\n",
       "      <td>26004.000000</td>\n",
       "      <td>194107.000000</td>\n",
       "      <td>60.000000</td>\n",
       "    </tr>\n",
       "  </tbody>\n",
       "</table>\n",
       "</div>"
      ],
      "text/plain": [
       "              opeid  number_of_defaults  number_of_loans  default_rate\n",
       "count   4712.000000         4712.000000      4712.000000   4712.000000\n",
       "mean   14491.962436          120.747453      1094.505518     10.609041\n",
       "std    14059.273862          516.664124      3690.023766      7.583603\n",
       "min     1002.000000            0.000000         0.000000      0.000000\n",
       "25%     2847.750000            7.000000        93.000000      4.400000\n",
       "50%     7691.500000           26.500000       337.000000      9.300000\n",
       "75%    25124.750000          105.000000      1029.000000     15.700000\n",
       "max    42636.000000        26004.000000    194107.000000     60.000000"
      ]
     },
     "execution_count": 29,
     "metadata": {},
     "output_type": "execute_result"
    }
   ],
   "source": [
    "rates_df.describe()"
   ]
  },
  {
   "cell_type": "code",
   "execution_count": 54,
   "metadata": {},
   "outputs": [
    {
     "data": {
      "text/html": [
       "<div>\n",
       "<style scoped>\n",
       "    .dataframe tbody tr th:only-of-type {\n",
       "        vertical-align: middle;\n",
       "    }\n",
       "\n",
       "    .dataframe tbody tr th {\n",
       "        vertical-align: top;\n",
       "    }\n",
       "\n",
       "    .dataframe thead th {\n",
       "        text-align: right;\n",
       "    }\n",
       "</style>\n",
       "<table border=\"1\" class=\"dataframe\">\n",
       "  <thead>\n",
       "    <tr style=\"text-align: right;\">\n",
       "      <th></th>\n",
       "      <th>opeid</th>\n",
       "      <th>name</th>\n",
       "      <th>address</th>\n",
       "      <th>city</th>\n",
       "      <th>state</th>\n",
       "      <th>zip</th>\n",
       "      <th>number_of_defaults</th>\n",
       "      <th>number_of_loans</th>\n",
       "      <th>default_rate</th>\n",
       "    </tr>\n",
       "  </thead>\n",
       "  <tbody>\n",
       "    <tr>\n",
       "      <th>3049</th>\n",
       "      <td>20988</td>\n",
       "      <td>UNIVERSITY OF PHOENIX                         ...</td>\n",
       "      <td>1625 WEST FOUNTAINHEAD PARKWAY                ...</td>\n",
       "      <td>TEMPE</td>\n",
       "      <td>AZ</td>\n",
       "      <td>85282</td>\n",
       "      <td>26004</td>\n",
       "      <td>194107</td>\n",
       "      <td>13.3</td>\n",
       "    </tr>\n",
       "    <tr>\n",
       "      <th>566</th>\n",
       "      <td>1881</td>\n",
       "      <td>ASHFORD UNIVERSITY                            ...</td>\n",
       "      <td>8620 SPECTRUM CENTER BOULEVARD                ...</td>\n",
       "      <td>SAN DIEGO</td>\n",
       "      <td>CA</td>\n",
       "      <td>92123</td>\n",
       "      <td>7545</td>\n",
       "      <td>51710</td>\n",
       "      <td>14.5</td>\n",
       "    </tr>\n",
       "    <tr>\n",
       "      <th>2759</th>\n",
       "      <td>10727</td>\n",
       "      <td>DEVRY UNIVERSITY                              ...</td>\n",
       "      <td>3300 NORTH CAMPBELL                           ...</td>\n",
       "      <td>CHICAGO</td>\n",
       "      <td>IL</td>\n",
       "      <td>60618</td>\n",
       "      <td>5388</td>\n",
       "      <td>50685</td>\n",
       "      <td>10.6</td>\n",
       "    </tr>\n",
       "    <tr>\n",
       "      <th>2644</th>\n",
       "      <td>9917</td>\n",
       "      <td>IVY TECH COMMUNITY COLLEGE OF INDIANA         ...</td>\n",
       "      <td>50 WEST FALL CREEK PARKWAY         NORTH DRIVE...</td>\n",
       "      <td>INDIANAPOLIS</td>\n",
       "      <td>IN</td>\n",
       "      <td>46208</td>\n",
       "      <td>9142</td>\n",
       "      <td>40497</td>\n",
       "      <td>22.5</td>\n",
       "    </tr>\n",
       "    <tr>\n",
       "      <th>312</th>\n",
       "      <td>1499</td>\n",
       "      <td>EVEREST UNIVERSITY                            ...</td>\n",
       "      <td>3319 WEST HILLSBOROUGH AVENUE                 ...</td>\n",
       "      <td>TAMPA</td>\n",
       "      <td>FL</td>\n",
       "      <td>33614</td>\n",
       "      <td>10377</td>\n",
       "      <td>38626</td>\n",
       "      <td>26.8</td>\n",
       "    </tr>\n",
       "  </tbody>\n",
       "</table>\n",
       "</div>"
      ],
      "text/plain": [
       "      opeid                                               name  \\\n",
       "3049  20988  UNIVERSITY OF PHOENIX                         ...   \n",
       "566    1881  ASHFORD UNIVERSITY                            ...   \n",
       "2759  10727  DEVRY UNIVERSITY                              ...   \n",
       "2644   9917  IVY TECH COMMUNITY COLLEGE OF INDIANA         ...   \n",
       "312    1499  EVEREST UNIVERSITY                            ...   \n",
       "\n",
       "                                                address                  city  \\\n",
       "3049  1625 WEST FOUNTAINHEAD PARKWAY                ...  TEMPE                  \n",
       "566   8620 SPECTRUM CENTER BOULEVARD                ...  SAN DIEGO              \n",
       "2759  3300 NORTH CAMPBELL                           ...  CHICAGO                \n",
       "2644  50 WEST FALL CREEK PARKWAY         NORTH DRIVE...  INDIANAPOLIS           \n",
       "312   3319 WEST HILLSBOROUGH AVENUE                 ...  TAMPA                  \n",
       "\n",
       "     state    zip  number_of_defaults  number_of_loans  default_rate  \n",
       "3049    AZ  85282               26004           194107          13.3  \n",
       "566     CA  92123                7545            51710          14.5  \n",
       "2759    IL  60618                5388            50685          10.6  \n",
       "2644    IN  46208                9142            40497          22.5  \n",
       "312     FL  33614               10377            38626          26.8  "
      ]
     },
     "execution_count": 54,
     "metadata": {},
     "output_type": "execute_result"
    }
   ],
   "source": [
    "rates_df.sort_values(by='number_of_loans', ascending=False).head()"
   ]
  },
  {
   "cell_type": "markdown",
   "metadata": {},
   "source": [
    "University of Phoenix is clearly an outlier in terms of number of loans and number of defaults. "
   ]
  },
  {
   "cell_type": "code",
   "execution_count": 33,
   "metadata": {},
   "outputs": [
    {
     "data": {
      "text/plain": [
       "<seaborn.axisgrid.FacetGrid at 0x180ad569af0>"
      ]
     },
     "execution_count": 33,
     "metadata": {},
     "output_type": "execute_result"
    },
    {
     "data": {
      "image/png": "[encoded data removed]",
      "text/plain": [
       "<Figure size 360x360 with 1 Axes>"
      ]
     },
     "metadata": {},
     "output_type": "display_data"
    }
   ],
   "source": [
    "sns.displot(data=rates_df, x=\"number_of_defaults\") # , binwidth=1000, binrange=(0, 50000))"
   ]
  },
  {
   "cell_type": "code",
   "execution_count": 22,
   "metadata": {},
   "outputs": [
    {
     "data": {
      "text/plain": [
       "<seaborn.axisgrid.FacetGrid at 0x19115eb0e20>"
      ]
     },
     "execution_count": 22,
     "metadata": {},
     "output_type": "execute_result"
    },
    {
     "data": {
      "image/png": "[encoded data removed]",
      "text/plain": [
       "<Figure size 360x360 with 1 Axes>"
      ]
     },
     "metadata": {
      "needs_background": "light"
     },
     "output_type": "display_data"
    }
   ],
   "source": [
    "# undergrad_enrollment_size, number_of_branch_campuses\n",
    "sns.displot(data=college_features_df, x=\"control\", palette=\"black\")"
   ]
  },
  {
   "cell_type": "code",
   "execution_count": 20,
   "metadata": {},
   "outputs": [],
   "source": [
    "# Clean features to conveniently manipulate dataframes\n",
    "loans_df = loans_df.replace({'\\$-':0,'\\$':'',\"\\,\":'',\"-\":0}, regex = True)\n",
    "rates_df = rates_df.replace({'\\$-':0,'\\$':'',\"\\,\":'',\"-\":0}, regex = True)"
   ]
  },
  {
   "cell_type": "markdown",
   "metadata": {},
   "source": [
    "### End of looking for outliers"
   ]
  },
  {
   "cell_type": "markdown",
   "metadata": {},
   "source": [
    "Alignment drops all colleges which are not present in all three DataFrames. This decision is valid, as data from all three data sources is required to give informed answers in the exercies below."
   ]
  },
  {
   "cell_type": "code",
   "execution_count": 23,
   "metadata": {},
   "outputs": [
    {
     "name": "stdout",
     "output_type": "stream",
     "text": [
      "INFO: features DataFrame contains 0 duplicate indexes\n"
     ]
    },
    {
     "data": {
      "text/html": [
       "<div>\n",
       "<style scoped>\n",
       "    .dataframe tbody tr th:only-of-type {\n",
       "        vertical-align: middle;\n",
       "    }\n",
       "\n",
       "    .dataframe tbody tr th {\n",
       "        vertical-align: top;\n",
       "    }\n",
       "\n",
       "    .dataframe thead th {\n",
       "        text-align: right;\n",
       "    }\n",
       "</style>\n",
       "<table border=\"1\" class=\"dataframe\">\n",
       "  <thead>\n",
       "    <tr style=\"text-align: right;\">\n",
       "      <th></th>\n",
       "      <th>name</th>\n",
       "      <th>city</th>\n",
       "      <th>state</th>\n",
       "      <th>zip</th>\n",
       "      <th>is_main_campus</th>\n",
       "      <th>number_of_branch_campuses</th>\n",
       "      <th>control</th>\n",
       "      <th>region</th>\n",
       "      <th>program_percentage.agriculture</th>\n",
       "      <th>program_percentage.resources</th>\n",
       "      <th>...</th>\n",
       "      <th>parent_plus_disbursements_usd</th>\n",
       "      <th>graduate_plus_recipients</th>\n",
       "      <th>graduate_plus_loans_originated_nb</th>\n",
       "      <th>graduate_plus_loans_originated_usd</th>\n",
       "      <th>graduate_plus_disbursements_nb</th>\n",
       "      <th>graduate_plus_disbursements_usd</th>\n",
       "      <th>number_of_defaults</th>\n",
       "      <th>number_of_loans</th>\n",
       "      <th>default_rate</th>\n",
       "      <th>opeid</th>\n",
       "    </tr>\n",
       "    <tr>\n",
       "      <th>unitid</th>\n",
       "      <th></th>\n",
       "      <th></th>\n",
       "      <th></th>\n",
       "      <th></th>\n",
       "      <th></th>\n",
       "      <th></th>\n",
       "      <th></th>\n",
       "      <th></th>\n",
       "      <th></th>\n",
       "      <th></th>\n",
       "      <th></th>\n",
       "      <th></th>\n",
       "      <th></th>\n",
       "      <th></th>\n",
       "      <th></th>\n",
       "      <th></th>\n",
       "      <th></th>\n",
       "      <th></th>\n",
       "      <th></th>\n",
       "      <th></th>\n",
       "      <th></th>\n",
       "    </tr>\n",
       "  </thead>\n",
       "  <tbody>\n",
       "    <tr>\n",
       "      <th>100654</th>\n",
       "      <td>Alabama A &amp; M University</td>\n",
       "      <td>Normal</td>\n",
       "      <td>AL</td>\n",
       "      <td>35762</td>\n",
       "      <td>1</td>\n",
       "      <td>1</td>\n",
       "      <td>1</td>\n",
       "      <td>5</td>\n",
       "      <td>0.0451</td>\n",
       "      <td>0.015</td>\n",
       "      <td>...</td>\n",
       "      <td>$4,295,525.00</td>\n",
       "      <td>42</td>\n",
       "      <td>54</td>\n",
       "      <td>$288,898.00</td>\n",
       "      <td>100.0</td>\n",
       "      <td>$288,897.00</td>\n",
       "      <td>300.0</td>\n",
       "      <td>1812.0</td>\n",
       "      <td>16.5</td>\n",
       "      <td>1002</td>\n",
       "    </tr>\n",
       "    <tr>\n",
       "      <th>100663</th>\n",
       "      <td>University of Alabama at Birmingham</td>\n",
       "      <td>Birmingham</td>\n",
       "      <td>AL</td>\n",
       "      <td>35294-0110</td>\n",
       "      <td>1</td>\n",
       "      <td>1</td>\n",
       "      <td>1</td>\n",
       "      <td>5</td>\n",
       "      <td>0.0000</td>\n",
       "      <td>0.000</td>\n",
       "      <td>...</td>\n",
       "      <td>$3,775,816.00</td>\n",
       "      <td>463</td>\n",
       "      <td>527</td>\n",
       "      <td>$7,122,307.00</td>\n",
       "      <td>1079.0</td>\n",
       "      <td>$6,939,348.00</td>\n",
       "      <td>223.0</td>\n",
       "      <td>4159.0</td>\n",
       "      <td>5.3</td>\n",
       "      <td>1052</td>\n",
       "    </tr>\n",
       "    <tr>\n",
       "      <th>100690</th>\n",
       "      <td>Amridge University</td>\n",
       "      <td>Montgomery</td>\n",
       "      <td>AL</td>\n",
       "      <td>36117-3553</td>\n",
       "      <td>1</td>\n",
       "      <td>1</td>\n",
       "      <td>2</td>\n",
       "      <td>5</td>\n",
       "      <td>0.0000</td>\n",
       "      <td>0.000</td>\n",
       "      <td>...</td>\n",
       "      <td>$6,680.00</td>\n",
       "      <td>31</td>\n",
       "      <td>31</td>\n",
       "      <td>$472,465.00</td>\n",
       "      <td>74.0</td>\n",
       "      <td>$462,888.00</td>\n",
       "      <td>38.0</td>\n",
       "      <td>380.0</td>\n",
       "      <td>10.0</td>\n",
       "      <td>25034</td>\n",
       "    </tr>\n",
       "    <tr>\n",
       "      <th>100706</th>\n",
       "      <td>University of Alabama in Huntsville</td>\n",
       "      <td>Huntsville</td>\n",
       "      <td>AL</td>\n",
       "      <td>35899</td>\n",
       "      <td>1</td>\n",
       "      <td>1</td>\n",
       "      <td>1</td>\n",
       "      <td>5</td>\n",
       "      <td>0.0000</td>\n",
       "      <td>0.000</td>\n",
       "      <td>...</td>\n",
       "      <td>$1,842,586.00</td>\n",
       "      <td>18</td>\n",
       "      <td>26</td>\n",
       "      <td>$165,297.00</td>\n",
       "      <td>33.0</td>\n",
       "      <td>$165,241.00</td>\n",
       "      <td>77.0</td>\n",
       "      <td>1464.0</td>\n",
       "      <td>5.2</td>\n",
       "      <td>1055</td>\n",
       "    </tr>\n",
       "    <tr>\n",
       "      <th>100724</th>\n",
       "      <td>Alabama State University</td>\n",
       "      <td>Montgomery</td>\n",
       "      <td>AL</td>\n",
       "      <td>36104-0271</td>\n",
       "      <td>1</td>\n",
       "      <td>1</td>\n",
       "      <td>1</td>\n",
       "      <td>5</td>\n",
       "      <td>0.0000</td>\n",
       "      <td>0.000</td>\n",
       "      <td>...</td>\n",
       "      <td>$4,051,266.00</td>\n",
       "      <td>54</td>\n",
       "      <td>74</td>\n",
       "      <td>$442,206.00</td>\n",
       "      <td>118.0</td>\n",
       "      <td>$442,206.00</td>\n",
       "      <td>367.0</td>\n",
       "      <td>2196.0</td>\n",
       "      <td>16.7</td>\n",
       "      <td>1005</td>\n",
       "    </tr>\n",
       "  </tbody>\n",
       "</table>\n",
       "<p>5 rows × 82 columns</p>\n",
       "</div>"
      ],
      "text/plain": [
       "                                       name        city state         zip  \\\n",
       "unitid                                                                      \n",
       "100654             Alabama A & M University      Normal    AL       35762   \n",
       "100663  University of Alabama at Birmingham  Birmingham    AL  35294-0110   \n",
       "100690                   Amridge University  Montgomery    AL  36117-3553   \n",
       "100706  University of Alabama in Huntsville  Huntsville    AL       35899   \n",
       "100724             Alabama State University  Montgomery    AL  36104-0271   \n",
       "\n",
       "        is_main_campus  number_of_branch_campuses  control  region  \\\n",
       "unitid                                                               \n",
       "100654               1                          1        1       5   \n",
       "100663               1                          1        1       5   \n",
       "100690               1                          1        2       5   \n",
       "100706               1                          1        1       5   \n",
       "100724               1                          1        1       5   \n",
       "\n",
       "        program_percentage.agriculture  program_percentage.resources  ...  \\\n",
       "unitid                                                                ...   \n",
       "100654                          0.0451                         0.015  ...   \n",
       "100663                          0.0000                         0.000  ...   \n",
       "100690                          0.0000                         0.000  ...   \n",
       "100706                          0.0000                         0.000  ...   \n",
       "100724                          0.0000                         0.000  ...   \n",
       "\n",
       "        parent_plus_disbursements_usd  graduate_plus_recipients  \\\n",
       "unitid                                                            \n",
       "100654                 $4,295,525.00                         42   \n",
       "100663                 $3,775,816.00                        463   \n",
       "100690                     $6,680.00                         31   \n",
       "100706                 $1,842,586.00                         18   \n",
       "100724                 $4,051,266.00                         54   \n",
       "\n",
       "        graduate_plus_loans_originated_nb  graduate_plus_loans_originated_usd  \\\n",
       "unitid                                                                          \n",
       "100654                                 54                        $288,898.00    \n",
       "100663                                527                      $7,122,307.00    \n",
       "100690                                 31                        $472,465.00    \n",
       "100706                                 26                        $165,297.00    \n",
       "100724                                 74                        $442,206.00    \n",
       "\n",
       "        graduate_plus_disbursements_nb  graduate_plus_disbursements_usd  \\\n",
       "unitid                                                                    \n",
       "100654                           100.0                     $288,897.00    \n",
       "100663                          1079.0                   $6,939,348.00    \n",
       "100690                            74.0                     $462,888.00    \n",
       "100706                            33.0                     $165,241.00    \n",
       "100724                           118.0                     $442,206.00    \n",
       "\n",
       "        number_of_defaults  number_of_loans  default_rate  opeid  \n",
       "unitid                                                            \n",
       "100654               300.0           1812.0          16.5   1002  \n",
       "100663               223.0           4159.0           5.3   1052  \n",
       "100690                38.0            380.0          10.0  25034  \n",
       "100706                77.0           1464.0           5.2   1055  \n",
       "100724               367.0           2196.0          16.7   1005  \n",
       "\n",
       "[5 rows x 82 columns]"
      ]
     },
     "execution_count": 23,
     "metadata": {},
     "output_type": "execute_result"
    }
   ],
   "source": [
    "# Combine all three data sources into one dataframe for easy visualization\n",
    "colleges = college_features_df.copy().set_index('opeid')\n",
    "loans = loans_df.copy().set_index('opeid')\n",
    "rates = rates_df.copy().set_index('opeid')\n",
    "\n",
    "features = colleges.join(loans.drop(columns=['name','state']), on='opeid', how=\"left\")\n",
    "features = features.join(rates.drop(columns=['name','address','city','state','zip']), on='opeid', how=\"left\")\n",
    "\n",
    "# Save opeid as a feature\n",
    "features['opeid'] = features.index\n",
    "\n",
    "# Use unitid as index\n",
    "features.set_index(\"unitid\", inplace=True)\n",
    "\n",
    "duplicates_count = features.index.duplicated().sum()\n",
    "\n",
    "print(f\"INFO: features DataFrame contains {duplicates_count} duplicate indexes\")\n",
    "\n",
    "features.head()"
   ]
  },
  {
   "cell_type": "code",
   "execution_count": 24,
   "metadata": {
    "scrolled": false
   },
   "outputs": [
    {
     "data": {
      "text/plain": [
       "subsidized_recipients                               650\n",
       "subsidized_loans_originated_nb                      650\n",
       "subsidized_loans_originated_usd                     650\n",
       "subsidized_disbursements_nb                         650\n",
       "subsidized_disbursements_usd                        650\n",
       "unsubsidized_undergraduate_recipients               650\n",
       "unsubsidized_undergraduate_loans_originated_nb      650\n",
       "unsubsidized_undergraduate_loans_originated_usd     650\n",
       "unsubsidized_undergraduate_disbursements_nb         650\n",
       "unsubsidized_undergraduate_disbursements_usd        650\n",
       "unsubsidized_graduate_recipients                    650\n",
       "unsubsidized_graduate_loans_originated_nb           650\n",
       "unsubsidized_graduate_loans_originated_usd          650\n",
       "unsubsidized_graduate_disbursements_nb              650\n",
       "unsubsidized_graduate_disbursements_usd             650\n",
       "parent_plus_recipients                              650\n",
       "parent_plus_loans_originated_nb                     650\n",
       "parent_plus_loans_originated_usd                    650\n",
       "parent_plus_disbursements_nb                        650\n",
       "parent_plus_disbursements_usd                       650\n",
       "graduate_plus_recipients                            650\n",
       "graduate_plus_loans_originated_nb                   650\n",
       "graduate_plus_loans_originated_usd                  650\n",
       "graduate_plus_disbursements_nb                      650\n",
       "graduate_plus_disbursements_usd                     650\n",
       "number_of_defaults                                 1646\n",
       "number_of_loans                                    1646\n",
       "default_rate                                       1646\n",
       "dtype: int64"
      ]
     },
     "execution_count": 24,
     "metadata": {},
     "output_type": "execute_result"
    }
   ],
   "source": [
    "# Look for missing values caused by unequal number of rows in the initial 3 dataframes\n",
    "nans_per_feature = features.isna().sum()\n",
    "nans_per_feature[nans_per_feature.values > 0]"
   ]
  },
  {
   "cell_type": "code",
   "execution_count": 25,
   "metadata": {},
   "outputs": [],
   "source": [
    "# Remove missing values which occured after merging\n",
    "features.dropna(inplace=True)"
   ]
  },
  {
   "cell_type": "code",
   "execution_count": 27,
   "metadata": {},
   "outputs": [
    {
     "data": {
      "text/plain": [
       "<seaborn.axisgrid.FacetGrid at 0x180a8c2ed90>"
      ]
     },
     "execution_count": 27,
     "metadata": {},
     "output_type": "execute_result"
    },
    {
     "data": {
      "image/png": "[encoded data removed]",
      "text/plain": [
       "<Figure size 360x360 with 1 Axes>"
      ]
     },
     "metadata": {
      "needs_background": "light"
     },
     "output_type": "display_data"
    }
   ],
   "source": [
    "# Is the default rate normally distributed?\n",
    "sns.displot(data=features, x=\"default_rate\", palette=\"black\", binwidth=2.5)"
   ]
  },
  {
   "cell_type": "markdown",
   "metadata": {},
   "source": [
    "### Q1: If given the chance, what would you try to predict, given this dataset? How would you try to achieve this? (you can suggest multiple possibilities, ranked by importance)"
   ]
  },
  {
   "cell_type": "markdown",
   "metadata": {},
   "source": [
    "### A1:\n",
    "**Things I would  try to predict**:\n",
    "Default rate, amount borrowed per student per university, \n",
    "\n",
    "Firstly, I would like to predict in which colleges students borrow the most frequently and the largest amounts. This would involve looking for features which make students endebt themselves more. Does it matter whether the school is public or private? Is it releveant whether parents back up the loans? Is it important where the school is located? Location is important because of state laws, local culture etc., but should be treated carefully, as using e.g. zip code might introduce economic segregation to the model. \n",
    "\n",
    "Secondly, I would like to predict the default rate for each college. I assume that students who obtained higher quality education and have smaller debts are more likely to succeessfully pay them back. \n",
    "\n",
    "Thirdly, I would like to predict the number of loans per college. This is important for the client to estimate the administrative costs associated with giving loans.\n",
    "\n",
    "**How I would try to achieve this**:\n",
    "In order to predict the above, I would use college features to train a regression algorithm. I would also use squared error loss function for training to make sure my models avoid making large mistakes. The evaluation metric would be Mean Absolute Error, as it clearly describes by how many USD (in case of borrowed amount), loans (in case of number of loans) or % (in case of default rate) the model is mistaken. Also, it is important to notice that rates and loans data cannot be used for model training, as they are available only for the past academic year. \n",
    "\n",
    "When predicting profits per college it is important to use a benchmark model for additional validation. Calculating profits once giving loans at randomly selected universities could be compared with giving loans at the selected colleges only."
   ]
  },
  {
   "cell_type": "markdown",
   "metadata": {},
   "source": [
    "### Q2: Why is this relevant to the company's bottom line? Explain the impact of an accurate prediction on the company's workflow and rudimentarily formulate its influence on company profits mathematically. "
   ]
  },
  {
   "cell_type": "markdown",
   "metadata": {},
   "source": [
    "Predicting the schools where students have loans with the highest interest rate and borrowed the highest amounts is important, as only schools where there is demand are interesting to the client. As only successfully paid back loans are profitable, predicting default rates helps to estimate the risk associated with the investments. Predicting the amount of borrowed dollars for each school informs the client about the required resources neccessary to enter every college.\n",
    "\n",
    "For further calculations I assume that the time and bureucracy necessary to give a loan are negligible, and the only cost which I should focus on are the unpaid loans. Successfully paid back loans improve the company's financial situation with interest being its profit. Loans failed to be paid back mean the company gave the funds, but never fully got them back and got little or zero interest. Therefore, costs of a single bad decision (unpaid loan) are far greater than the benefits of a single good decision (paid back loan + interest). Hence, predictive models should minimize the number of false positives. \n",
    "\n",
    "_company profts described mathematically_:\n",
    "\n",
    "profits = interest_rate * total_borrowed_money - number_of_loans * administrative_cost_of_one_loan - default_rate * total_borrowed_money\n",
    "\n",
    "It should be confirmed that _default rate_ refers to the **amount of unpaid USD** rather than the **number of unpaind loans**."
   ]
  },
  {
   "cell_type": "markdown",
   "metadata": {},
   "source": [
    "### Q3: Find and display graphically as many relevant insights as possible. What is contained in your graphs and why are your conclusions important? \n",
    "\n",
    "Created visualizations include:\n",
    "1. Colleges per state\n",
    "2. Loans per state vs. colleges per state\n",
    "3. Tuition vs. Instructional Expenditure\n",
    "4. Pell grants vs. default rate\n",
    "5. Instructional_expenditure_per_fte vs. default rate\n",
    "6. Tuition Revenue vs. Instructional Expenditure\n",
    "7. Number of loans per school\n",
    "8. Program_percentage vs. default rate - correlations\n",
    "9. Number of defaults vs. number of parent-backed loans\n",
    "10. Part time student share vs. default rate\n",
    "\n",
    "The exploratory data analysis below is performed only on values which are actually used for models training and evaluation. Therefore _features_ DataFrame is used.\n",
    "\n",
    "#### 1. Colleges per state\n",
    "Plotted to see whether some states have more colleges than others, and hence might be a better place for the client to start the company."
   ]
  },
  {
   "cell_type": "code",
   "execution_count": 26,
   "metadata": {},
   "outputs": [
    {
     "data": {
      "image/png": "[encoded data removed]",
      "text/plain": [
       "<Figure size 1080x504 with 1 Axes>"
      ]
     },
     "metadata": {
      "needs_background": "light"
     },
     "output_type": "display_data"
    }
   ],
   "source": [
    "plt.figure(figsize=(15,7))\n",
    "features[['state']].value_counts().sort_index().plot(kind='bar')\n",
    "plt.ylabel(\"Number of colleges [-]\")\n",
    "plt.title(\"Colleges per state\")\n",
    "plt.show()\n",
    "plt.close()"
   ]
  },
  {
   "cell_type": "markdown",
   "metadata": {},
   "source": [
    "#### 2. Loans per state vs. colleges per state\n",
    "Plotted to check whether more colleges actually mean more loans are taken at a particular state. As can be seen below, there is a clear correlation between the number of colleges and the number of loans. \n",
    "\n",
    "It also means that student loans are not a local phenomenon characteristic for a single state, but are present across all US. <-- to be corrected\n",
    "\n",
    "Is the trend linear or exponential?"
   ]
  },
  {
   "cell_type": "code",
   "execution_count": 27,
   "metadata": {},
   "outputs": [],
   "source": [
    "features['unsubsidized_undergraduate_disbursements_usd'] = features['unsubsidized_undergraduate_disbursements_usd'].apply(lambda x: x.split('.')[0] if isinstance(x,int)==False else x)\n",
    "features['unsubsidized_undergraduate_disbursements_usd'] = features['unsubsidized_undergraduate_disbursements_usd'].astype('int64')\n",
    "\n",
    "disbursements_per_state = features.groupby('state').sum()['unsubsidized_undergraduate_disbursements_usd']\n",
    "colleges_per_state = features[['state']].value_counts().sort_index()"
   ]
  },
  {
   "cell_type": "code",
   "execution_count": 28,
   "metadata": {},
   "outputs": [
    {
     "data": {
      "image/png": "[encoded data removed]",
      "text/plain": [
       "<Figure size 432x288 with 1 Axes>"
      ]
     },
     "metadata": {
      "needs_background": "light"
     },
     "output_type": "display_data"
    }
   ],
   "source": [
    "plt.scatter(colleges_per_state, disbursements_per_state)\n",
    "plt.ylabel(\"Number of disbursements per state [-]\")\n",
    "plt.xlabel(\"Number of colleges per state [-]\")\n",
    "plt.show()\n",
    "plt.close()"
   ]
  },
  {
   "cell_type": "markdown",
   "metadata": {},
   "source": [
    "#### 3. Net Revenue per Student vs. Instructional Expenditure per Student\n",
    "This graph is plotted to check whether correlation between tuition fee and the actual spendings per student exists. No correlation was observed which can be explained by governmental subsidies analyzed further below. "
   ]
  },
  {
   "cell_type": "code",
   "execution_count": 29,
   "metadata": {},
   "outputs": [
    {
     "data": {
      "image/png": "[encoded data removed]",
      "text/plain": [
       "<Figure size 432x288 with 1 Axes>"
      ]
     },
     "metadata": {
      "needs_background": "light"
     },
     "output_type": "display_data"
    }
   ],
   "source": [
    "plt.scatter(features[['net_tuition_revenue_per_full_time_equivalent_student']] / 1000,\n",
    "            features[['instructional_expenditure_per_fte']] / 1000)\n",
    "# plt.title(\"Education Value Cost-Benefit Analysis\")\n",
    "plt.xlabel(\"Net Tuition Revenue per Student [k USD]\")\n",
    "plt.ylabel(\"Instructional Expenditure per fte [k USD]\")\n",
    "plt.show()\n",
    "plt.close()"
   ]
  },
  {
   "cell_type": "markdown",
   "metadata": {},
   "source": [
    "#### 4. Pell Grants vs. Default Rate\n",
    "This graph is plotted to see whether colleges with more Pell grants have alumni who are more likely to pay back their loans. As can be seen below, no correlation was observed which means this factor does not have much impact on determining whether a student should get a student loan or not, or whether a college should be targeted with loans offer or not."
   ]
  },
  {
   "cell_type": "code",
   "execution_count": 30,
   "metadata": {},
   "outputs": [
    {
     "data": {
      "image/png": "[encoded data removed]",
      "text/plain": [
       "<Figure size 432x288 with 1 Axes>"
      ]
     },
     "metadata": {
      "needs_background": "light"
     },
     "output_type": "display_data"
    }
   ],
   "source": [
    "plt.scatter(features[['pell_grant_undergratuates_percentage']],\n",
    "            features['default_rate'])\n",
    "plt.xlabel(\"Pell Grants of All Students [%]\")\n",
    "plt.ylabel(\"Default Rate [%]\")\n",
    "plt.show()\n",
    "plt.close()"
   ]
  },
  {
   "cell_type": "markdown",
   "metadata": {},
   "source": [
    "#### 5. Instructional Expenditure per Student vs. Default Rate\n",
    "This graph was plotted to check whether students success is correlated with the amount of money a university spends on their education. As expected, a significant correlation exists and the largest default rates are characteristic for colleges with low instructional spendings per student. Above instructional expenditure of around 15,000 USD per student the default rate flattens. This might mean that in colleges spending above this threshold students success depends on their personal motivation/skills rather than the physical resources.\n",
    "\n",
    "Outliers exist, e.g. in the right upper corner there is a college which has very high instructional fee and very high default rate."
   ]
  },
  {
   "cell_type": "code",
   "execution_count": 31,
   "metadata": {},
   "outputs": [
    {
     "data": {
      "image/png": "[encoded data removed]",
      "text/plain": [
       "<Figure size 432x288 with 1 Axes>"
      ]
     },
     "metadata": {
      "needs_background": "light"
     },
     "output_type": "display_data"
    }
   ],
   "source": [
    "# Instructional expenditure vs. default rate\n",
    "plt.scatter(features[['instructional_expenditure_per_fte']],\n",
    "            features['default_rate'])\n",
    "plt.xlabel(\"Instructional Expenditure per Student [USD]\")\n",
    "plt.ylabel(\"Default Rate [%]\")\n",
    "plt.show()\n",
    "plt.close()"
   ]
  },
  {
   "cell_type": "code",
   "execution_count": 32,
   "metadata": {},
   "outputs": [
    {
     "data": {
      "text/html": [
       "<div>\n",
       "<style scoped>\n",
       "    .dataframe tbody tr th:only-of-type {\n",
       "        vertical-align: middle;\n",
       "    }\n",
       "\n",
       "    .dataframe tbody tr th {\n",
       "        vertical-align: top;\n",
       "    }\n",
       "\n",
       "    .dataframe thead th {\n",
       "        text-align: right;\n",
       "    }\n",
       "</style>\n",
       "<table border=\"1\" class=\"dataframe\">\n",
       "  <thead>\n",
       "    <tr style=\"text-align: right;\">\n",
       "      <th></th>\n",
       "      <th>instructional_expenditure_per_fte</th>\n",
       "      <th>default_rate</th>\n",
       "    </tr>\n",
       "  </thead>\n",
       "  <tbody>\n",
       "    <tr>\n",
       "      <th>instructional_expenditure_per_fte</th>\n",
       "      <td>1.000000</td>\n",
       "      <td>-0.391108</td>\n",
       "    </tr>\n",
       "    <tr>\n",
       "      <th>default_rate</th>\n",
       "      <td>-0.391108</td>\n",
       "      <td>1.000000</td>\n",
       "    </tr>\n",
       "  </tbody>\n",
       "</table>\n",
       "</div>"
      ],
      "text/plain": [
       "                                   instructional_expenditure_per_fte  \\\n",
       "instructional_expenditure_per_fte                           1.000000   \n",
       "default_rate                                               -0.391108   \n",
       "\n",
       "                                   default_rate  \n",
       "instructional_expenditure_per_fte     -0.391108  \n",
       "default_rate                           1.000000  "
      ]
     },
     "execution_count": 32,
     "metadata": {},
     "output_type": "execute_result"
    }
   ],
   "source": [
    "features[['instructional_expenditure_per_fte','default_rate']].corr()"
   ]
  },
  {
   "cell_type": "markdown",
   "metadata": {},
   "source": [
    "#### 6. Tuition Revenue vs. Instructional Expenditure\n",
    "\n",
    "Clearly, not in all schools high tuition fees go along with high expenditure on students. Dots in the right bottom corner correspond to schools having relatively high fees and small % expenditure on students. Dots in the left upper corner correspond to schools which have relatively small tuition fees, but have large expenses on education. That is probably caused by the governmental subsidies."
   ]
  },
  {
   "cell_type": "code",
   "execution_count": 33,
   "metadata": {},
   "outputs": [
    {
     "data": {
      "image/png": "[encoded data removed]",
      "text/plain": [
       "<Figure size 432x288 with 1 Axes>"
      ]
     },
     "metadata": {
      "needs_background": "light"
     },
     "output_type": "display_data"
    }
   ],
   "source": [
    "plt.scatter(features['net_tuition_revenue_per_full_time_equivalent_student'] / 1000,\n",
    "            features['instructional_expenditure_per_fte'] / 1000)\n",
    "\n",
    "plt.xlabel(\"Tuition Revenue per Student [1000 USD]\")\n",
    "plt.ylabel(\"Instructional Expenditure per Student [1000 USD]\")\n",
    "plt.show()\n",
    "plt.close()"
   ]
  },
  {
   "cell_type": "code",
   "execution_count": 34,
   "metadata": {},
   "outputs": [],
   "source": [
    "# control,\"1: public, 2: private non-profit, 3:private for-profit\"\n",
    "features['education_expense_%'] = round(features['instructional_expenditure_per_fte'] / features['net_tuition_revenue_per_full_time_equivalent_student'] * 100, 2)"
   ]
  },
  {
   "cell_type": "code",
   "execution_count": 35,
   "metadata": {},
   "outputs": [
    {
     "data": {
      "image/png": "[encoded data removed]",
      "text/plain": [
       "<Figure size 360x360 with 1 Axes>"
      ]
     },
     "metadata": {
      "needs_background": "light"
     },
     "output_type": "display_data"
    }
   ],
   "source": [
    "# Remove infinities caused by free schools\n",
    "education_hist = features[['education_expense_%','control']].replace([np.inf, -np.inf], np.nan).dropna().copy()\n",
    "\n",
    "# Display 3 histograms, one for each control class\n",
    "sns.displot(education_hist, x=\"education_expense_%\", hue=\"control\", element=\"step\", binwidth=25, palette='tab10',# 'tab10'\n",
    "            legend=False)\n",
    "\n",
    "plt.xlim([0,500])\n",
    "# plt.ylim([0,1000])\n",
    "plt.legend([\"Private For-Profit\",'Private Non-Profit','Public'])\n",
    "plt.xlabel(\"Instructional Expense / Tuition Fee [%]\")\n",
    "plt.ylabel(\"Number of Colleges [-]\")\n",
    "plt.show()\n",
    "plt.close()"
   ]
  },
  {
   "cell_type": "markdown",
   "metadata": {},
   "source": [
    "According to the histogram above, public schools tend to offer better value for money, as instructional expenses per student there frequently exceed the individual tuition fee. "
   ]
  },
  {
   "cell_type": "code",
   "execution_count": 36,
   "metadata": {},
   "outputs": [
    {
     "name": "stdout",
     "output_type": "stream",
     "text": [
      "Number of public subsidized colleges            : 1234\n",
      "Number of private non profit subsidized colleges: 105\n",
      "Number of private for profit subsidized colleges: 150\n"
     ]
    }
   ],
   "source": [
    "subsidized_public_col = sum(features[features['control']==1]['education_expense_%'] > 100)\n",
    "subsidized_non_profit_col = sum(features[features['control']==2]['education_expense_%'] > 100)\n",
    "subsidized_for_profit_col = sum(features[features['control']==3]['education_expense_%'] > 100)\n",
    "\n",
    "print(f\"Number of public subsidized colleges            : {subsidized_public_col}\")\n",
    "print(f\"Number of private non profit subsidized colleges: {subsidized_non_profit_col}\")\n",
    "print(f\"Number of private for profit subsidized colleges: {subsidized_for_profit_col}\")"
   ]
  },
  {
   "cell_type": "code",
   "execution_count": 37,
   "metadata": {},
   "outputs": [
    {
     "name": "stdout",
     "output_type": "stream",
     "text": [
      "Median instructional expense / tuition fee in public colleges            : 180.05 %\n",
      "Median instructional expense / tuition fee in private non-profit colleges:  56.45 %\n",
      "Median instructional expense / tuition fee in private for-profit colleges:  35.269999999999996 %\n"
     ]
    }
   ],
   "source": [
    "print(\"Median instructional expense / tuition fee in public colleges            :\",\n",
    "      features[features['control']==1]['education_expense_%'].median(), \"%\")\n",
    "print(\"Median instructional expense / tuition fee in private non-profit colleges: \",\n",
    "      features[features['control']==2]['education_expense_%'].median(), \"%\")\n",
    "print(\"Median instructional expense / tuition fee in private for-profit colleges: \",\n",
    "      features[features['control']==3]['education_expense_%'].median(), \"%\")"
   ]
  },
  {
   "cell_type": "markdown",
   "metadata": {},
   "source": [
    "Clearly, public colleges get more subsidies and offer better value for money than the private ones. This is an interesting observation, however, it is insufficient to determine whether graduates from public colleges are more likely to pay back their loans."
   ]
  },
  {
   "cell_type": "code",
   "execution_count": 38,
   "metadata": {},
   "outputs": [
    {
     "data": {
      "text/html": [
       "<div>\n",
       "<style scoped>\n",
       "    .dataframe tbody tr th:only-of-type {\n",
       "        vertical-align: middle;\n",
       "    }\n",
       "\n",
       "    .dataframe tbody tr th {\n",
       "        vertical-align: top;\n",
       "    }\n",
       "\n",
       "    .dataframe thead th {\n",
       "        text-align: right;\n",
       "    }\n",
       "</style>\n",
       "<table border=\"1\" class=\"dataframe\">\n",
       "  <thead>\n",
       "    <tr style=\"text-align: right;\">\n",
       "      <th></th>\n",
       "      <th>education_expense_%</th>\n",
       "      <th>default_rate</th>\n",
       "    </tr>\n",
       "  </thead>\n",
       "  <tbody>\n",
       "    <tr>\n",
       "      <th>education_expense_%</th>\n",
       "      <td>1.000000</td>\n",
       "      <td>0.067019</td>\n",
       "    </tr>\n",
       "    <tr>\n",
       "      <th>default_rate</th>\n",
       "      <td>0.067019</td>\n",
       "      <td>1.000000</td>\n",
       "    </tr>\n",
       "  </tbody>\n",
       "</table>\n",
       "</div>"
      ],
      "text/plain": [
       "                     education_expense_%  default_rate\n",
       "education_expense_%             1.000000      0.067019\n",
       "default_rate                    0.067019      1.000000"
      ]
     },
     "execution_count": 38,
     "metadata": {},
     "output_type": "execute_result"
    }
   ],
   "source": [
    "features[['education_expense_%','default_rate']].corr()"
   ]
  },
  {
   "cell_type": "code",
   "execution_count": 39,
   "metadata": {},
   "outputs": [
    {
     "data": {
      "image/png": "[encoded data removed]",
      "text/plain": [
       "<Figure size 432x288 with 1 Axes>"
      ]
     },
     "metadata": {
      "needs_background": "light"
     },
     "output_type": "display_data"
    }
   ],
   "source": [
    "plt.scatter(features['education_expense_%'], features['default_rate'])\n",
    "plt.xlim([0,500])\n",
    "plt.xlabel(\"Instruction Expense / Tuition Fee [%]\")\n",
    "plt.ylabel(\"Default Rate [%]\")\n",
    "plt.show()\n",
    "plt.close()"
   ]
  },
  {
   "cell_type": "code",
   "execution_count": 40,
   "metadata": {},
   "outputs": [
    {
     "data": {
      "text/plain": [
       "count    4716.0000\n",
       "mean           inf\n",
       "std            NaN\n",
       "min         0.0000\n",
       "25%        35.6400\n",
       "50%        58.8900\n",
       "75%       126.2325\n",
       "max            inf\n",
       "Name: education_expense_%, dtype: float64"
      ]
     },
     "execution_count": 40,
     "metadata": {},
     "output_type": "execute_result"
    }
   ],
   "source": [
    "features['education_expense_%'].describe()"
   ]
  },
  {
   "cell_type": "code",
   "execution_count": 41,
   "metadata": {},
   "outputs": [],
   "source": [
    "features.drop(columns=['education_expense_%'], inplace=True)"
   ]
  },
  {
   "cell_type": "markdown",
   "metadata": {},
   "source": [
    "#### 7. Number of loans per school / per city\n",
    "Below, I identify schools where students take loans the most frequently."
   ]
  },
  {
   "cell_type": "code",
   "execution_count": 42,
   "metadata": {},
   "outputs": [
    {
     "data": {
      "text/html": [
       "<div>\n",
       "<style scoped>\n",
       "    .dataframe tbody tr th:only-of-type {\n",
       "        vertical-align: middle;\n",
       "    }\n",
       "\n",
       "    .dataframe tbody tr th {\n",
       "        vertical-align: top;\n",
       "    }\n",
       "\n",
       "    .dataframe thead th {\n",
       "        text-align: right;\n",
       "    }\n",
       "</style>\n",
       "<table border=\"1\" class=\"dataframe\">\n",
       "  <thead>\n",
       "    <tr style=\"text-align: right;\">\n",
       "      <th></th>\n",
       "      <th>count</th>\n",
       "      <th>mean</th>\n",
       "      <th>std</th>\n",
       "      <th>min</th>\n",
       "      <th>25%</th>\n",
       "      <th>50%</th>\n",
       "      <th>75%</th>\n",
       "      <th>max</th>\n",
       "    </tr>\n",
       "  </thead>\n",
       "  <tbody>\n",
       "    <tr>\n",
       "      <th>number_of_loans</th>\n",
       "      <td>4717.0</td>\n",
       "      <td>2043.003816</td>\n",
       "      <td>5238.27582</td>\n",
       "      <td>0.0</td>\n",
       "      <td>147.0</td>\n",
       "      <td>536.0</td>\n",
       "      <td>1543.0</td>\n",
       "      <td>50685.0</td>\n",
       "    </tr>\n",
       "  </tbody>\n",
       "</table>\n",
       "</div>"
      ],
      "text/plain": [
       "                  count         mean         std  min    25%    50%     75%  \\\n",
       "number_of_loans  4717.0  2043.003816  5238.27582  0.0  147.0  536.0  1543.0   \n",
       "\n",
       "                     max  \n",
       "number_of_loans  50685.0  "
      ]
     },
     "execution_count": 42,
     "metadata": {},
     "output_type": "execute_result"
    }
   ],
   "source": [
    "features[[\"number_of_loans\"]].describe().T"
   ]
  },
  {
   "cell_type": "code",
   "execution_count": 43,
   "metadata": {},
   "outputs": [
    {
     "data": {
      "text/html": [
       "<div>\n",
       "<style scoped>\n",
       "    .dataframe tbody tr th:only-of-type {\n",
       "        vertical-align: middle;\n",
       "    }\n",
       "\n",
       "    .dataframe tbody tr th {\n",
       "        vertical-align: top;\n",
       "    }\n",
       "\n",
       "    .dataframe thead th {\n",
       "        text-align: right;\n",
       "    }\n",
       "</style>\n",
       "<table border=\"1\" class=\"dataframe\">\n",
       "  <thead>\n",
       "    <tr style=\"text-align: right;\">\n",
       "      <th></th>\n",
       "      <th>name</th>\n",
       "      <th>city</th>\n",
       "      <th>state</th>\n",
       "      <th>zip</th>\n",
       "      <th>is_main_campus</th>\n",
       "      <th>number_of_branch_campuses</th>\n",
       "      <th>control</th>\n",
       "      <th>region</th>\n",
       "      <th>program_percentage.agriculture</th>\n",
       "      <th>program_percentage.resources</th>\n",
       "      <th>...</th>\n",
       "      <th>parent_plus_disbursements_usd</th>\n",
       "      <th>graduate_plus_recipients</th>\n",
       "      <th>graduate_plus_loans_originated_nb</th>\n",
       "      <th>graduate_plus_loans_originated_usd</th>\n",
       "      <th>graduate_plus_disbursements_nb</th>\n",
       "      <th>graduate_plus_disbursements_usd</th>\n",
       "      <th>number_of_defaults</th>\n",
       "      <th>number_of_loans</th>\n",
       "      <th>default_rate</th>\n",
       "      <th>opeid</th>\n",
       "    </tr>\n",
       "    <tr>\n",
       "      <th>unitid</th>\n",
       "      <th></th>\n",
       "      <th></th>\n",
       "      <th></th>\n",
       "      <th></th>\n",
       "      <th></th>\n",
       "      <th></th>\n",
       "      <th></th>\n",
       "      <th></th>\n",
       "      <th></th>\n",
       "      <th></th>\n",
       "      <th></th>\n",
       "      <th></th>\n",
       "      <th></th>\n",
       "      <th></th>\n",
       "      <th></th>\n",
       "      <th></th>\n",
       "      <th></th>\n",
       "      <th></th>\n",
       "      <th></th>\n",
       "      <th></th>\n",
       "      <th></th>\n",
       "    </tr>\n",
       "  </thead>\n",
       "  <tbody>\n",
       "    <tr>\n",
       "      <th>450517</th>\n",
       "      <td>DeVry University-Tennessee</td>\n",
       "      <td>Memphis</td>\n",
       "      <td>TN</td>\n",
       "      <td>38119-4808</td>\n",
       "      <td>0</td>\n",
       "      <td>26.0</td>\n",
       "      <td>3</td>\n",
       "      <td>5</td>\n",
       "      <td>0.0</td>\n",
       "      <td>0.0</td>\n",
       "      <td>...</td>\n",
       "      <td>16313313.00</td>\n",
       "      <td>6</td>\n",
       "      <td>8</td>\n",
       "      <td>50807.00</td>\n",
       "      <td>18.0</td>\n",
       "      <td>47675.00</td>\n",
       "      <td>5388.0</td>\n",
       "      <td>50685.0</td>\n",
       "      <td>10.6</td>\n",
       "      <td>10727</td>\n",
       "    </tr>\n",
       "    <tr>\n",
       "      <th>440545</th>\n",
       "      <td>DeVry University-Washington</td>\n",
       "      <td>Federal Way</td>\n",
       "      <td>WA</td>\n",
       "      <td>98001-9558</td>\n",
       "      <td>0</td>\n",
       "      <td>26.0</td>\n",
       "      <td>3</td>\n",
       "      <td>8</td>\n",
       "      <td>0.0</td>\n",
       "      <td>0.0</td>\n",
       "      <td>...</td>\n",
       "      <td>16313313.00</td>\n",
       "      <td>6</td>\n",
       "      <td>8</td>\n",
       "      <td>50807.00</td>\n",
       "      <td>18.0</td>\n",
       "      <td>47675.00</td>\n",
       "      <td>5388.0</td>\n",
       "      <td>50685.0</td>\n",
       "      <td>10.6</td>\n",
       "      <td>10727</td>\n",
       "    </tr>\n",
       "    <tr>\n",
       "      <th>454209</th>\n",
       "      <td>DeVry University-Kentucky</td>\n",
       "      <td>Louisville</td>\n",
       "      <td>KY</td>\n",
       "      <td>40223-3887</td>\n",
       "      <td>0</td>\n",
       "      <td>26.0</td>\n",
       "      <td>3</td>\n",
       "      <td>5</td>\n",
       "      <td>0.0</td>\n",
       "      <td>0.0</td>\n",
       "      <td>...</td>\n",
       "      <td>16313313.00</td>\n",
       "      <td>6</td>\n",
       "      <td>8</td>\n",
       "      <td>50807.00</td>\n",
       "      <td>18.0</td>\n",
       "      <td>47675.00</td>\n",
       "      <td>5388.0</td>\n",
       "      <td>50685.0</td>\n",
       "      <td>10.6</td>\n",
       "      <td>10727</td>\n",
       "    </tr>\n",
       "    <tr>\n",
       "      <th>444033</th>\n",
       "      <td>DeVry University-Oregon</td>\n",
       "      <td>Portland</td>\n",
       "      <td>OR</td>\n",
       "      <td>97225-6651</td>\n",
       "      <td>0</td>\n",
       "      <td>26.0</td>\n",
       "      <td>3</td>\n",
       "      <td>8</td>\n",
       "      <td>0.0</td>\n",
       "      <td>0.0</td>\n",
       "      <td>...</td>\n",
       "      <td>16313313.00</td>\n",
       "      <td>6</td>\n",
       "      <td>8</td>\n",
       "      <td>50807.00</td>\n",
       "      <td>18.0</td>\n",
       "      <td>47675.00</td>\n",
       "      <td>5388.0</td>\n",
       "      <td>50685.0</td>\n",
       "      <td>10.6</td>\n",
       "      <td>10727</td>\n",
       "    </tr>\n",
       "    <tr>\n",
       "      <th>224402</th>\n",
       "      <td>DeVry University-Texas</td>\n",
       "      <td>Irving</td>\n",
       "      <td>TX</td>\n",
       "      <td>75063-2439</td>\n",
       "      <td>0</td>\n",
       "      <td>26.0</td>\n",
       "      <td>3</td>\n",
       "      <td>6</td>\n",
       "      <td>0.0</td>\n",
       "      <td>0.0</td>\n",
       "      <td>...</td>\n",
       "      <td>16313313.00</td>\n",
       "      <td>6</td>\n",
       "      <td>8</td>\n",
       "      <td>50807.00</td>\n",
       "      <td>18.0</td>\n",
       "      <td>47675.00</td>\n",
       "      <td>5388.0</td>\n",
       "      <td>50685.0</td>\n",
       "      <td>10.6</td>\n",
       "      <td>10727</td>\n",
       "    </tr>\n",
       "  </tbody>\n",
       "</table>\n",
       "<p>5 rows × 81 columns</p>\n",
       "</div>"
      ],
      "text/plain": [
       "                               name         city state         zip  \\\n",
       "unitid                                                               \n",
       "450517   DeVry University-Tennessee      Memphis    TN  38119-4808   \n",
       "440545  DeVry University-Washington  Federal Way    WA  98001-9558   \n",
       "454209    DeVry University-Kentucky   Louisville    KY  40223-3887   \n",
       "444033      DeVry University-Oregon     Portland    OR  97225-6651   \n",
       "224402       DeVry University-Texas       Irving    TX  75063-2439   \n",
       "\n",
       "        is_main_campus  number_of_branch_campuses  control  region  \\\n",
       "unitid                                                               \n",
       "450517               0                       26.0        3       5   \n",
       "440545               0                       26.0        3       8   \n",
       "454209               0                       26.0        3       5   \n",
       "444033               0                       26.0        3       8   \n",
       "224402               0                       26.0        3       6   \n",
       "\n",
       "        program_percentage.agriculture  program_percentage.resources  ...  \\\n",
       "unitid                                                                ...   \n",
       "450517                             0.0                           0.0  ...   \n",
       "440545                             0.0                           0.0  ...   \n",
       "454209                             0.0                           0.0  ...   \n",
       "444033                             0.0                           0.0  ...   \n",
       "224402                             0.0                           0.0  ...   \n",
       "\n",
       "        parent_plus_disbursements_usd  graduate_plus_recipients  \\\n",
       "unitid                                                            \n",
       "450517                   16313313.00                          6   \n",
       "440545                   16313313.00                          6   \n",
       "454209                   16313313.00                          6   \n",
       "444033                   16313313.00                          6   \n",
       "224402                   16313313.00                          6   \n",
       "\n",
       "        graduate_plus_loans_originated_nb  graduate_plus_loans_originated_usd  \\\n",
       "unitid                                                                          \n",
       "450517                                  8                           50807.00    \n",
       "440545                                  8                           50807.00    \n",
       "454209                                  8                           50807.00    \n",
       "444033                                  8                           50807.00    \n",
       "224402                                  8                           50807.00    \n",
       "\n",
       "        graduate_plus_disbursements_nb  graduate_plus_disbursements_usd  \\\n",
       "unitid                                                                    \n",
       "450517                            18.0                        47675.00    \n",
       "440545                            18.0                        47675.00    \n",
       "454209                            18.0                        47675.00    \n",
       "444033                            18.0                        47675.00    \n",
       "224402                            18.0                        47675.00    \n",
       "\n",
       "        number_of_defaults  number_of_loans  default_rate  opeid  \n",
       "unitid                                                            \n",
       "450517              5388.0          50685.0          10.6  10727  \n",
       "440545              5388.0          50685.0          10.6  10727  \n",
       "454209              5388.0          50685.0          10.6  10727  \n",
       "444033              5388.0          50685.0          10.6  10727  \n",
       "224402              5388.0          50685.0          10.6  10727  \n",
       "\n",
       "[5 rows x 81 columns]"
      ]
     },
     "execution_count": 43,
     "metadata": {},
     "output_type": "execute_result"
    }
   ],
   "source": [
    "features.sort_values(by='number_of_loans', ascending=False).head()"
   ]
  },
  {
   "cell_type": "code",
   "execution_count": 44,
   "metadata": {},
   "outputs": [
    {
     "data": {
      "text/plain": [
       "city\n",
       "Phoenix         174370.0\n",
       "Indianapolis    115963.0\n",
       "Milwaukee        98141.0\n",
       "Louisville       94090.0\n",
       "Columbus         92229.0\n",
       "Name: number_of_loans, dtype: float64"
      ]
     },
     "execution_count": 44,
     "metadata": {},
     "output_type": "execute_result"
    }
   ],
   "source": [
    "features.groupby('city')['number_of_loans'].sum().sort_values(ascending=False).head()"
   ]
  },
  {
   "cell_type": "code",
   "execution_count": 45,
   "metadata": {},
   "outputs": [
    {
     "name": "stdout",
     "output_type": "stream",
     "text": [
      "Median number of loans per school is 536. Mean is not of interest in this case, as it might be skewed by outliers.\n"
     ]
    }
   ],
   "source": [
    "loans_median = features['number_of_loans'].median()\n",
    "print(f\"Median number of loans per school is {round(loans_median)}. Mean is not of interest in this case, as it might be \"\n",
    "      \"skewed by outliers.\")"
   ]
  },
  {
   "cell_type": "markdown",
   "metadata": {},
   "source": [
    "#### 8. Program % vs. Default Rate\n",
    "Do universities which have more programs of a particular kind (e.g. mathematics, humanities etc.) have students who are more likely to pay back their loans? As can be seen below, there were no large positive correlations, hence subjects decreasing the likelihood of success could not be identified. Program percentages of mathematics, biology, social science and history are negatively correlated with the default rate which implies their graduates tend do be more successful than their peers who studied different domains. This however does not imply the alumni are more successfull **because** of the subject they studied."
   ]
  },
  {
   "cell_type": "code",
   "execution_count": 46,
   "metadata": {},
   "outputs": [],
   "source": [
    "correlations = features[['program_percentage.agriculture', 'program_percentage.resources',\n",
    "                         'program_percentage.architecture',\n",
    "                         'program_percentage.ethnic_cultural_gender',\n",
    "                         'program_percentage.communication',\n",
    "                         'program_percentage.communications_technology',\n",
    "                         'program_percentage.computer', 'program_percentage.personal_culinary',\n",
    "                         'program_percentage.education', 'program_percentage.engineering',\n",
    "                         'program_percentage.engineering_technology',\n",
    "                         'program_percentage.language',\n",
    "                         'program_percentage.family_consumer_science',\n",
    "                         'program_percentage.legal', 'program_percentage.english',\n",
    "                         'program_percentage.humanities', 'program_percentage.library',\n",
    "                         'program_percentage.biological', 'program_percentage.mathematics',\n",
    "                         'program_percentage.military', 'program_percentage.multidiscipline',\n",
    "                         'program_percentage.parks_recreation_fitness',\n",
    "                         'program_percentage.philosophy_religious',\n",
    "                         'program_percentage.theology_religious_vocation',\n",
    "                         'program_percentage.physical_science',\n",
    "                         'program_percentage.science_technology',\n",
    "                         'program_percentage.psychology',\n",
    "                         'program_percentage.security_law_enforcement',\n",
    "                         'program_percentage.public_administration_social_service',\n",
    "                         'program_percentage.social_science', 'program_percentage.construction',\n",
    "                         'program_percentage.mechanic_repair_technology',\n",
    "                         'program_percentage.precision_production',\n",
    "                         'program_percentage.transportation',\n",
    "                         'program_percentage.visual_performing', 'program_percentage.health',\n",
    "                         'program_percentage.business_marketing', 'program_percentage.history','default_rate']].corr()"
   ]
  },
  {
   "cell_type": "code",
   "execution_count": 47,
   "metadata": {},
   "outputs": [
    {
     "data": {
      "text/html": [
       "<div>\n",
       "<style scoped>\n",
       "    .dataframe tbody tr th:only-of-type {\n",
       "        vertical-align: middle;\n",
       "    }\n",
       "\n",
       "    .dataframe tbody tr th {\n",
       "        vertical-align: top;\n",
       "    }\n",
       "\n",
       "    .dataframe thead th {\n",
       "        text-align: right;\n",
       "    }\n",
       "</style>\n",
       "<table border=\"1\" class=\"dataframe\">\n",
       "  <thead>\n",
       "    <tr style=\"text-align: right;\">\n",
       "      <th></th>\n",
       "      <th>default_rate</th>\n",
       "    </tr>\n",
       "  </thead>\n",
       "  <tbody>\n",
       "    <tr>\n",
       "      <th>program_percentage.history</th>\n",
       "      <td>-0.347318</td>\n",
       "    </tr>\n",
       "    <tr>\n",
       "      <th>program_percentage.biological</th>\n",
       "      <td>-0.308525</td>\n",
       "    </tr>\n",
       "    <tr>\n",
       "      <th>program_percentage.social_science</th>\n",
       "      <td>-0.307973</td>\n",
       "    </tr>\n",
       "    <tr>\n",
       "      <th>program_percentage.mathematics</th>\n",
       "      <td>-0.298314</td>\n",
       "    </tr>\n",
       "    <tr>\n",
       "      <th>program_percentage.language</th>\n",
       "      <td>-0.284367</td>\n",
       "    </tr>\n",
       "    <tr>\n",
       "      <th>program_percentage.english</th>\n",
       "      <td>-0.236039</td>\n",
       "    </tr>\n",
       "    <tr>\n",
       "      <th>program_percentage.psychology</th>\n",
       "      <td>-0.225152</td>\n",
       "    </tr>\n",
       "  </tbody>\n",
       "</table>\n",
       "</div>"
      ],
      "text/plain": [
       "                                   default_rate\n",
       "program_percentage.history            -0.347318\n",
       "program_percentage.biological         -0.308525\n",
       "program_percentage.social_science     -0.307973\n",
       "program_percentage.mathematics        -0.298314\n",
       "program_percentage.language           -0.284367\n",
       "program_percentage.english            -0.236039\n",
       "program_percentage.psychology         -0.225152"
      ]
     },
     "execution_count": 47,
     "metadata": {},
     "output_type": "execute_result"
    }
   ],
   "source": [
    "correlations[['default_rate']][correlations[['default_rate']] < -0.2].dropna().sort_values(by='default_rate')"
   ]
  },
  {
   "cell_type": "code",
   "execution_count": 48,
   "metadata": {},
   "outputs": [
    {
     "data": {
      "text/html": [
       "<div>\n",
       "<style scoped>\n",
       "    .dataframe tbody tr th:only-of-type {\n",
       "        vertical-align: middle;\n",
       "    }\n",
       "\n",
       "    .dataframe tbody tr th {\n",
       "        vertical-align: top;\n",
       "    }\n",
       "\n",
       "    .dataframe thead th {\n",
       "        text-align: right;\n",
       "    }\n",
       "</style>\n",
       "<table border=\"1\" class=\"dataframe\">\n",
       "  <thead>\n",
       "    <tr style=\"text-align: right;\">\n",
       "      <th></th>\n",
       "      <th>default_rate</th>\n",
       "    </tr>\n",
       "  </thead>\n",
       "  <tbody>\n",
       "    <tr>\n",
       "      <th>default_rate</th>\n",
       "      <td>1.000000</td>\n",
       "    </tr>\n",
       "    <tr>\n",
       "      <th>program_percentage.humanities</th>\n",
       "      <td>0.177077</td>\n",
       "    </tr>\n",
       "    <tr>\n",
       "      <th>program_percentage.health</th>\n",
       "      <td>0.133185</td>\n",
       "    </tr>\n",
       "    <tr>\n",
       "      <th>program_percentage.security_law_enforcement</th>\n",
       "      <td>0.130096</td>\n",
       "    </tr>\n",
       "    <tr>\n",
       "      <th>program_percentage.construction</th>\n",
       "      <td>0.108617</td>\n",
       "    </tr>\n",
       "  </tbody>\n",
       "</table>\n",
       "</div>"
      ],
      "text/plain": [
       "                                             default_rate\n",
       "default_rate                                     1.000000\n",
       "program_percentage.humanities                    0.177077\n",
       "program_percentage.health                        0.133185\n",
       "program_percentage.security_law_enforcement      0.130096\n",
       "program_percentage.construction                  0.108617"
      ]
     },
     "execution_count": 48,
     "metadata": {},
     "output_type": "execute_result"
    }
   ],
   "source": [
    "correlations[['default_rate']][correlations[['default_rate']] > 0.1].dropna().sort_values(by='default_rate', ascending=False)"
   ]
  },
  {
   "cell_type": "markdown",
   "metadata": {},
   "source": [
    "#### 9. Number of defaults vs. Number of Parent-Backed Up Loans\n",
    "Are loans backed up by parents safer for the client than the loans taken by students alone? It can be seen that with parental help the default rate rapidly decreases. "
   ]
  },
  {
   "cell_type": "code",
   "execution_count": 49,
   "metadata": {},
   "outputs": [
    {
     "data": {
      "image/png": "[encoded data removed]",
      "text/plain": [
       "<Figure size 432x288 with 1 Axes>"
      ]
     },
     "metadata": {
      "needs_background": "light"
     },
     "output_type": "display_data"
    }
   ],
   "source": [
    "plt.scatter(features['parent_plus_disbursements_nb'].astype('int64'), features['number_of_defaults'])\n",
    "plt.xlim([0,10000])\n",
    "plt.ylim([0,5000])\n",
    "plt.ylabel(\"Number of Defaults [-]\")\n",
    "plt.xlabel(\"Number of Loans Backed Up by Parents [-]\")\n",
    "plt.show()\n",
    "plt.close()"
   ]
  },
  {
   "cell_type": "code",
   "execution_count": 50,
   "metadata": {},
   "outputs": [
    {
     "data": {
      "text/html": [
       "<div>\n",
       "<style scoped>\n",
       "    .dataframe tbody tr th:only-of-type {\n",
       "        vertical-align: middle;\n",
       "    }\n",
       "\n",
       "    .dataframe tbody tr th {\n",
       "        vertical-align: top;\n",
       "    }\n",
       "\n",
       "    .dataframe thead th {\n",
       "        text-align: right;\n",
       "    }\n",
       "</style>\n",
       "<table border=\"1\" class=\"dataframe\">\n",
       "  <thead>\n",
       "    <tr style=\"text-align: right;\">\n",
       "      <th></th>\n",
       "      <th>parent_plus_disbursements_nb</th>\n",
       "      <th>number_of_defaults</th>\n",
       "    </tr>\n",
       "  </thead>\n",
       "  <tbody>\n",
       "    <tr>\n",
       "      <th>parent_plus_disbursements_nb</th>\n",
       "      <td>1.00000</td>\n",
       "      <td>0.43591</td>\n",
       "    </tr>\n",
       "    <tr>\n",
       "      <th>number_of_defaults</th>\n",
       "      <td>0.43591</td>\n",
       "      <td>1.00000</td>\n",
       "    </tr>\n",
       "  </tbody>\n",
       "</table>\n",
       "</div>"
      ],
      "text/plain": [
       "                              parent_plus_disbursements_nb  number_of_defaults\n",
       "parent_plus_disbursements_nb                       1.00000             0.43591\n",
       "number_of_defaults                                 0.43591             1.00000"
      ]
     },
     "execution_count": 50,
     "metadata": {},
     "output_type": "execute_result"
    }
   ],
   "source": [
    "features[['parent_plus_disbursements_nb','number_of_defaults']].corr()"
   ]
  },
  {
   "cell_type": "markdown",
   "metadata": {},
   "source": [
    "#### 10. Part time student share vs. default rate\n",
    "Is there any correlation between the fraction of part time students and the default rate? It was assumed it is more difficult to study part time than full-time, and a positive correlation between the ratio of part time students and the default rate was expected. However, no such correlation was discovered."
   ]
  },
  {
   "cell_type": "code",
   "execution_count": 51,
   "metadata": {},
   "outputs": [
    {
     "data": {
      "image/png": "[encoded data removed]",
      "text/plain": [
       "<Figure size 432x288 with 1 Axes>"
      ]
     },
     "metadata": {
      "needs_background": "light"
     },
     "output_type": "display_data"
    }
   ],
   "source": [
    "plt.scatter(features['part_time_students_share'], features['default_rate'])\n",
    "plt.xlabel(\"Part Time Students Share [%]\")\n",
    "plt.ylabel(\"Default Rate [%]\")\n",
    "plt.show()\n",
    "plt.close()"
   ]
  },
  {
   "cell_type": "markdown",
   "metadata": {},
   "source": [
    "### Conclusions from the Exploratory Data Analysis:\n",
    "The number of colleges per state varies, the most colleges are in California and taking study loans is common across all US. Colleges vary in terms of fraction of revenue they actually spend on students. Fraction of syudents with a Pell grant seems to have no impact on the default rates. \n",
    "\n",
    "The default rate is the highest in colleges with insufficient instructional expenses. This makes sense, as students who did not get the required time and attention from the lecturers are less likely to succeed in professional environment, which in turn decreases their chance to pay back their loans. After exceeding 15,000 USD in instructional expenses per student, the default rate stays relatively constant which means student success stops being dependent on the instructional expenses.\n",
    "\n",
    "Public colleges tend to offer better value for money, followed by private non-profit and then private for-profit universities. That is because public institutions get higher governmental subsidies and therefore can have instructional expenses per student exceeding individual tuition fees. This makes students get higher value than the one they put in.\n",
    "\n",
    "Cities with the largest number od loans are: Phoenix, Indianapolis, Milwaukee, Louisville and Columbus. It was difficult to assess whether technical universities tend to have smaller default rates than those teching humanities or vice versa. However, a small correlation between large fraction of history, social science, biology and mathematics and low default rates exists. \n",
    "\n",
    "Clearly, students who take loans with parental support are more likely to pay them back. This is important for the client while deciding whether to give a loan or not. It does not matter whether students study part-time or full-time from the perspective of the client.\n",
    "\n",
    "From the above it can be concluded that the target college is public, has many parent-backed loans and instructional expenses exceeding 15,000 USD per fte student."
   ]
  },
  {
   "cell_type": "markdown",
   "metadata": {},
   "source": [
    "### Q4: If you had to set a fixed interest rate per school for the coming year (2013-2014), what would have to be the minimum for each school in order to break even? (hint: you will need to predict default rates, include these results in your answer)"
   ]
  },
  {
   "cell_type": "markdown",
   "metadata": {},
   "source": [
    "Firstly, default rates are predicted for the academic year 2013-2014. In order to do so, influential feature selection is performed, next non-numerical features are encoded and regression is fit. Next, minimal interest rate per college is calculated following the equation:\n",
    "\n",
    "_interest rate = total loss / (total loans - total loss)_ \n",
    "\n",
    "where _total_ refers to values summarized per university, **not** all values in the features dataframe"
   ]
  },
  {
   "cell_type": "code",
   "execution_count": 52,
   "metadata": {},
   "outputs": [],
   "source": [
    "# Use only features present in college_features_df - e.g. loans_df are present only for the academic year 2012-2013,\n",
    "# hence if used for training, it would not be possible to use the trained model to make predictions for the academic\n",
    "# year 2013-2014\n",
    "\n",
    "# Drop unnecessary or biased features - name is contained by unitid, region and city are already described by state\n",
    "training_features = college_features_df.copy().set_index('unitid').drop(columns=['name','zip','opeid','region',\n",
    "                                                                                 'city']).columns\n",
    "xgb_features = features[training_features].copy()\n",
    "\n",
    "# Encode non-numerical features\n",
    "enc = OrdinalEncoder()\n",
    "xgb_features['state'] = enc.fit_transform(xgb_features[['state']])\n",
    "\n",
    "labels = features[['default_rate']]"
   ]
  },
  {
   "cell_type": "markdown",
   "metadata": {},
   "source": [
    "RandomizedSearch already contains k-fold cross-validation and therefore creating a separate validation set is not required."
   ]
  },
  {
   "cell_type": "code",
   "execution_count": 53,
   "metadata": {},
   "outputs": [],
   "source": [
    "# Split data into training, validation and test set\n",
    "X_train, X_test, y_train, y_test = train_test_split(xgb_features, labels, test_size=0.2)"
   ]
  },
  {
   "cell_type": "markdown",
   "metadata": {},
   "source": [
    "In this case I use XGBoost algorithm to save time. XGBoost is computationally efficient and often wins Kaggle competitions. However, using Ockham's Razor for developing the simplest working solution is a good practice."
   ]
  },
  {
   "cell_type": "code",
   "execution_count": 54,
   "metadata": {},
   "outputs": [],
   "source": [
    "xgb_model = xgb.XGBRegressor(objective=\"reg:squarederror\",\n",
    "                             random_state=42,\n",
    "                             n_jobs=-1)\n",
    "# Normalize data\n",
    "scaler = MinMaxScaler()\n",
    "\n",
    "# Remove low-variance features\n",
    "var_threshold = VarianceThreshold(threshold=0.01)"
   ]
  },
  {
   "cell_type": "markdown",
   "metadata": {},
   "source": [
    "I normalize the data to compensate for differences in magnitudes of different features. I use also _sklearn.pipeline_ to prevent data leakage which could be caused by normalizing the dataset before splitting it into train and test sets."
   ]
  },
  {
   "cell_type": "code",
   "execution_count": 55,
   "metadata": {},
   "outputs": [],
   "source": [
    "pipe = Pipeline([('scaler', scaler), ('var_threshold', var_threshold), ('xgb', xgb_model)])"
   ]
  },
  {
   "cell_type": "markdown",
   "metadata": {},
   "source": [
    "In case model training took significant amount of time, the usage of Principal Component Analysis could be considered. However, in this case single model fitting is almost instantaneous, hence PCA is not used."
   ]
  },
  {
   "cell_type": "code",
   "execution_count": 56,
   "metadata": {
    "scrolled": true
   },
   "outputs": [
    {
     "name": "stderr",
     "output_type": "stream",
     "text": [
      "C:\\Users\\danie\\anaconda3\\envs\\o9\\lib\\site-packages\\sklearn\\base.py:329: UserWarning: Trying to unpickle estimator MinMaxScaler from version 0.23.2 when using version 1.1.0. This might lead to breaking code or invalid results. Use at your own risk. For more info please refer to:\n",
      "https://scikit-learn.org/stable/modules/model_persistence.html#security-maintainability-limitations\n",
      "  warnings.warn(\n",
      "C:\\Users\\danie\\anaconda3\\envs\\o9\\lib\\site-packages\\sklearn\\base.py:329: UserWarning: Trying to unpickle estimator VarianceThreshold from version 0.23.2 when using version 1.1.0. This might lead to breaking code or invalid results. Use at your own risk. For more info please refer to:\n",
      "https://scikit-learn.org/stable/modules/model_persistence.html#security-maintainability-limitations\n",
      "  warnings.warn(\n",
      "C:\\Users\\danie\\anaconda3\\envs\\o9\\lib\\site-packages\\sklearn\\base.py:329: UserWarning: Trying to unpickle estimator Pipeline from version 0.23.2 when using version 1.1.0. This might lead to breaking code or invalid results. Use at your own risk. For more info please refer to:\n",
      "https://scikit-learn.org/stable/modules/model_persistence.html#security-maintainability-limitations\n",
      "  warnings.warn(\n",
      "C:\\Users\\danie\\anaconda3\\envs\\o9\\lib\\site-packages\\sklearn\\base.py:329: UserWarning: Trying to unpickle estimator RandomizedSearchCV from version 0.23.2 when using version 1.1.0. This might lead to breaking code or invalid results. Use at your own risk. For more info please refer to:\n",
      "https://scikit-learn.org/stable/modules/model_persistence.html#security-maintainability-limitations\n",
      "  warnings.warn(\n"
     ]
    }
   ],
   "source": [
    "params = {'xgb__learning_rate':[0.01,0.03,0.1,0.3],\n",
    "          'xgb__max_depth':np.arange(2,20,2),\n",
    "          'xgb__n_estimators':np.arange(0,200,10),\n",
    "          'xgb__alpha':[0.01,0.03,0.1,0.3,1,3,10],\n",
    "          'xgb__gamma':[0.01,0.03,0.1,0.3,1,3,10],\n",
    "          'xgb__lambda':[0,0.01,0.03,1,3,10]\n",
    "#           'xgb__colsample_bytree':np.arange(0,1.1,0.1)\n",
    "         }\n",
    "\n",
    "search = RandomizedSearchCV(pipe, param_distributions=params, n_iter=10, cv=10, return_train_score=True,\n",
    "                            scoring='neg_mean_squared_error') # neg_mean_absolute_error,\n",
    "                            \n",
    "# search.fit(X_train, y_train)\n",
    "\n",
    "# Load the trained model to save time and ensure results reproducibility\n",
    "filename = 'trained_model_file.sav'\n",
    "search = joblib.load(filename)"
   ]
  },
  {
   "cell_type": "code",
   "execution_count": 57,
   "metadata": {},
   "outputs": [],
   "source": [
    "best_idx = search.best_index_"
   ]
  },
  {
   "cell_type": "code",
   "execution_count": 58,
   "metadata": {},
   "outputs": [
    {
     "name": "stdout",
     "output_type": "stream",
     "text": [
      "TRAINING SET\n",
      "RMSE: 16.55\n",
      "MAE: 4.07\n"
     ]
    }
   ],
   "source": [
    "train_mae = abs(search.cv_results_['mean_train_score'][best_idx])**0.5\n",
    "train_rmse = abs(search.cv_results_['mean_train_score'][best_idx])\n",
    "\n",
    "print(\"TRAINING SET\")\n",
    "print(\"RMSE:\", train_rmse.round(2))\n",
    "print(\"MAE:\", train_mae.round(2))"
   ]
  },
  {
   "cell_type": "code",
   "execution_count": 59,
   "metadata": {},
   "outputs": [
    {
     "name": "stdout",
     "output_type": "stream",
     "text": [
      "VALIDATION SET\n",
      "RMSE: 29.15\n",
      "MAE: 5.4\n"
     ]
    }
   ],
   "source": [
    "val_rmse = abs(search.cv_results_['mean_test_score'][best_idx])\n",
    "val_mae = abs(search.cv_results_['mean_test_score'][best_idx])**0.5\n",
    "\n",
    "print(\"VALIDATION SET\")\n",
    "print(\"RMSE:\", val_rmse.round(2))\n",
    "print(\"MAE:\", val_mae.round(2))"
   ]
  },
  {
   "cell_type": "markdown",
   "metadata": {},
   "source": [
    "In order to assess bias vs. variance tradeoff, training and validation scores are compared. The model has training mean absolute error (MAE) around 0.6, and validation MAE around 5.3 which means it suffers from _high variance_, or in other words _overfitts_. It closely matches the training data, but fails to capture the general pattern and does not fit very well to new examples. This problem can be solved increasing regularization, decreasing the number of trees or decreasing the max depth. More careful tuning should be performed or, in case it does not produce satisfactor outcomes, the algorithm should be changed.\n",
    "\n",
    "A common practice is usage of **Grid Search** or **Randomized Search** to perform hyperparameter tuning. As this notebook focuses on the reasoning, rather than performing detailed calculations, a very brief model tuning was performed and the problem of high variance was not addressed sufficiently."
   ]
  },
  {
   "cell_type": "code",
   "execution_count": 60,
   "metadata": {},
   "outputs": [
    {
     "name": "stderr",
     "output_type": "stream",
     "text": [
      "C:\\Users\\danie\\anaconda3\\envs\\o9\\lib\\site-packages\\sklearn\\base.py:443: UserWarning: X has feature names, but MinMaxScaler was fitted without feature names\n",
      "  warnings.warn(\n"
     ]
    },
    {
     "ename": "AttributeError",
     "evalue": "'MinMaxScaler' object has no attribute 'clip'",
     "output_type": "error",
     "traceback": [
      "\u001b[1;31m---------------------------------------------------------------------------\u001b[0m",
      "\u001b[1;31mAttributeError\u001b[0m                            Traceback (most recent call last)",
      "Input \u001b[1;32mIn [60]\u001b[0m, in \u001b[0;36m<cell line: 2>\u001b[1;34m()\u001b[0m\n\u001b[0;32m      1\u001b[0m \u001b[38;5;66;03m# Inference\u001b[39;00m\n\u001b[1;32m----> 2\u001b[0m preds_train \u001b[38;5;241m=\u001b[39m \u001b[43msearch\u001b[49m\u001b[38;5;241;43m.\u001b[39;49m\u001b[43mbest_estimator_\u001b[49m\u001b[38;5;241;43m.\u001b[39;49m\u001b[43mpredict\u001b[49m\u001b[43m(\u001b[49m\u001b[43mX_train\u001b[49m\u001b[43m)\u001b[49m\n\u001b[0;32m      3\u001b[0m preds_test \u001b[38;5;241m=\u001b[39m search\u001b[38;5;241m.\u001b[39mbest_estimator_\u001b[38;5;241m.\u001b[39mpredict(X_test)\n",
      "File \u001b[1;32m~\\anaconda3\\envs\\o9\\lib\\site-packages\\sklearn\\pipeline.py:457\u001b[0m, in \u001b[0;36mPipeline.predict\u001b[1;34m(self, X, **predict_params)\u001b[0m\n\u001b[0;32m    455\u001b[0m Xt \u001b[38;5;241m=\u001b[39m X\n\u001b[0;32m    456\u001b[0m \u001b[38;5;28;01mfor\u001b[39;00m _, name, transform \u001b[38;5;129;01min\u001b[39;00m \u001b[38;5;28mself\u001b[39m\u001b[38;5;241m.\u001b[39m_iter(with_final\u001b[38;5;241m=\u001b[39m\u001b[38;5;28;01mFalse\u001b[39;00m):\n\u001b[1;32m--> 457\u001b[0m     Xt \u001b[38;5;241m=\u001b[39m \u001b[43mtransform\u001b[49m\u001b[38;5;241;43m.\u001b[39;49m\u001b[43mtransform\u001b[49m\u001b[43m(\u001b[49m\u001b[43mXt\u001b[49m\u001b[43m)\u001b[49m\n\u001b[0;32m    458\u001b[0m \u001b[38;5;28;01mreturn\u001b[39;00m \u001b[38;5;28mself\u001b[39m\u001b[38;5;241m.\u001b[39msteps[\u001b[38;5;241m-\u001b[39m\u001b[38;5;241m1\u001b[39m][\u001b[38;5;241m1\u001b[39m]\u001b[38;5;241m.\u001b[39mpredict(Xt, \u001b[38;5;241m*\u001b[39m\u001b[38;5;241m*\u001b[39mpredict_params)\n",
      "File \u001b[1;32m~\\anaconda3\\envs\\o9\\lib\\site-packages\\sklearn\\preprocessing\\_data.py:509\u001b[0m, in \u001b[0;36mMinMaxScaler.transform\u001b[1;34m(self, X)\u001b[0m\n\u001b[0;32m    507\u001b[0m X \u001b[38;5;241m*\u001b[39m\u001b[38;5;241m=\u001b[39m \u001b[38;5;28mself\u001b[39m\u001b[38;5;241m.\u001b[39mscale_\n\u001b[0;32m    508\u001b[0m X \u001b[38;5;241m+\u001b[39m\u001b[38;5;241m=\u001b[39m \u001b[38;5;28mself\u001b[39m\u001b[38;5;241m.\u001b[39mmin_\n\u001b[1;32m--> 509\u001b[0m \u001b[38;5;28;01mif\u001b[39;00m \u001b[38;5;28;43mself\u001b[39;49m\u001b[38;5;241;43m.\u001b[39;49m\u001b[43mclip\u001b[49m:\n\u001b[0;32m    510\u001b[0m     np\u001b[38;5;241m.\u001b[39mclip(X, \u001b[38;5;28mself\u001b[39m\u001b[38;5;241m.\u001b[39mfeature_range[\u001b[38;5;241m0\u001b[39m], \u001b[38;5;28mself\u001b[39m\u001b[38;5;241m.\u001b[39mfeature_range[\u001b[38;5;241m1\u001b[39m], out\u001b[38;5;241m=\u001b[39mX)\n\u001b[0;32m    511\u001b[0m \u001b[38;5;28;01mreturn\u001b[39;00m X\n",
      "\u001b[1;31mAttributeError\u001b[0m: 'MinMaxScaler' object has no attribute 'clip'"
     ]
    }
   ],
   "source": [
    "# Inference\n",
    "preds_train = search.best_estimator_.predict(X_train)\n",
    "preds_test = search.best_estimator_.predict(X_test)"
   ]
  },
  {
   "cell_type": "code",
   "execution_count": null,
   "metadata": {},
   "outputs": [],
   "source": [
    "print(\"TEST SET\")\n",
    "mse=mean_squared_error(y_test, preds_test)\n",
    "print(\"RMSE:\", np.sqrt(mse).round(2))\n",
    "\n",
    "mae = mean_absolute_error(y_test, preds_test)\n",
    "print(\"MAE:\", mae.round(2))"
   ]
  },
  {
   "cell_type": "code",
   "execution_count": null,
   "metadata": {},
   "outputs": [],
   "source": [
    "# Benchmark - predict always mean default rate\n",
    "print(\"BENCHMARK SET\")\n",
    "mean_default_rate = features['default_rate'].mean()\n",
    "benchmark_preds = features[['default_rate']].copy()\n",
    "benchmark_preds['default_rate'] = mean_default_rate\n",
    "\n",
    "mse=mean_squared_error(features['default_rate'], benchmark_preds)\n",
    "print(\"RMSE:\", np.sqrt(mse).round(2))\n",
    "\n",
    "mae = mean_absolute_error(features['default_rate'], benchmark_preds)\n",
    "print(\"MAE:\", mae.round(2))"
   ]
  },
  {
   "cell_type": "markdown",
   "metadata": {},
   "source": [
    "Saving model instance was done only once, after performing Randomized Search visible above."
   ]
  },
  {
   "cell_type": "code",
   "execution_count": null,
   "metadata": {},
   "outputs": [],
   "source": [
    "# Save trained model instance\n",
    "# filename = 'trained_model_file.sav'\n",
    "# joblib.dump(search, filename)"
   ]
  },
  {
   "cell_type": "markdown",
   "metadata": {},
   "source": [
    "_Predicting default rates for individual colleges in the academic year 2013-2014:_"
   ]
  },
  {
   "cell_type": "code",
   "execution_count": null,
   "metadata": {},
   "outputs": [],
   "source": [
    "# Clean data for the academic year 2013-2014\n",
    "print(college_features_2014.shape)\n",
    "\n",
    "# Use only features used for training\n",
    "# unit_ids_2014 = college_features_2014['unitid']\n",
    "college_features_2014 = college_features_2014[training_features]\n",
    "\n",
    "# Encode states (strings)\n",
    "states_encoded_2014 = enc.fit_transform(college_features_2014[['state']])\n",
    "college_features_2014['state'] = states_encoded_2014\n",
    "\n",
    "print(college_features_2014.shape)"
   ]
  },
  {
   "cell_type": "code",
   "execution_count": null,
   "metadata": {},
   "outputs": [],
   "source": [
    "# Predict future default rates:\n",
    "preds_future = search.predict(college_features_2014)\n",
    "\n",
    "# I assume that default rates might be 5 % higher than the predicted ones, as this is the calculated validation MAE\n",
    "# - a better model would require a smaller margin\n",
    "safety_margin = 5\n",
    "preds_future = preds_future + safety_margin"
   ]
  },
  {
   "cell_type": "markdown",
   "metadata": {},
   "source": [
    "#### Shortcut\n",
    "In order to get a valid result another two regression models would have to be created to predict the number of loans and their amounts in the coming academic year. Model training and evaluation would be done similarly to the one above. For simplicity it was assumed the number and the amount of loans in the coming academic year will not change with respect to values from 2012-2013. **This is a simplification which would not be used in a real business case.**"
   ]
  },
  {
   "cell_type": "code",
   "execution_count": null,
   "metadata": {},
   "outputs": [],
   "source": [
    "preds_future_df = pd.DataFrame({\"pred_default_rate\":preds_future},\n",
    "                               index=college_features_2014.index) # index opeid"
   ]
  },
  {
   "cell_type": "code",
   "execution_count": null,
   "metadata": {},
   "outputs": [],
   "source": [
    "preds_future_df.describe()"
   ]
  },
  {
   "cell_type": "code",
   "execution_count": null,
   "metadata": {},
   "outputs": [],
   "source": [
    "common_unitids = college_features_2014.index.intersection(features.index)\n",
    "\n",
    "features_aligned = features.loc[common_unitids]\n",
    "preds_aligned = preds_future_df.loc[common_unitids]"
   ]
  },
  {
   "cell_type": "markdown",
   "metadata": {},
   "source": [
    "\"nb\" in loans_df DataFrame corresponds to the number of student borrowers or the students on behalf who a loan was taken. Nb values cannot be added up to obtain the total number of borrowers which is stored in rates_df in _number_of_loans_ column.\n",
    "\n",
    "According to the hints at the end of this notebook: _\"The client is only interested in unsubsidized undergraduate loans\"_. The total amount of loans per school is calculated to identify where the largest market for loans exists. Only **disbursements** are considered, as **originated** columns correspond to the original assigned loan quotas, rather than the actual cash flows."
   ]
  },
  {
   "cell_type": "code",
   "execution_count": null,
   "metadata": {
    "scrolled": true
   },
   "outputs": [],
   "source": [
    "# Perform calculations only for colleges present both in 2012-2013 and 2013-2014 data\n",
    "cashflow = features_aligned[['name','unsubsidized_undergraduate_disbursements_usd','number_of_loans']].copy()\n",
    "cashflow['pred_default_rate'] = preds_aligned.copy() # includes safety margin!\n",
    "cashflow = cashflow.rename(columns={\"unsubsidized_undergraduate_disbursements_usd\":\"loans_USD\"})\n",
    "cashflow['total_loans_M_USD'] = cashflow['loans_USD'] / 10**6\n",
    "cashflow['loss_M_USD'] = cashflow['total_loans_M_USD'] * (cashflow['pred_default_rate'] / 100)\n",
    "cashflow['break_even_interest_rate'] = cashflow['loss_M_USD'] / (cashflow['total_loans_M_USD'] - cashflow['loss_M_USD'])\n",
    "\n",
    "# Convert number of loans to integers\n",
    "cashflow['number_of_loans'] = cashflow[['number_of_loans']].astype('int64')\n",
    "print(\"WARNING: The below calculation is based on the predicted default rate with conservative 5% safety margin. \\n\"\n",
    "      \"In real life the margin would be selected after discussion with the client and based on a better model. \\n\"\n",
    "      \"THIS COULD SIGNIFICANTLY ALTER THE RESULTS.\")\n",
    "cashflow.sort_values(by='break_even_interest_rate', ascending=True).head(3)"
   ]
  },
  {
   "cell_type": "code",
   "execution_count": null,
   "metadata": {},
   "outputs": [],
   "source": [
    "cashflow.sort_values(by='break_even_interest_rate', ascending=False).head(3)"
   ]
  },
  {
   "cell_type": "code",
   "execution_count": null,
   "metadata": {},
   "outputs": [],
   "source": [
    "break_even_interest_rates = pd.DataFrame(round(cashflow['break_even_interest_rate'] * 100,2))\n",
    "break_even_interest_rates.describe()"
   ]
  },
  {
   "cell_type": "markdown",
   "metadata": {},
   "source": [
    "### A4:\n",
    "Minimum interest rates for the client to break even are presented in _break even interest rate_ column of the \"cashflow\" dataframe. Three lowest interest rates are needed at: the Allen College, Bellin College and Shenandoah University. The highest interest rates are needed for the Vance-Granville Community College, Carteret Community College and Robeson Community College."
   ]
  },
  {
   "cell_type": "markdown",
   "metadata": {},
   "source": [
    "### Q5: Assuming you could have a monopoly on loans for students enrolled at one of five universities next year (2013-2014), what universities would you pick and why? (assuming all loans get charged the same rate of 7%)?"
   ]
  },
  {
   "cell_type": "code",
   "execution_count": null,
   "metadata": {},
   "outputs": [],
   "source": [
    "cashflow_future = cashflow[['name','pred_default_rate','total_loans_M_USD','loss_M_USD']].copy()\n",
    "cashflow_future['interest_rate'] = 0.07\n",
    "# revenue = successfully paid back loans * interest rate\n",
    "cashflow_future['client_revenue_M_USD'] = (cashflow_future['total_loans_M_USD'] -\n",
    "                                           cashflow_future['loss_M_USD']) * cashflow_future['interest_rate']\n",
    "# profit = revenue - cost\n",
    "cashflow_future['client_profit_k_USD'] = (cashflow_future['client_revenue_M_USD'] - cashflow_future['loss_M_USD']) * 1000\n",
    "\n",
    "print(\"WARNING: The below calculation is based on the predicted default rate with conservative 5% safety margin. \\n\"\n",
    "      \"In real life the margin would be selected after discussion with the client and based on a better model. \\n\"\n",
    "      \"THIS COULD SIGNIFICANTLY ALTER THE RESULTS.\")\n",
    "\n",
    "# Drop universities without name value\n",
    "cashflow_future.sort_values(by=\"client_profit_k_USD\", ascending=False).head()"
   ]
  },
  {
   "cell_type": "markdown",
   "metadata": {},
   "source": [
    "### A5:\n",
    "Having monopoly on loans the client should target the universities with the highest potential profit. These would be: Villanova University, Shenandoah University, Allen College, Boston College and Gettysburg College\t.\n",
    "\n",
    "Again, it is assumed the number of loans in the academic year 2013/2014 is the same as it was in year 2012/2013. It is assumed also that the costs of education will not increase significantly and that the amount of borrowed money remains the same. **These assumptions would not be made in real life case study.** "
   ]
  },
  {
   "cell_type": "markdown",
   "metadata": {},
   "source": [
    "### Q6: Assuming every school gets assigned to a category that determines the interest rate charged on its students' loans, how would you define those categories and how many would there be? Rank these categories by assigned interest rate and display your reasoning graphically."
   ]
  },
  {
   "cell_type": "markdown",
   "metadata": {},
   "source": [
    "Firstly, I apply PCA to reduce dimensionality, and to make KMeans focus on relevant features while clustering the dataset. "
   ]
  },
  {
   "cell_type": "code",
   "execution_count": null,
   "metadata": {},
   "outputs": [],
   "source": [
    "# Create PCA instance\n",
    "pca = PCA()\n",
    "pca.fit(xgb_features)"
   ]
  },
  {
   "cell_type": "code",
   "execution_count": null,
   "metadata": {},
   "outputs": [],
   "source": [
    "# Find the optimal number of principal components\n",
    "plt.plot(range(len(pca.explained_variance_ratio_)),np.cumsum(pca.explained_variance_ratio_), '-')\n",
    "plt.title(\"Cumulative Variance Explained\")\n",
    "plt.xlabel(\"Number of Components\")\n",
    "plt.ylabel(\"Ratio of variance explained\")\n",
    "plt.xlim([0,5])\n",
    "plt.show()"
   ]
  },
  {
   "cell_type": "code",
   "execution_count": null,
   "metadata": {},
   "outputs": [],
   "source": [
    "# Reducing dataset to 3 dimensions\n",
    "n_components = 3\n",
    "pca = PCA(n_components=n_components)\n",
    "pca.fit(xgb_features) # xgb_features\n",
    "\n",
    "# Transforming the scaled data to new PCA space\n",
    "X_reduced = pca.transform(xgb_features) # xgb_features\n",
    "\n",
    "# Checking how much variance is retained\n",
    "exp_variance = round(sum(pca.explained_variance_ratio_) * 100, 2)\n",
    "print(f\"{n_components} principal components explained {exp_variance} % of variance in this dataset\")\n",
    "\n",
    "# Convert to a data frame\n",
    "X_reduceddf = pd.DataFrame(X_reduced, index=xgb_features.index, columns=['PC1','PC2','PC3'])\n",
    "X_reduceddf.head()"
   ]
  },
  {
   "cell_type": "code",
   "execution_count": null,
   "metadata": {
    "scrolled": false
   },
   "outputs": [],
   "source": [
    "display_component(pca, component_num=2, features=xgb_features.columns)"
   ]
  },
  {
   "cell_type": "markdown",
   "metadata": {},
   "source": [
    "After analyzing the weights of each principal component it was discovered that only a few features describe vast majority of variance in this dataset: undergrad enrollment size, net tuition revenue per fte student and instructional expenditure per fte. This finding could be used to improve feature selection at the beginning of this analysis.\n",
    "\n",
    "The approach of choice for college clustering is the KMeans algorithm. The number of categories (clusters) is selected using the **elbow method** which uses a graph containing sum of squared distances on the y axis and the number of clusters on the x axis. The point where the curve rapidly flattens determines the optimal number of clusters which in this case is 3."
   ]
  },
  {
   "cell_type": "code",
   "execution_count": null,
   "metadata": {},
   "outputs": [],
   "source": [
    "kmeans_data = X_reduceddf.copy()"
   ]
  },
  {
   "cell_type": "code",
   "execution_count": null,
   "metadata": {},
   "outputs": [],
   "source": [
    "for i in range(1,10):\n",
    "    kmeans = KMeans(n_clusters=i, random_state=0)\n",
    "    kmeans.fit(kmeans_data)\n",
    "    plt.scatter(i, kmeans.inertia_, color='#1f77b4')\n",
    "plt.xlabel(\"Number of clusters [-]\")\n",
    "plt.ylabel(\"Sum of squared distances [-]\")\n",
    "plt.title(\"The Elbow Method\")\n",
    "plt.show()\n",
    "plt.close()"
   ]
  },
  {
   "cell_type": "markdown",
   "metadata": {},
   "source": [
    "The optimal number of clusters is 3, as for more clusters the sum of squared distances flattens.\n",
    "\n",
    "Colleges belonging to the same cluster should share similar features. They all should be public schools, all have instructional expenses in a given range or share some other properties. \n",
    "\n",
    "**Below it is analyzed why colleges belong to the same cluster.**"
   ]
  },
  {
   "cell_type": "code",
   "execution_count": null,
   "metadata": {},
   "outputs": [],
   "source": [
    "# Overwrite previous kmeans instance\n",
    "kmeans = KMeans(n_clusters=3, random_state=0)\n",
    "kmeans.fit(kmeans_data)"
   ]
  },
  {
   "cell_type": "code",
   "execution_count": null,
   "metadata": {
    "scrolled": false
   },
   "outputs": [],
   "source": [
    "# Trying to prove that colleges in the same cluster have similar interest rates\n",
    "clustered_df = features.copy()\n",
    "clustered_df['cluster'] = kmeans.labels_\n",
    "\n",
    "# Default rates distributions for each cluster\n",
    "sns.displot(data=clustered_df, x='default_rate', hue=\"cluster\", palette='tab10', binwidth=2.5)"
   ]
  },
  {
   "cell_type": "markdown",
   "metadata": {},
   "source": [
    "Clearly, clusters are associated with default rates which confirms this set of features can be used to predict the default rates. Colleges in cluster 1 tend to have lower default rates than colleges in cluster 2.\n",
    "\n",
    "As can be seen below, _net_tuition_revenue per fte student_ has significant impact on deciding whether a college belongs to cluster 1 or 2. It does not seem to have large influence on belonging to cluster 0."
   ]
  },
  {
   "cell_type": "code",
   "execution_count": null,
   "metadata": {},
   "outputs": [],
   "source": [
    "sns.scatterplot(data=clustered_df, x=\"net_tuition_revenue_per_full_time_equivalent_student\",\n",
    "                y=\"instructional_expenditure_per_fte\", hue='cluster', palette=\"tab10\")"
   ]
  },
  {
   "cell_type": "markdown",
   "metadata": {},
   "source": [
    "As presented below, colleges in cluster 2 have significantly larger enrolment size than colleges in clusters 0 and 1."
   ]
  },
  {
   "cell_type": "code",
   "execution_count": null,
   "metadata": {},
   "outputs": [],
   "source": [
    "sns.scatterplot(data=clustered_df, x=\"undergrad_enrollment_size\",\n",
    "                y=\"share_first_time_full_time_students\", hue='cluster', palette=\"tab10\")"
   ]
  },
  {
   "cell_type": "markdown",
   "metadata": {},
   "source": [
    "### A6:\n",
    "This answer is based on the hint: _You can assume that interest rates are solely influenced by expected default rates._\n",
    "Therefore, the analysis in Q6 focused on the default rate. Firstly, PCA was applied to the dataset to reduce its dimensionality while retaining close to 100% variance. Next, KMeans algorithm was trained and the elbow method was used to discover the dataset can be split into 3 distinct categories. Finally, it was discovered that colleges in cluster 1 have high net_tuition_revenue_per_full_time_equivalent_student and for cluster 2 this feature is low. Colleges in cluster 0 have high undergrad enrollment size.\n",
    "\n",
    "Since interest rate is assumed to be influenced only by the default rate, the lowest interest rates will have colleges in cluster 1, followed by colleges in clusters 0 and 2. "
   ]
  },
  {
   "cell_type": "markdown",
   "metadata": {},
   "source": [
    "### Q7: Can you provide a ballpark estimate of the amount of work and timeline required for fully answering these questions?"
   ]
  },
  {
   "cell_type": "markdown",
   "metadata": {},
   "source": [
    "### A7: \n",
    "Full analysis would take me in total around 3 working days."
   ]
  },
  {
   "cell_type": "markdown",
   "metadata": {},
   "source": [
    "### Hints\n",
    "You can assume that interest rates are solely influenced by expected default rates.<br/>\n",
    "The client is only interested in unsubsidized undergraduate loans.<br/>\n",
    "You can assume that the default rates are the same for all loan types.<br/>\n",
    "Note that lenders will always include <u>on top of their predictions</u> a margin of safety in the calculation of their interest rates.<br/>"
   ]
  },
  {
   "cell_type": "markdown",
   "metadata": {},
   "source": [
    "### References\n",
    "The datasets that are included in this challenge are publicly available under the following licenses:\n",
    "* college_features_2012_2013/2013_2014: This work is licensed by the US Department of Education under a <a href=\"https://creativecommons.org/publicdomain/zero/1.0/legalcode\">Creative Commons CCZero 1.0 License/Waiver</a>.\n",
    "* loans_2012_2013: This work is licensed by the Office of Federal Student Aid of the US Department of Education under a <a href=\"https://creativecommons.org/publicdomain/zero/1.0/legalcode\">Creative Commons CCZero 1.0 License/Waiver</a>.\n",
    "* default_rates_2012_2013/2011_2012: This work is licensed by the Office of Federal Student Aid of the US Department of Education under a <a href=\"https://creativecommons.org/publicdomain/zero/1.0/legalcode\">Creative Commons CCZero 1.0 License/Waiver</a>.\n",
    "\n",
    "The datasets included are adaptations of the original work, as published on following addresses:\n",
    "* college_features_2012_2013/2013_2014: https://catalog.data.gov/dataset/college-scorecard\n",
    "* loans_2012_2013: https://catalog.data.gov/dataset/federal-student-loan-program-data\n",
    "* default_rates_2012_2013/2011_2012: https://catalog.data.gov/dataset/federal-family-education-loan-direct-loan-cohort-default-rates-2011/resource/6b240462-997d-44d3-8799-3325e0419643?inner_span=True"
   ]
  }
 ],
 "metadata": {
  "kernelspec": {
   "display_name": "Python 3 (ipykernel)",
   "language": "python",
   "name": "python3"
  },
  "language_info": {
   "codemirror_mode": {
    "name": "ipython",
    "version": 3
   },
   "file_extension": ".py",
   "mimetype": "text/x-python",
   "name": "python",
   "nbconvert_exporter": "python",
   "pygments_lexer": "ipython3",
   "version": "3.9.7"
  }
 },
 "nbformat": 4,
 "nbformat_minor": 2
}
