{
 "cells": [
  {
   "cell_type": "markdown",
   "id": "bfcacd21",
   "metadata": {},
   "source": [
    "# Churn Prediction - Binary Classification\n",
    "This notebook uses features identified as promising in the EDA notebook. It investigates correlations between features, removes NaNs and outliers, looks for class imbalance and finally trains a Gradient Boosting Classifier using Randmized Search.\n",
    "\n",
    "Author: Daniel Grzebyk\n",
    "\n",
    "Date: August 7th, 2022"
   ]
  },
  {
   "cell_type": "code",
   "execution_count": 1,
   "id": "ccf6beeb",
   "metadata": {},
   "outputs": [],
   "source": [
    "import sys\n",
    "import pandas as pd\n",
    "import numpy as np\n",
    "import matplotlib.pyplot as plt\n",
    "import seaborn as sns\n",
    "\n",
    "from sklearn.preprocessing import OneHotEncoder, MinMaxScaler, StandardScaler, OrdinalEncoder, LabelEncoder\n",
    "from sklearn.compose import ColumnTransformer, make_column_transformer\n",
    "from sklearn.feature_selection import VarianceThreshold, SelectKBest, chi2, f_classif, mutual_info_classif, SelectFromModel, RFE\n",
    "from sklearn.model_selection import train_test_split, RandomizedSearchCV, learning_curve\n",
    "from sklearn.linear_model import LogisticRegression\n",
    "from sklearn.svm import SVC\n",
    "from sklearn.ensemble import RandomForestClassifier, GradientBoostingClassifier\n",
    "from sklearn.pipeline import Pipeline\n",
    "from sklearn.metrics import mean_squared_error, accuracy_score, precision_score, recall_score, confusion_matrix,classification_report\n",
    "\n",
    "from sklearn.naive_bayes import GaussianNB\n",
    "from sklearn.tree import DecisionTreeClassifier\n",
    "\n",
    "sys.path.append(\"C:\\\\Users\\\\danie\\\\PycharmProjects\\\\data_analysis\\\\utils\\\\\")\n",
    "from classification_utils import chi_test, chi_test_new, find_boolean_features, find_correlated_features, remove_outliers, plot_learning_curve"
   ]
  },
  {
   "cell_type": "markdown",
   "id": "79a87468",
   "metadata": {},
   "source": [
    "## Loading the data"
   ]
  },
  {
   "cell_type": "code",
   "execution_count": 2,
   "id": "f6315453",
   "metadata": {},
   "outputs": [],
   "source": [
    "selected_features = ['mou_opkv_Mean','months', 'uniqsubs', 'actvsubs', 'hnd_price', 'truck', 'rv', 'adults', 'income',\n",
    "                     'eqpdays','new_cell', 'area', 'dualband', 'refurb_new', 'hnd_webcap', 'marital', 'infobase',\n",
    "                     'kid0_2', 'kid3_5', 'kid6_10', 'kid11_15', 'kid16_17', 'churn']\n",
    "# selected_features = ['eqpdays', 'months', 'mou_opkv_Mean', 'hnd_price', 'churn']\n",
    "\n",
    "df = pd.read_csv(\"../data/telecom/data.csv\", usecols=selected_features)\n",
    "var_df = pd.read_csv(\"../data/telecom/variables-definition.csv\")"
   ]
  },
  {
   "cell_type": "code",
   "execution_count": 3,
   "id": "04e10bfe",
   "metadata": {},
   "outputs": [],
   "source": [
    "X = df.drop(columns=['churn']).copy()\n",
    "y = df['churn'].copy()"
   ]
  },
  {
   "cell_type": "code",
   "execution_count": 4,
   "id": "23249dcd",
   "metadata": {},
   "outputs": [
    {
     "data": {
      "text/plain": [
       "(100000, 22)"
      ]
     },
     "execution_count": 4,
     "metadata": {},
     "output_type": "execute_result"
    }
   ],
   "source": [
    "X.shape"
   ]
  },
  {
   "cell_type": "markdown",
   "id": "49f32deb",
   "metadata": {},
   "source": [
    "### Investigating Correlations\n",
    "Ideally, features should be correlated with the label and not correlated with each other. As Pearson correlation reveals only linear dependencies, its value between features and label are not conclusive. A feature might have low value of Pearson correlation, but have strong predictive power. Therefore, features with low correlation with churn are __not__ removed. \n",
    "\n",
    "1. Removing features correlated with other features\n",
    "2. Finding features uncorrelated with churn (label)\n",
    "\n",
    "#### Categorical Features\n",
    "Chi test revealed that handest web capacity is the most promising of all categorical features. "
   ]
  },
  {
   "cell_type": "code",
   "execution_count": 5,
   "id": "1ff1e8c3",
   "metadata": {},
   "outputs": [
    {
     "data": {
      "text/plain": [
       "Index(['new_cell', 'area', 'dualband', 'refurb_new', 'hnd_webcap', 'marital',\n",
       "       'infobase', 'kid0_2', 'kid3_5', 'kid6_10', 'kid11_15', 'kid16_17'],\n",
       "      dtype='object')"
      ]
     },
     "execution_count": 5,
     "metadata": {},
     "output_type": "execute_result"
    }
   ],
   "source": [
    "cat_features = X.select_dtypes(include='object').columns\n",
    "cat_features"
   ]
  },
  {
   "cell_type": "code",
   "execution_count": 6,
   "id": "ad00a792",
   "metadata": {},
   "outputs": [],
   "source": [
    "cat_features = X.select_dtypes(include='object').columns\n",
    "\n",
    "my_x = X[cat_features].dropna().copy()\n",
    "my_y = y.loc[my_x.index]\n",
    "\n",
    "one_hot = OneHotEncoder(sparse=False)  # handle_unknown='ignore'\n",
    "my_x_enc = one_hot.fit_transform(my_x)\n",
    "\n",
    "chi2_selector = SelectKBest(score_func=chi2, k='all')\n",
    "chi2_selector.fit(my_x_enc, my_y)\n",
    "\n",
    "X_train_chi = chi2_selector.transform(my_x_enc)"
   ]
  },
  {
   "cell_type": "code",
   "execution_count": 7,
   "id": "70963097",
   "metadata": {},
   "outputs": [
    {
     "name": "stderr",
     "output_type": "stream",
     "text": [
      "C:\\Users\\danie\\anaconda3\\envs\\data_analysis\\lib\\site-packages\\sklearn\\utils\\deprecation.py:87: FutureWarning: Function get_feature_names is deprecated; get_feature_names is deprecated in 1.0 and will be removed in 1.2. Please use get_feature_names_out instead.\n",
      "  warnings.warn(msg, category=FutureWarning)\n"
     ]
    },
    {
     "data": {
      "text/html": [
       "<div>\n",
       "<style scoped>\n",
       "    .dataframe tbody tr th:only-of-type {\n",
       "        vertical-align: middle;\n",
       "    }\n",
       "\n",
       "    .dataframe tbody tr th {\n",
       "        vertical-align: top;\n",
       "    }\n",
       "\n",
       "    .dataframe thead th {\n",
       "        text-align: right;\n",
       "    }\n",
       "</style>\n",
       "<table border=\"1\" class=\"dataframe\">\n",
       "  <thead>\n",
       "    <tr style=\"text-align: right;\">\n",
       "      <th></th>\n",
       "      <th>feature</th>\n",
       "      <th>score</th>\n",
       "      <th>p_value</th>\n",
       "    </tr>\n",
       "  </thead>\n",
       "  <tbody>\n",
       "    <tr>\n",
       "      <th>29</th>\n",
       "      <td>hnd_webcap_WC</td>\n",
       "      <td>311.278190</td>\n",
       "      <td>1.150221e-69</td>\n",
       "    </tr>\n",
       "    <tr>\n",
       "      <th>27</th>\n",
       "      <td>refurb_new_R</td>\n",
       "      <td>71.981433</td>\n",
       "      <td>2.172317e-17</td>\n",
       "    </tr>\n",
       "    <tr>\n",
       "      <th>16</th>\n",
       "      <td>area_NORTHWEST/ROCKY MOUNTAIN AREA</td>\n",
       "      <td>64.364388</td>\n",
       "      <td>1.034105e-15</td>\n",
       "    </tr>\n",
       "    <tr>\n",
       "      <th>30</th>\n",
       "      <td>hnd_webcap_WCMB</td>\n",
       "      <td>58.362259</td>\n",
       "      <td>2.180338e-14</td>\n",
       "    </tr>\n",
       "    <tr>\n",
       "      <th>22</th>\n",
       "      <td>dualband_N</td>\n",
       "      <td>52.025357</td>\n",
       "      <td>5.478853e-13</td>\n",
       "    </tr>\n",
       "  </tbody>\n",
       "</table>\n",
       "</div>"
      ],
      "text/plain": [
       "                               feature       score       p_value\n",
       "29                       hnd_webcap_WC  311.278190  1.150221e-69\n",
       "27                        refurb_new_R   71.981433  2.172317e-17\n",
       "16  area_NORTHWEST/ROCKY MOUNTAIN AREA   64.364388  1.034105e-15\n",
       "30                     hnd_webcap_WCMB   58.362259  2.180338e-14\n",
       "22                          dualband_N   52.025357  5.478853e-13"
      ]
     },
     "execution_count": 7,
     "metadata": {},
     "output_type": "execute_result"
    }
   ],
   "source": [
    "feature_names = one_hot.get_feature_names(cat_features)\n",
    "\n",
    "chi_df = pd.DataFrame({\"feature\": feature_names, \"score\": chi2_selector.scores_, \"p_value\": chi2_selector.pvalues_})\n",
    "chi_df.loc[chi_df['p_value'] < 0.05].sort_values(by='p_value', ascending=True).head()"
   ]
  },
  {
   "cell_type": "code",
   "execution_count": 8,
   "id": "00f9323a",
   "metadata": {},
   "outputs": [
    {
     "data": {
      "image/png": "[encoded data removed]",
      "text/plain": [
       "<Figure size 432x288 with 1 Axes>"
      ]
     },
     "metadata": {
      "needs_background": "light"
     },
     "output_type": "display_data"
    }
   ],
   "source": [
    "chi_df.nsmallest(10, columns=['p_value']).plot(x='feature', y='score', kind='bar')\n",
    "plt.xlabel(\"\")\n",
    "plt.ylabel(\"p-value [-]\")\n",
    "plt.show()"
   ]
  },
  {
   "cell_type": "markdown",
   "id": "f391076b",
   "metadata": {},
   "source": [
    "#### Numerical features\n",
    "Continous numerical features are also investigated looking for correlations. Handest price is inversely correlated with its age which is intuitive as phones become cheaper with time and fatigue. Equipment age has weak correlation with age in months which might indicate that some clients have not changed their devices since their first contract with the telecom company. The remaining features are not correlated between themselves and with the target value. This, together with the findings in EDA is a warning that the dataset might not contain enough information to predict churn."
   ]
  },
  {
   "cell_type": "code",
   "execution_count": 9,
   "id": "69ed0263",
   "metadata": {},
   "outputs": [
    {
     "data": {
      "text/plain": [
       "Index(['mou_opkv_Mean', 'churn', 'months', 'uniqsubs', 'actvsubs', 'hnd_price',\n",
       "       'truck', 'rv', 'adults', 'income', 'eqpdays'],\n",
       "      dtype='object')"
      ]
     },
     "execution_count": 9,
     "metadata": {},
     "output_type": "execute_result"
    }
   ],
   "source": [
    "num_features = df.select_dtypes(include='number').columns\n",
    "num_features"
   ]
  },
  {
   "cell_type": "code",
   "execution_count": 10,
   "id": "c3c7f8ba",
   "metadata": {},
   "outputs": [
    {
     "data": {
      "text/plain": [
       "<AxesSubplot:>"
      ]
     },
     "execution_count": 10,
     "metadata": {},
     "output_type": "execute_result"
    },
    {
     "data": {
      "image/png": "[encoded data removed]",
      "text/plain": [
       "<Figure size 432x288 with 2 Axes>"
      ]
     },
     "metadata": {
      "needs_background": "light"
     },
     "output_type": "display_data"
    }
   ],
   "source": [
    "corr_matrix = df.corr()\n",
    "sns.heatmap(corr_matrix)"
   ]
  },
  {
   "cell_type": "markdown",
   "id": "8dcd01b1",
   "metadata": {},
   "source": [
    "## Data Preprocessing\n",
    "### Removing duplicates"
   ]
  },
  {
   "cell_type": "code",
   "execution_count": 11,
   "id": "02f63d8f",
   "metadata": {},
   "outputs": [
    {
     "data": {
      "text/plain": [
       "25"
      ]
     },
     "execution_count": 11,
     "metadata": {},
     "output_type": "execute_result"
    }
   ],
   "source": [
    "X.duplicated().sum()"
   ]
  },
  {
   "cell_type": "code",
   "execution_count": 12,
   "id": "b2d5bddf",
   "metadata": {},
   "outputs": [],
   "source": [
    "X.drop_duplicates(inplace=True)"
   ]
  },
  {
   "cell_type": "markdown",
   "id": "2155bfe4",
   "metadata": {},
   "source": [
    "### Removing outliers"
   ]
  },
  {
   "cell_type": "code",
   "execution_count": 13,
   "id": "41f04a34",
   "metadata": {
    "scrolled": true
   },
   "outputs": [],
   "source": [
    "def remove_outliers_iqr(X, cols):\n",
    "    for col in cols:\n",
    "        feature = X[col]\n",
    "        q1 = feature.quantile(0.25)\n",
    "        q3 = feature.quantile(0.75)\n",
    "        iqr = q3 - q1\n",
    "        mask = feature.loc[((feature < (q1 - 1.5 * iqr)) | (feature > (q3 + 1.5 * iqr)))].index\n",
    "        X.loc[mask, col] = np.nan\n",
    "    return X"
   ]
  },
  {
   "cell_type": "code",
   "execution_count": 14,
   "id": "8931617f",
   "metadata": {},
   "outputs": [],
   "source": [
    "num_features = X.select_dtypes(include='number').columns\n",
    "X = remove_outliers_iqr(X, num_features)"
   ]
  },
  {
   "cell_type": "markdown",
   "id": "db3f7eff",
   "metadata": {},
   "source": [
    "### Removing NaNs\n",
    "Some columns have so many missing values that keeping them would leave us with too small dataset. Therefore, firstly entire columns with too many missing values are removed and then NaNs are dropped per row. "
   ]
  },
  {
   "cell_type": "code",
   "execution_count": 15,
   "id": "9943c59a",
   "metadata": {},
   "outputs": [
    {
     "data": {
      "text/plain": [
       "income        25418\n",
       "adults        23001\n",
       "infobase      22061\n",
       "truck         20287\n",
       "hnd_webcap    10187\n",
       "dtype: int64"
      ]
     },
     "execution_count": 15,
     "metadata": {},
     "output_type": "execute_result"
    }
   ],
   "source": [
    "# Count NaNs\n",
    "nans_per_feature = X.isna().sum()\n",
    "nans_per_feature[nans_per_feature > 10000].sort_values(ascending=False)  # Is one of the dropped features crucial?"
   ]
  },
  {
   "cell_type": "code",
   "execution_count": 16,
   "id": "f2da825c",
   "metadata": {},
   "outputs": [
    {
     "name": "stdout",
     "output_type": "stream",
     "text": [
      "Dropping: ['hnd_webcap', 'truck', 'adults', 'infobase', 'income']\n",
      "Before dropping rows with NaNs: (99975, 17)\n",
      "After dropping rows with NaNs: (75009, 17)\n"
     ]
    }
   ],
   "source": [
    "cols_to_drop = list(nans_per_feature[nans_per_feature > 10000].index)  # drop features which have more than 20% NaNs\n",
    "X.drop(columns=cols_to_drop, inplace=True)\n",
    "print(\"Dropping:\", cols_to_drop)\n",
    "\n",
    "print(\"Before dropping rows with NaNs:\", X.shape)\n",
    "X.dropna(inplace=True)\n",
    "y = y.loc[X.index]\n",
    "print(\"After dropping rows with NaNs:\", X.shape)"
   ]
  },
  {
   "cell_type": "markdown",
   "id": "baa7b7e6",
   "metadata": {},
   "source": [
    "### Looking for class imbalance"
   ]
  },
  {
   "cell_type": "code",
   "execution_count": 17,
   "id": "2813c1c3",
   "metadata": {},
   "outputs": [
    {
     "data": {
      "text/plain": [
       "0    37693\n",
       "1    37316\n",
       "Name: churn, dtype: int64"
      ]
     },
     "execution_count": 17,
     "metadata": {},
     "output_type": "execute_result"
    }
   ],
   "source": [
    "y.value_counts()"
   ]
  },
  {
   "cell_type": "code",
   "execution_count": 18,
   "id": "8bc65faa",
   "metadata": {},
   "outputs": [
    {
     "data": {
      "text/plain": [
       "(7, 10)"
      ]
     },
     "execution_count": 18,
     "metadata": {},
     "output_type": "execute_result"
    }
   ],
   "source": [
    "num_features = X.select_dtypes(include='number').columns\n",
    "cat_features = X.select_dtypes(include='object').columns\n",
    "len(num_features), len(cat_features)"
   ]
  },
  {
   "cell_type": "markdown",
   "id": "1f59042f",
   "metadata": {},
   "source": [
    "## Predicting churn\n",
    "80% of data is assigned to the training set and the remaining 20% to the validation set. It would be beneficial to evaluate model performance also on a test (left out) set to measure the real life performance. Test set is not created, as the model did not perform well on the validation set. "
   ]
  },
  {
   "cell_type": "markdown",
   "id": "e7534feb",
   "metadata": {},
   "source": [
    "### Splitting the data"
   ]
  },
  {
   "cell_type": "code",
   "execution_count": 19,
   "id": "145c2f2b",
   "metadata": {},
   "outputs": [],
   "source": [
    "X_train, X_val, y_train, y_val = train_test_split(X, y, test_size=0.2, random_state=42)"
   ]
  },
  {
   "cell_type": "code",
   "execution_count": 20,
   "id": "1075039f",
   "metadata": {},
   "outputs": [
    {
     "data": {
      "text/plain": [
       "(60007, 17)"
      ]
     },
     "execution_count": 20,
     "metadata": {},
     "output_type": "execute_result"
    }
   ],
   "source": [
    "X_train.shape"
   ]
  },
  {
   "cell_type": "markdown",
   "id": "d38a9694",
   "metadata": {},
   "source": [
    "### Training the model\n",
    "Numerical features with low variance are removed, 5 best categorical features are retained for training the model. Several algorithms including Naive Bayes, Support Vector Classifier, Decision Tree, Random Forest and Gradient Boosting classifiers were tested. Although some of them provided relatively good recall above 0.7, the precision remained low. \n",
    "\n",
    "It is unclear what is the cost of offering an incentive (discount?) to a potential churner who infact is not considering to leave (false positive). It is assumed that it is lower than the cost of failing to predict who the next churner is and letting him/her leave (false negative). Therefore, recall is more important then precision, but we want to prevent a situation when everybody is offered a discount. F1 score is used to compromise between precision and recall."
   ]
  },
  {
   "cell_type": "code",
   "execution_count": 21,
   "id": "b7b02d3b",
   "metadata": {
    "scrolled": false
   },
   "outputs": [],
   "source": [
    "# %%time\n",
    "numeric_transformer = Pipeline(\n",
    "    steps=[(\"scaler\", StandardScaler()), \n",
    "           (\"var_thr\", VarianceThreshold(threshold=0.1))]\n",
    ")\n",
    "\n",
    "categorical_transformer = Pipeline(\n",
    "    steps=[(\"encoder\", OneHotEncoder(handle_unknown=\"ignore\")),\n",
    "           (\"cat_selector\",  SelectKBest(chi2, k=5))]\n",
    ")\n",
    "\n",
    "preprocessor = ColumnTransformer(\n",
    "    transformers=[\n",
    "        (\"num\", numeric_transformer, num_features),\n",
    "        (\"cat\", categorical_transformer, cat_features)\n",
    "    ],\n",
    "    remainder = 'passthrough',\n",
    "    n_jobs=-1\n",
    ")\n",
    "\n",
    "pipeline = Pipeline(\n",
    "    steps=[(\"preprocessor\", preprocessor), \n",
    "           (\"classifier\", (GradientBoostingClassifier()))]\n",
    ")\n",
    "\n",
    "# pipeline.fit(X_train, y_train)\n",
    "# print(\"model score: %.3f\" % pipeline.score(X_val, y_val))"
   ]
  },
  {
   "cell_type": "code",
   "execution_count": 22,
   "id": "9c8c70cd",
   "metadata": {
    "scrolled": false
   },
   "outputs": [
    {
     "name": "stdout",
     "output_type": "stream",
     "text": [
      "CPU times: total: 10.9 s\n",
      "Wall time: 3min 26s\n"
     ]
    },
    {
     "data": {
      "text/html": [
       "<style>#sk-container-id-1 {color: black;background-color: white;}#sk-container-id-1 pre{padding: 0;}#sk-container-id-1 div.sk-toggleable {background-color: white;}#sk-container-id-1 label.sk-toggleable__label {cursor: pointer;display: block;width: 100%;margin-bottom: 0;padding: 0.3em;box-sizing: border-box;text-align: center;}#sk-container-id-1 label.sk-toggleable__label-arrow:before {content: \"▸\";float: left;margin-right: 0.25em;color: #696969;}#sk-container-id-1 label.sk-toggleable__label-arrow:hover:before {color: black;}#sk-container-id-1 div.sk-estimator:hover label.sk-toggleable__label-arrow:before {color: black;}#sk-container-id-1 div.sk-toggleable__content {max-height: 0;max-width: 0;overflow: hidden;text-align: left;background-color: #f0f8ff;}#sk-container-id-1 div.sk-toggleable__content pre {margin: 0.2em;color: black;border-radius: 0.25em;background-color: #f0f8ff;}#sk-container-id-1 input.sk-toggleable__control:checked~div.sk-toggleable__content {max-height: 200px;max-width: 100%;overflow: auto;}#sk-container-id-1 input.sk-toggleable__control:checked~label.sk-toggleable__label-arrow:before {content: \"▾\";}#sk-container-id-1 div.sk-estimator input.sk-toggleable__control:checked~label.sk-toggleable__label {background-color: #d4ebff;}#sk-container-id-1 div.sk-label input.sk-toggleable__control:checked~label.sk-toggleable__label {background-color: #d4ebff;}#sk-container-id-1 input.sk-hidden--visually {border: 0;clip: rect(1px 1px 1px 1px);clip: rect(1px, 1px, 1px, 1px);height: 1px;margin: -1px;overflow: hidden;padding: 0;position: absolute;width: 1px;}#sk-container-id-1 div.sk-estimator {font-family: monospace;background-color: #f0f8ff;border: 1px dotted black;border-radius: 0.25em;box-sizing: border-box;margin-bottom: 0.5em;}#sk-container-id-1 div.sk-estimator:hover {background-color: #d4ebff;}#sk-container-id-1 div.sk-parallel-item::after {content: \"\";width: 100%;border-bottom: 1px solid gray;flex-grow: 1;}#sk-container-id-1 div.sk-label:hover label.sk-toggleable__label {background-color: #d4ebff;}#sk-container-id-1 div.sk-serial::before {content: \"\";position: absolute;border-left: 1px solid gray;box-sizing: border-box;top: 0;bottom: 0;left: 50%;z-index: 0;}#sk-container-id-1 div.sk-serial {display: flex;flex-direction: column;align-items: center;background-color: white;padding-right: 0.2em;padding-left: 0.2em;position: relative;}#sk-container-id-1 div.sk-item {position: relative;z-index: 1;}#sk-container-id-1 div.sk-parallel {display: flex;align-items: stretch;justify-content: center;background-color: white;position: relative;}#sk-container-id-1 div.sk-item::before, #sk-container-id-1 div.sk-parallel-item::before {content: \"\";position: absolute;border-left: 1px solid gray;box-sizing: border-box;top: 0;bottom: 0;left: 50%;z-index: -1;}#sk-container-id-1 div.sk-parallel-item {display: flex;flex-direction: column;z-index: 1;position: relative;background-color: white;}#sk-container-id-1 div.sk-parallel-item:first-child::after {align-self: flex-end;width: 50%;}#sk-container-id-1 div.sk-parallel-item:last-child::after {align-self: flex-start;width: 50%;}#sk-container-id-1 div.sk-parallel-item:only-child::after {width: 0;}#sk-container-id-1 div.sk-dashed-wrapped {border: 1px dashed gray;margin: 0 0.4em 0.5em 0.4em;box-sizing: border-box;padding-bottom: 0.4em;background-color: white;}#sk-container-id-1 div.sk-label label {font-family: monospace;font-weight: bold;display: inline-block;line-height: 1.2em;}#sk-container-id-1 div.sk-label-container {text-align: center;}#sk-container-id-1 div.sk-container {/* jupyter's `normalize.less` sets `[hidden] { display: none; }` but bootstrap.min.css set `[hidden] { display: none !important; }` so we also need the `!important` here to be able to override the default hidden behavior on the sphinx rendered scikit-learn.org. See: https://github.com/scikit-learn/scikit-learn/issues/21755 */display: inline-block !important;position: relative;}#sk-container-id-1 div.sk-text-repr-fallback {display: none;}</style><div id=\"sk-container-id-1\" class=\"sk-top-container\"><div class=\"sk-text-repr-fallback\"><pre>RandomizedSearchCV(cv=3, error_score=&#x27;raise&#x27;,\n",
       "                   estimator=Pipeline(steps=[(&#x27;preprocessor&#x27;,\n",
       "                                              ColumnTransformer(n_jobs=-1,\n",
       "                                                                remainder=&#x27;passthrough&#x27;,\n",
       "                                                                transformers=[(&#x27;num&#x27;,\n",
       "                                                                               Pipeline(steps=[(&#x27;scaler&#x27;,\n",
       "                                                                                                StandardScaler()),\n",
       "                                                                                               (&#x27;var_thr&#x27;,\n",
       "                                                                                                VarianceThreshold(threshold=0.1))]),\n",
       "                                                                               Index([&#x27;mou_opkv_Mean&#x27;, &#x27;months&#x27;, &#x27;uniqsubs&#x27;, &#x27;actvsubs&#x27;, &#x27;hnd_price&#x27;, &#x27;rv&#x27;,\n",
       "       &#x27;eqpdays&#x27;],\n",
       "      dtype=&#x27;object&#x27;)),\n",
       "                                                                              (...\n",
       "       &#x27;kid3_5&#x27;, &#x27;kid6_10&#x27;, &#x27;kid11_15&#x27;, &#x27;kid16_17&#x27;],\n",
       "      dtype=&#x27;object&#x27;))])),\n",
       "                                             (&#x27;classifier&#x27;,\n",
       "                                              GradientBoostingClassifier())]),\n",
       "                   n_iter=5, n_jobs=-1,\n",
       "                   param_distributions={&#x27;classifier__learning_rate&#x27;: [1, 3, 10,\n",
       "                                                                      30, 100],\n",
       "                                        &#x27;classifier__max_depth&#x27;: [5, 10, 20],\n",
       "                                        &#x27;classifier__n_estimators&#x27;: [10, 50,\n",
       "                                                                     100, 150,\n",
       "                                                                     200],\n",
       "                                        &#x27;classifier__subsample&#x27;: [0.3, 0.6, 0.9,\n",
       "                                                                  1]},\n",
       "                   random_state=42, return_train_score=True, scoring=&#x27;f1&#x27;)</pre><b>In a Jupyter environment, please rerun this cell to show the HTML representation or trust the notebook. <br />On GitHub, the HTML representation is unable to render, please try loading this page with nbviewer.org.</b></div><div class=\"sk-container\" hidden><div class=\"sk-item sk-dashed-wrapped\"><div class=\"sk-label-container\"><div class=\"sk-label sk-toggleable\"><input class=\"sk-toggleable__control sk-hidden--visually\" id=\"sk-estimator-id-1\" type=\"checkbox\" ><label for=\"sk-estimator-id-1\" class=\"sk-toggleable__label sk-toggleable__label-arrow\">RandomizedSearchCV</label><div class=\"sk-toggleable__content\"><pre>RandomizedSearchCV(cv=3, error_score=&#x27;raise&#x27;,\n",
       "                   estimator=Pipeline(steps=[(&#x27;preprocessor&#x27;,\n",
       "                                              ColumnTransformer(n_jobs=-1,\n",
       "                                                                remainder=&#x27;passthrough&#x27;,\n",
       "                                                                transformers=[(&#x27;num&#x27;,\n",
       "                                                                               Pipeline(steps=[(&#x27;scaler&#x27;,\n",
       "                                                                                                StandardScaler()),\n",
       "                                                                                               (&#x27;var_thr&#x27;,\n",
       "                                                                                                VarianceThreshold(threshold=0.1))]),\n",
       "                                                                               Index([&#x27;mou_opkv_Mean&#x27;, &#x27;months&#x27;, &#x27;uniqsubs&#x27;, &#x27;actvsubs&#x27;, &#x27;hnd_price&#x27;, &#x27;rv&#x27;,\n",
       "       &#x27;eqpdays&#x27;],\n",
       "      dtype=&#x27;object&#x27;)),\n",
       "                                                                              (...\n",
       "       &#x27;kid3_5&#x27;, &#x27;kid6_10&#x27;, &#x27;kid11_15&#x27;, &#x27;kid16_17&#x27;],\n",
       "      dtype=&#x27;object&#x27;))])),\n",
       "                                             (&#x27;classifier&#x27;,\n",
       "                                              GradientBoostingClassifier())]),\n",
       "                   n_iter=5, n_jobs=-1,\n",
       "                   param_distributions={&#x27;classifier__learning_rate&#x27;: [1, 3, 10,\n",
       "                                                                      30, 100],\n",
       "                                        &#x27;classifier__max_depth&#x27;: [5, 10, 20],\n",
       "                                        &#x27;classifier__n_estimators&#x27;: [10, 50,\n",
       "                                                                     100, 150,\n",
       "                                                                     200],\n",
       "                                        &#x27;classifier__subsample&#x27;: [0.3, 0.6, 0.9,\n",
       "                                                                  1]},\n",
       "                   random_state=42, return_train_score=True, scoring=&#x27;f1&#x27;)</pre></div></div></div><div class=\"sk-parallel\"><div class=\"sk-parallel-item\"><div class=\"sk-item\"><div class=\"sk-label-container\"><div class=\"sk-label sk-toggleable\"><input class=\"sk-toggleable__control sk-hidden--visually\" id=\"sk-estimator-id-2\" type=\"checkbox\" ><label for=\"sk-estimator-id-2\" class=\"sk-toggleable__label sk-toggleable__label-arrow\">estimator: Pipeline</label><div class=\"sk-toggleable__content\"><pre>Pipeline(steps=[(&#x27;preprocessor&#x27;,\n",
       "                 ColumnTransformer(n_jobs=-1, remainder=&#x27;passthrough&#x27;,\n",
       "                                   transformers=[(&#x27;num&#x27;,\n",
       "                                                  Pipeline(steps=[(&#x27;scaler&#x27;,\n",
       "                                                                   StandardScaler()),\n",
       "                                                                  (&#x27;var_thr&#x27;,\n",
       "                                                                   VarianceThreshold(threshold=0.1))]),\n",
       "                                                  Index([&#x27;mou_opkv_Mean&#x27;, &#x27;months&#x27;, &#x27;uniqsubs&#x27;, &#x27;actvsubs&#x27;, &#x27;hnd_price&#x27;, &#x27;rv&#x27;,\n",
       "       &#x27;eqpdays&#x27;],\n",
       "      dtype=&#x27;object&#x27;)),\n",
       "                                                 (&#x27;cat&#x27;,\n",
       "                                                  Pipeline(steps=[(&#x27;encoder&#x27;,\n",
       "                                                                   OneHotEncoder(handle_unknown=&#x27;ignore&#x27;)),\n",
       "                                                                  (&#x27;cat_selector&#x27;,\n",
       "                                                                   SelectKBest(k=5,\n",
       "                                                                               score_func=&lt;function chi2 at 0x00000272FCBEE440&gt;))]),\n",
       "                                                  Index([&#x27;new_cell&#x27;, &#x27;area&#x27;, &#x27;dualband&#x27;, &#x27;refurb_new&#x27;, &#x27;marital&#x27;, &#x27;kid0_2&#x27;,\n",
       "       &#x27;kid3_5&#x27;, &#x27;kid6_10&#x27;, &#x27;kid11_15&#x27;, &#x27;kid16_17&#x27;],\n",
       "      dtype=&#x27;object&#x27;))])),\n",
       "                (&#x27;classifier&#x27;, GradientBoostingClassifier())])</pre></div></div></div><div class=\"sk-serial\"><div class=\"sk-item\"><div class=\"sk-serial\"><div class=\"sk-item sk-dashed-wrapped\"><div class=\"sk-label-container\"><div class=\"sk-label sk-toggleable\"><input class=\"sk-toggleable__control sk-hidden--visually\" id=\"sk-estimator-id-3\" type=\"checkbox\" ><label for=\"sk-estimator-id-3\" class=\"sk-toggleable__label sk-toggleable__label-arrow\">preprocessor: ColumnTransformer</label><div class=\"sk-toggleable__content\"><pre>ColumnTransformer(n_jobs=-1, remainder=&#x27;passthrough&#x27;,\n",
       "                  transformers=[(&#x27;num&#x27;,\n",
       "                                 Pipeline(steps=[(&#x27;scaler&#x27;, StandardScaler()),\n",
       "                                                 (&#x27;var_thr&#x27;,\n",
       "                                                  VarianceThreshold(threshold=0.1))]),\n",
       "                                 Index([&#x27;mou_opkv_Mean&#x27;, &#x27;months&#x27;, &#x27;uniqsubs&#x27;, &#x27;actvsubs&#x27;, &#x27;hnd_price&#x27;, &#x27;rv&#x27;,\n",
       "       &#x27;eqpdays&#x27;],\n",
       "      dtype=&#x27;object&#x27;)),\n",
       "                                (&#x27;cat&#x27;,\n",
       "                                 Pipeline(steps=[(&#x27;encoder&#x27;,\n",
       "                                                  OneHotEncoder(handle_unknown=&#x27;ignore&#x27;)),\n",
       "                                                 (&#x27;cat_selector&#x27;,\n",
       "                                                  SelectKBest(k=5,\n",
       "                                                              score_func=&lt;function chi2 at 0x00000272FCBEE440&gt;))]),\n",
       "                                 Index([&#x27;new_cell&#x27;, &#x27;area&#x27;, &#x27;dualband&#x27;, &#x27;refurb_new&#x27;, &#x27;marital&#x27;, &#x27;kid0_2&#x27;,\n",
       "       &#x27;kid3_5&#x27;, &#x27;kid6_10&#x27;, &#x27;kid11_15&#x27;, &#x27;kid16_17&#x27;],\n",
       "      dtype=&#x27;object&#x27;))])</pre></div></div></div><div class=\"sk-parallel\"><div class=\"sk-parallel-item\"><div class=\"sk-item\"><div class=\"sk-label-container\"><div class=\"sk-label sk-toggleable\"><input class=\"sk-toggleable__control sk-hidden--visually\" id=\"sk-estimator-id-4\" type=\"checkbox\" ><label for=\"sk-estimator-id-4\" class=\"sk-toggleable__label sk-toggleable__label-arrow\">num</label><div class=\"sk-toggleable__content\"><pre>Index([&#x27;mou_opkv_Mean&#x27;, &#x27;months&#x27;, &#x27;uniqsubs&#x27;, &#x27;actvsubs&#x27;, &#x27;hnd_price&#x27;, &#x27;rv&#x27;,\n",
       "       &#x27;eqpdays&#x27;],\n",
       "      dtype=&#x27;object&#x27;)</pre></div></div></div><div class=\"sk-serial\"><div class=\"sk-item\"><div class=\"sk-serial\"><div class=\"sk-item\"><div class=\"sk-estimator sk-toggleable\"><input class=\"sk-toggleable__control sk-hidden--visually\" id=\"sk-estimator-id-5\" type=\"checkbox\" ><label for=\"sk-estimator-id-5\" class=\"sk-toggleable__label sk-toggleable__label-arrow\">StandardScaler</label><div class=\"sk-toggleable__content\"><pre>StandardScaler()</pre></div></div></div><div class=\"sk-item\"><div class=\"sk-estimator sk-toggleable\"><input class=\"sk-toggleable__control sk-hidden--visually\" id=\"sk-estimator-id-6\" type=\"checkbox\" ><label for=\"sk-estimator-id-6\" class=\"sk-toggleable__label sk-toggleable__label-arrow\">VarianceThreshold</label><div class=\"sk-toggleable__content\"><pre>VarianceThreshold(threshold=0.1)</pre></div></div></div></div></div></div></div></div><div class=\"sk-parallel-item\"><div class=\"sk-item\"><div class=\"sk-label-container\"><div class=\"sk-label sk-toggleable\"><input class=\"sk-toggleable__control sk-hidden--visually\" id=\"sk-estimator-id-7\" type=\"checkbox\" ><label for=\"sk-estimator-id-7\" class=\"sk-toggleable__label sk-toggleable__label-arrow\">cat</label><div class=\"sk-toggleable__content\"><pre>Index([&#x27;new_cell&#x27;, &#x27;area&#x27;, &#x27;dualband&#x27;, &#x27;refurb_new&#x27;, &#x27;marital&#x27;, &#x27;kid0_2&#x27;,\n",
       "       &#x27;kid3_5&#x27;, &#x27;kid6_10&#x27;, &#x27;kid11_15&#x27;, &#x27;kid16_17&#x27;],\n",
       "      dtype=&#x27;object&#x27;)</pre></div></div></div><div class=\"sk-serial\"><div class=\"sk-item\"><div class=\"sk-serial\"><div class=\"sk-item\"><div class=\"sk-estimator sk-toggleable\"><input class=\"sk-toggleable__control sk-hidden--visually\" id=\"sk-estimator-id-8\" type=\"checkbox\" ><label for=\"sk-estimator-id-8\" class=\"sk-toggleable__label sk-toggleable__label-arrow\">OneHotEncoder</label><div class=\"sk-toggleable__content\"><pre>OneHotEncoder(handle_unknown=&#x27;ignore&#x27;)</pre></div></div></div><div class=\"sk-item\"><div class=\"sk-estimator sk-toggleable\"><input class=\"sk-toggleable__control sk-hidden--visually\" id=\"sk-estimator-id-9\" type=\"checkbox\" ><label for=\"sk-estimator-id-9\" class=\"sk-toggleable__label sk-toggleable__label-arrow\">SelectKBest</label><div class=\"sk-toggleable__content\"><pre>SelectKBest(k=5, score_func=&lt;function chi2 at 0x00000272FCBEE440&gt;)</pre></div></div></div></div></div></div></div></div><div class=\"sk-parallel-item\"><div class=\"sk-item\"><div class=\"sk-label-container\"><div class=\"sk-label sk-toggleable\"><input class=\"sk-toggleable__control sk-hidden--visually\" id=\"sk-estimator-id-10\" type=\"checkbox\" ><label for=\"sk-estimator-id-10\" class=\"sk-toggleable__label sk-toggleable__label-arrow\">remainder</label><div class=\"sk-toggleable__content\"><pre></pre></div></div></div><div class=\"sk-serial\"><div class=\"sk-item\"><div class=\"sk-estimator sk-toggleable\"><input class=\"sk-toggleable__control sk-hidden--visually\" id=\"sk-estimator-id-11\" type=\"checkbox\" ><label for=\"sk-estimator-id-11\" class=\"sk-toggleable__label sk-toggleable__label-arrow\">passthrough</label><div class=\"sk-toggleable__content\"><pre>passthrough</pre></div></div></div></div></div></div></div></div><div class=\"sk-item\"><div class=\"sk-estimator sk-toggleable\"><input class=\"sk-toggleable__control sk-hidden--visually\" id=\"sk-estimator-id-12\" type=\"checkbox\" ><label for=\"sk-estimator-id-12\" class=\"sk-toggleable__label sk-toggleable__label-arrow\">GradientBoostingClassifier</label><div class=\"sk-toggleable__content\"><pre>GradientBoostingClassifier()</pre></div></div></div></div></div></div></div></div></div></div></div></div>"
      ],
      "text/plain": [
       "RandomizedSearchCV(cv=3, error_score='raise',\n",
       "                   estimator=Pipeline(steps=[('preprocessor',\n",
       "                                              ColumnTransformer(n_jobs=-1,\n",
       "                                                                remainder='passthrough',\n",
       "                                                                transformers=[('num',\n",
       "                                                                               Pipeline(steps=[('scaler',\n",
       "                                                                                                StandardScaler()),\n",
       "                                                                                               ('var_thr',\n",
       "                                                                                                VarianceThreshold(threshold=0.1))]),\n",
       "                                                                               Index(['mou_opkv_Mean', 'months', 'uniqsubs', 'actvsubs', 'hnd_price', 'rv',\n",
       "       'eqpdays'],\n",
       "      dtype='object')),\n",
       "                                                                              (...\n",
       "       'kid3_5', 'kid6_10', 'kid11_15', 'kid16_17'],\n",
       "      dtype='object'))])),\n",
       "                                             ('classifier',\n",
       "                                              GradientBoostingClassifier())]),\n",
       "                   n_iter=5, n_jobs=-1,\n",
       "                   param_distributions={'classifier__learning_rate': [1, 3, 10,\n",
       "                                                                      30, 100],\n",
       "                                        'classifier__max_depth': [5, 10, 20],\n",
       "                                        'classifier__n_estimators': [10, 50,\n",
       "                                                                     100, 150,\n",
       "                                                                     200],\n",
       "                                        'classifier__subsample': [0.3, 0.6, 0.9,\n",
       "                                                                  1]},\n",
       "                   random_state=42, return_train_score=True, scoring='f1')"
      ]
     },
     "execution_count": 22,
     "metadata": {},
     "output_type": "execute_result"
    }
   ],
   "source": [
    "%%time\n",
    "# GRADIENT BOOSTING\n",
    "hyperparameter_grid = {\n",
    "    'classifier__n_estimators': [10, 50, 100, 150, 200],\n",
    "    'classifier__learning_rate': [1, 3, 10, 30, 100],\n",
    "    'classifier__subsample': [0.3, 0.6, 0.9, 1],\n",
    "    'classifier__max_depth': [5, 10, 20]\n",
    "}\n",
    "\n",
    "\n",
    "random_cv = RandomizedSearchCV(estimator=pipeline,\n",
    "            param_distributions=hyperparameter_grid,\n",
    "            cv=3, \n",
    "            n_iter=5,\n",
    "            scoring = 'f1',\n",
    "            n_jobs = -1,\n",
    "            verbose = 0,\n",
    "            error_score='raise',\n",
    "            return_train_score = True,\n",
    "            random_state=42)\n",
    "\n",
    "\n",
    "random_cv.fit(X_train, y_train)"
   ]
  },
  {
   "cell_type": "code",
   "execution_count": 23,
   "id": "513e9247",
   "metadata": {},
   "outputs": [
    {
     "data": {
      "text/plain": [
       "{'classifier__subsample': 0.6,\n",
       " 'classifier__n_estimators': 100,\n",
       " 'classifier__max_depth': 5,\n",
       " 'classifier__learning_rate': 1}"
      ]
     },
     "execution_count": 23,
     "metadata": {},
     "output_type": "execute_result"
    }
   ],
   "source": [
    "random_cv.best_params_"
   ]
  },
  {
   "cell_type": "markdown",
   "id": "39e1384f",
   "metadata": {},
   "source": [
    "### Inference"
   ]
  },
  {
   "cell_type": "code",
   "execution_count": 24,
   "id": "ba2081ec",
   "metadata": {},
   "outputs": [],
   "source": [
    "# Train Inference\n",
    "y_pred = random_cv.best_estimator_.predict(X_train) # selector.estimator_ # random_cv.best_estimator_\n",
    "y_val_pred = random_cv.best_estimator_.predict(X_val) # selector.estimator_ # random_cv.best_estimator_"
   ]
  },
  {
   "cell_type": "markdown",
   "id": "fbf8eb80",
   "metadata": {},
   "source": [
    "### Evaluation\n",
    "The model suffers from high variance which was addressed by increasing regulatization in SVC, and reducing the subset and depth of trees in Random Forest. Despite trying several algorithms and hyperparameter configuration, the best achieved validation recall was ~0.7 and validation precision ~0.6. The training metrics were near 1.0 which indicated high variance. Variance reduction techniques implemented were: for SVC reducing regularization, for Random Forest reducing subset of features available for each tree, reducing max depth and number of the trees. These changes were insufficient to tackle high variance.\n",
    "\n",
    "High variance together with few differences between the populations of churners and non-churners leads to the conclusion that the dataset is insufficient to predict churn. Other features such as pricing of products and information about competition might be required to successfully predict churn."
   ]
  },
  {
   "cell_type": "code",
   "execution_count": 25,
   "id": "342318c1",
   "metadata": {},
   "outputs": [
    {
     "name": "stdout",
     "output_type": "stream",
     "text": [
      "Train Accuracy: 0.66\n",
      "Train Precision: 0.65\n",
      "Train Recall: 0.69\n",
      "\n",
      "Validation Accuracy: 0.57\n",
      "Validation Precision: 0.56\n",
      "Validation Recall: 0.59\n"
     ]
    }
   ],
   "source": [
    "# Train metric\n",
    "train_acc = accuracy_score(y_train, y_pred)\n",
    "train_prec = precision_score(y_train, y_pred)\n",
    "train_recall = recall_score(y_train, y_pred)\n",
    "print(\"Train Accuracy:\", train_acc.round(2))\n",
    "print(\"Train Precision:\", train_prec.round(2))\n",
    "print(\"Train Recall:\", train_recall.round(2))\n",
    "\n",
    "# Val metric\n",
    "val_acc = accuracy_score(y_val, y_val_pred)\n",
    "val_prec = precision_score(y_val, y_val_pred)\n",
    "val_recall = recall_score(y_val, y_val_pred)\n",
    "print(\"\\nValidation Accuracy:\", val_acc.round(2))\n",
    "print(\"Validation Precision:\", val_prec.round(2))\n",
    "print(\"Validation Recall:\", val_recall.round(2))"
   ]
  },
  {
   "cell_type": "markdown",
   "id": "f64740d3",
   "metadata": {},
   "source": [
    "## Error Analysis / Postprocessing\n",
    "The most important features turned out to be: mean unrounded minutes of use of off-peak voice calls (mou_opkv), equipment age in days, and months a customer has stayed with the telecom provider."
   ]
  },
  {
   "cell_type": "markdown",
   "id": "33fceb62",
   "metadata": {},
   "source": [
    "### Feature Importance"
   ]
  },
  {
   "cell_type": "code",
   "execution_count": 26,
   "id": "9c4a58cd",
   "metadata": {},
   "outputs": [
    {
     "data": {
      "image/png": "[encoded data removed]",
      "text/plain": [
       "<Figure size 432x288 with 1 Axes>"
      ]
     },
     "metadata": {
      "needs_background": "light"
     },
     "output_type": "display_data"
    }
   ],
   "source": [
    "feature_names = random_cv.best_estimator_[:-1].get_feature_names_out()\n",
    "feature_importances = random_cv.best_estimator_.steps[1][1].feature_importances_\n",
    "plt.barh(width=feature_importances, y=feature_names)\n",
    "plt.show()"
   ]
  },
  {
   "cell_type": "markdown",
   "id": "d1274dbe",
   "metadata": {},
   "source": [
    "### Learning Curve\n",
    "In the left most figure (learning curve) it can be seen that learning error does not reduce over time, and that the model suffers from high variance."
   ]
  },
  {
   "cell_type": "code",
   "execution_count": 27,
   "id": "c7c36862",
   "metadata": {},
   "outputs": [
    {
     "data": {
      "image/png": "[encoded data removed]",
      "text/plain": [
       "<Figure size 1440x360 with 3 Axes>"
      ]
     },
     "metadata": {
      "needs_background": "light"
     },
     "output_type": "display_data"
    }
   ],
   "source": [
    "plot_learning_curve(estimator=random_cv.best_estimator_,\n",
    "                    title='Gradient Boosting',  # Random Forest\n",
    "                    X=X, \n",
    "                    y=y, \n",
    "                    axes=None, \n",
    "                    ylim=[0, 1], \n",
    "                    cv=5, \n",
    "                    n_jobs=-1, \n",
    "                    scoring='recall',\n",
    "                    train_sizes=np.linspace(.1, 1.0, 5))\n",
    "plt.show()"
   ]
  },
  {
   "cell_type": "code",
   "execution_count": null,
   "id": "48163eb1",
   "metadata": {},
   "outputs": [],
   "source": []
  }
 ],
 "metadata": {
  "kernelspec": {
   "display_name": "Python 3 (ipykernel)",
   "language": "python",
   "name": "python3"
  },
  "language_info": {
   "codemirror_mode": {
    "name": "ipython",
    "version": 3
   },
   "file_extension": ".py",
   "mimetype": "text/x-python",
   "name": "python",
   "nbconvert_exporter": "python",
   "pygments_lexer": "ipython3",
   "version": "3.10.4"
  }
 },
 "nbformat": 4,
 "nbformat_minor": 5
}
