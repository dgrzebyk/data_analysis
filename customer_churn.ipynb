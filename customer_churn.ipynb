{
 "cells": [
  {
   "cell_type": "markdown",
   "id": "bfcacd21",
   "metadata": {},
   "source": [
    "# Churn Prediction - Telecom Case\n",
    "Author: Daniel Grzebyk\n",
    "\n",
    "Date: 1.07.2022"
   ]
  },
  {
   "cell_type": "code",
   "execution_count": 1,
   "id": "ccf6beeb",
   "metadata": {},
   "outputs": [],
   "source": [
    "import pandas as pd\n",
    "import numpy as np\n",
    "import matplotlib.pyplot as plt\n",
    "import seaborn as sns\n",
    "\n",
    "from sklearn.cluster import KMeans\n",
    "from sklearn.preprocessing import OneHotEncoder, MinMaxScaler, StandardScaler, OrdinalEncoder, LabelEncoder\n",
    "from sklearn.compose import ColumnTransformer, make_column_transformer\n",
    "from sklearn.feature_selection import VarianceThreshold, SelectKBest, chi2, f_classif, mutual_info_classif, SelectFromModel, RFE\n",
    "from sklearn.model_selection import train_test_split, GridSearchCV, RandomizedSearchCV\n",
    "from sklearn.linear_model import LogisticRegression\n",
    "from sklearn.svm import SVC\n",
    "from sklearn.ensemble import RandomForestClassifier, GradientBoostingClassifier\n",
    "from sklearn.pipeline import Pipeline\n",
    "from sklearn.metrics import mean_squared_error, accuracy_score, precision_score, recall_score\n",
    "\n",
    "from classification_utils import chi_test, chi_test_new, find_boolean_features, find_correlated_features, remove_outliers\n",
    "\n",
    "from functools import partial\n",
    "from sklearn.feature_selection import mutual_info_classif, SelectKBest"
   ]
  },
  {
   "cell_type": "markdown",
   "id": "79a87468",
   "metadata": {},
   "source": [
    "## Loading the data"
   ]
  },
  {
   "cell_type": "code",
   "execution_count": 2,
   "id": "f6315453",
   "metadata": {},
   "outputs": [],
   "source": [
    "df = pd.read_csv(\"data/telecom/data.csv\")\n",
    "var_df = pd.read_csv(\"data/telecom/variables-definition.csv\")"
   ]
  },
  {
   "cell_type": "code",
   "execution_count": 3,
   "id": "06715919",
   "metadata": {},
   "outputs": [],
   "source": [
    "# Droping biased or unnecessary features\n",
    "df.drop(columns=['ethnic', 'Customer_ID'], inplace=True)"
   ]
  },
  {
   "cell_type": "code",
   "execution_count": 4,
   "id": "04e10bfe",
   "metadata": {},
   "outputs": [],
   "source": [
    "X = df.drop(columns=['churn']).copy()\n",
    "y = df['churn'].copy()"
   ]
  },
  {
   "cell_type": "code",
   "execution_count": 5,
   "id": "23249dcd",
   "metadata": {},
   "outputs": [
    {
     "data": {
      "text/plain": [
       "(100000, 97)"
      ]
     },
     "execution_count": 5,
     "metadata": {},
     "output_type": "execute_result"
    }
   ],
   "source": [
    "X.shape"
   ]
  },
  {
   "cell_type": "markdown",
   "id": "49f32deb",
   "metadata": {},
   "source": [
    "### Investigating Correlations\n",
    "1. Removing features correlated with other features\n",
    "2. Removing features uncorrelated with churn (label)\n",
    "\n",
    "#### Categorical Features"
   ]
  },
  {
   "cell_type": "code",
   "execution_count": 30,
   "id": "ad00a792",
   "metadata": {},
   "outputs": [
    {
     "data": {
      "text/plain": [
       "array([[1., 0., 0., ..., 0., 0., 1.],\n",
       "       [1., 0., 0., ..., 0., 0., 1.],\n",
       "       [0., 0., 1., ..., 0., 0., 1.],\n",
       "       ...,\n",
       "       [0., 1., 0., ..., 0., 0., 1.],\n",
       "       [0., 1., 0., ..., 0., 0., 1.],\n",
       "       [0., 1., 0., ..., 0., 0., 1.]])"
      ]
     },
     "execution_count": 30,
     "metadata": {},
     "output_type": "execute_result"
    }
   ],
   "source": [
    "cat_features = X.select_dtypes(include='object').columns\n",
    "\n",
    "my_x = X[cat_features].dropna().copy()\n",
    "my_y = y.loc[my_x.index]\n",
    "\n",
    "one_hot = OneHotEncoder(sparse=False)  # handle_unknown='ignore'\n",
    "my_x_enc = one_hot.fit_transform(my_x)\n",
    "\n",
    "chi2_selector = SelectKBest(score_func=chi2, k='all')\n",
    "chi2_selector.fit(my_x_enc, my_y)\n",
    "\n",
    "X_train_chi = chi2_selector.transform(my_x_enc)"
   ]
  },
  {
   "cell_type": "code",
   "execution_count": 60,
   "id": "70963097",
   "metadata": {},
   "outputs": [
    {
     "data": {
      "text/html": [
       "<div>\n",
       "<style scoped>\n",
       "    .dataframe tbody tr th:only-of-type {\n",
       "        vertical-align: middle;\n",
       "    }\n",
       "\n",
       "    .dataframe tbody tr th {\n",
       "        vertical-align: top;\n",
       "    }\n",
       "\n",
       "    .dataframe thead th {\n",
       "        text-align: right;\n",
       "    }\n",
       "</style>\n",
       "<table border=\"1\" class=\"dataframe\">\n",
       "  <thead>\n",
       "    <tr style=\"text-align: right;\">\n",
       "      <th></th>\n",
       "      <th>feature</th>\n",
       "      <th>score</th>\n",
       "      <th>p_value</th>\n",
       "    </tr>\n",
       "  </thead>\n",
       "  <tbody>\n",
       "    <tr>\n",
       "      <th>85</th>\n",
       "      <td>hnd_webcap_WC</td>\n",
       "      <td>152.207486</td>\n",
       "      <td>5.707930e-35</td>\n",
       "    </tr>\n",
       "    <tr>\n",
       "      <th>55</th>\n",
       "      <td>asl_flag_Y</td>\n",
       "      <td>69.219212</td>\n",
       "      <td>8.810560e-17</td>\n",
       "    </tr>\n",
       "    <tr>\n",
       "      <th>80</th>\n",
       "      <td>dualband_N</td>\n",
       "      <td>48.087422</td>\n",
       "      <td>4.076330e-12</td>\n",
       "    </tr>\n",
       "    <tr>\n",
       "      <th>91</th>\n",
       "      <td>marital_U</td>\n",
       "      <td>44.033145</td>\n",
       "      <td>3.228621e-11</td>\n",
       "    </tr>\n",
       "    <tr>\n",
       "      <th>84</th>\n",
       "      <td>refurb_new_R</td>\n",
       "      <td>38.982492</td>\n",
       "      <td>4.276233e-10</td>\n",
       "    </tr>\n",
       "  </tbody>\n",
       "</table>\n",
       "</div>"
      ],
      "text/plain": [
       "          feature       score       p_value\n",
       "85  hnd_webcap_WC  152.207486  5.707930e-35\n",
       "55     asl_flag_Y   69.219212  8.810560e-17\n",
       "80     dualband_N   48.087422  4.076330e-12\n",
       "91      marital_U   44.033145  3.228621e-11\n",
       "84   refurb_new_R   38.982492  4.276233e-10"
      ]
     },
     "execution_count": 60,
     "metadata": {},
     "output_type": "execute_result"
    }
   ],
   "source": [
    "feature_names = one_hot.get_feature_names(cat_features)\n",
    "\n",
    "chi_df = pd.DataFrame({\"feature\": feature_names, \"score\": chi2_selector.scores_, \"p_value\": chi2_selector.pvalues_})\n",
    "chi_df.loc[chi_df['p_value'] < 0.05].sort_values(by='p_value').head()"
   ]
  },
  {
   "cell_type": "code",
   "execution_count": 66,
   "id": "00f9323a",
   "metadata": {},
   "outputs": [
    {
     "data": {
      "text/plain": [
       "<AxesSubplot:xlabel='feature'>"
      ]
     },
     "execution_count": 66,
     "metadata": {},
     "output_type": "execute_result"
    },
    {
     "data": {
      "image/png": "[encoded data removed]",
      "text/plain": [
       "<Figure size 432x288 with 1 Axes>"
      ]
     },
     "metadata": {
      "needs_background": "light"
     },
     "output_type": "display_data"
    }
   ],
   "source": [
    "chi_df.nsmallest(10, columns=['p_value']).plot(x='feature', y='score', kind='bar')"
   ]
  },
  {
   "cell_type": "markdown",
   "id": "f391076b",
   "metadata": {},
   "source": [
    "#### Numerical features\n",
    "Continous numerical features are also investigated looking for correlations."
   ]
  },
  {
   "cell_type": "code",
   "execution_count": 9,
   "id": "c3c7f8ba",
   "metadata": {},
   "outputs": [
    {
     "name": "stdout",
     "output_type": "stream",
     "text": [
      "['mou_Mean', 'totmrc_Mean', 'ovrmou_Mean', 'ovrrev_Mean', 'vceovr_Mean', 'change_rev', 'drop_vce_Mean', 'unan_vce_Mean', 'plcd_vce_Mean', 'plcd_dat_Mean', 'recv_vce_Mean', 'comp_vce_Mean', 'comp_dat_Mean', 'ccrndmou_Mean', 'cc_mou_Mean', 'inonemin_Mean', 'mou_cvce_Mean', 'mou_cdat_Mean', 'mou_rvce_Mean', 'owylis_vce_Mean', 'mouowylisv_Mean', 'iwylis_vce_Mean', 'mouiwylisv_Mean', 'peak_vce_Mean', 'peak_dat_Mean', 'mou_peav_Mean', 'mou_pead_Mean', 'opk_vce_Mean', 'opk_dat_Mean', 'mou_opkv_Mean', 'mou_opkd_Mean', 'drop_blk_Mean', 'attempt_Mean', 'complete_Mean', 'callwait_Mean', 'actvsubs', 'totcalls', 'totmou', 'totrev', 'adjrev', 'adjmou', 'adjqty', 'avgrev', 'avgmou', 'avgqty', 'avg3mou', 'avg3qty', 'avg3rev', 'avg6mou', 'avg6qty', 'avg6rev', 'phones', 'models', 'rv']\n",
      "\n",
      " (100000, 43)\n"
     ]
    },
    {
     "data": {
      "image/png": "[encoded data removed]",
      "text/plain": [
       "<Figure size 432x288 with 2 Axes>"
      ]
     },
     "metadata": {
      "needs_background": "light"
     },
     "output_type": "display_data"
    }
   ],
   "source": [
    "num_features = X.select_dtypes(include='number').columns\n",
    "correlated_features = find_correlated_features(X[num_features], threshold=0.5)\n",
    "print(correlated_features)\n",
    "\n",
    "# Drop correlated features \n",
    "X.drop(columns=correlated_features, axis=1, inplace=True)\n",
    "num_features = X.select_dtypes(include='number').columns\n",
    "\n",
    "sns.heatmap(X[num_features].corr())\n",
    "print('\\n', X.shape)"
   ]
  },
  {
   "cell_type": "markdown",
   "id": "8dcd01b1",
   "metadata": {},
   "source": [
    "## Data Preprocessing\n",
    "### Removing duplicates"
   ]
  },
  {
   "cell_type": "code",
   "execution_count": 10,
   "id": "02f63d8f",
   "metadata": {},
   "outputs": [
    {
     "data": {
      "text/plain": [
       "0"
      ]
     },
     "execution_count": 10,
     "metadata": {},
     "output_type": "execute_result"
    }
   ],
   "source": [
    "X.duplicated().sum()"
   ]
  },
  {
   "cell_type": "markdown",
   "id": "2155bfe4",
   "metadata": {},
   "source": [
    "### Removing outliers"
   ]
  },
  {
   "cell_type": "code",
   "execution_count": 11,
   "id": "41f04a34",
   "metadata": {
    "scrolled": true
   },
   "outputs": [],
   "source": [
    "def remove_outliers_iqr(X, cols):\n",
    "    for col in cols:\n",
    "        feature = X[col]\n",
    "        q1 = feature.quantile(0.25)\n",
    "        q3 = feature.quantile(0.75)\n",
    "        iqr = q3 - q1\n",
    "        mask = feature.loc[((feature < (q1 - 1.5 * iqr)) | (feature > (q3 + 1.5 * iqr)))].index\n",
    "        X.loc[mask, col] = np.nan\n",
    "    return X"
   ]
  },
  {
   "cell_type": "code",
   "execution_count": 12,
   "id": "8931617f",
   "metadata": {},
   "outputs": [],
   "source": [
    "num_features = X.select_dtypes(include='number').columns\n",
    "X = remove_outliers_iqr(X, num_features)"
   ]
  },
  {
   "cell_type": "markdown",
   "id": "db3f7eff",
   "metadata": {},
   "source": [
    "### Removing NaNs\n",
    "Some columns have so many missing values that keeping them would leave us with too small dataset. Therefore, firstly entire columns with too many missing values are removed and then NaNs are dropped per row. "
   ]
  },
  {
   "cell_type": "code",
   "execution_count": 13,
   "id": "9943c59a",
   "metadata": {},
   "outputs": [
    {
     "data": {
      "text/plain": [
       "numbcars         49366\n",
       "dwllsize         38308\n",
       "HHstatin         37923\n",
       "ownrent          33706\n",
       "dwlltype         31909\n",
       "lor              30190\n",
       "income           25436\n",
       "adults           23019\n",
       "infobase         22079\n",
       "truck            20287\n",
       "roam_Mean        19271\n",
       "change_mou       14381\n",
       "datovr_Mean      14030\n",
       "custcare_Mean    12710\n",
       "da_Mean          11025\n",
       "blck_vce_Mean    10701\n",
       "hnd_webcap       10189\n",
       "dtype: int64"
      ]
     },
     "execution_count": 13,
     "metadata": {},
     "output_type": "execute_result"
    }
   ],
   "source": [
    "# Count NaNs\n",
    "nans_per_feature = X.isna().sum()\n",
    "nans_per_feature[nans_per_feature > 10000].sort_values(ascending=False)  # Is one of the dropped features crucial?"
   ]
  },
  {
   "cell_type": "code",
   "execution_count": 14,
   "id": "f2da825c",
   "metadata": {},
   "outputs": [
    {
     "name": "stdout",
     "output_type": "stream",
     "text": [
      "Dropping: ['truck', 'ownrent', 'lor', 'dwlltype', 'adults', 'infobase', 'income', 'numbcars', 'HHstatin', 'dwllsize']\n",
      "Before dropping rows with NaNs: (100000, 33)\n",
      "After dropping rows with NaNs: (31490, 33)\n"
     ]
    }
   ],
   "source": [
    "cols_to_drop = list(nans_per_feature[nans_per_feature > 10000].index)  # drop features which have more than 20% NaNs\n",
    "X.drop(columns=cols_to_drop, inplace=True)\n",
    "print(\"Dropping:\", cols_to_drop)\n",
    "\n",
    "print(\"Before dropping rows with NaNs:\", X.shape)\n",
    "X.dropna(inplace=True)\n",
    "y = y.loc[X.index]\n",
    "print(\"After dropping rows with NaNs:\", X.shape)"
   ]
  },
  {
   "cell_type": "markdown",
   "id": "baa7b7e6",
   "metadata": {},
   "source": [
    "### Looking for class imbalance"
   ]
  },
  {
   "cell_type": "code",
   "execution_count": 15,
   "id": "2813c1c3",
   "metadata": {},
   "outputs": [
    {
     "data": {
      "text/plain": [
       "0    16053\n",
       "1    15437\n",
       "Name: churn, dtype: int64"
      ]
     },
     "execution_count": 15,
     "metadata": {},
     "output_type": "execute_result"
    }
   ],
   "source": [
    "y.value_counts()"
   ]
  },
  {
   "cell_type": "code",
   "execution_count": 16,
   "id": "8bc65faa",
   "metadata": {},
   "outputs": [
    {
     "data": {
      "text/plain": [
       "(18, 15)"
      ]
     },
     "execution_count": 16,
     "metadata": {},
     "output_type": "execute_result"
    }
   ],
   "source": [
    "num_features = X.select_dtypes(include='number').columns\n",
    "cat_features = X.select_dtypes(include='object').columns\n",
    "len(num_features), len(cat_features)"
   ]
  },
  {
   "cell_type": "markdown",
   "id": "1f59042f",
   "metadata": {},
   "source": [
    "## Predicting churn"
   ]
  },
  {
   "cell_type": "markdown",
   "id": "e7534feb",
   "metadata": {},
   "source": [
    "### Splitting the data"
   ]
  },
  {
   "cell_type": "code",
   "execution_count": 17,
   "id": "145c2f2b",
   "metadata": {},
   "outputs": [],
   "source": [
    "X_train, X_val, y_train, y_val = train_test_split(X, y, test_size=0.2, random_state=42)"
   ]
  },
  {
   "cell_type": "code",
   "execution_count": 18,
   "id": "1075039f",
   "metadata": {},
   "outputs": [
    {
     "data": {
      "text/plain": [
       "(25192, 33)"
      ]
     },
     "execution_count": 18,
     "metadata": {},
     "output_type": "execute_result"
    }
   ],
   "source": [
    "X_train.shape"
   ]
  },
  {
   "cell_type": "markdown",
   "id": "02a01657",
   "metadata": {},
   "source": [
    "### Feature Selection"
   ]
  },
  {
   "cell_type": "code",
   "execution_count": 19,
   "id": "c27bc7b3",
   "metadata": {},
   "outputs": [
    {
     "name": "stdout",
     "output_type": "stream",
     "text": [
      "Wall time: 13.9 s\n"
     ]
    },
    {
     "data": {
      "text/plain": [
       "Pipeline(steps=[('preprocessor',\n",
       "                 ColumnTransformer(n_jobs=-1, remainder='passthrough',\n",
       "                                   transformers=[('num',\n",
       "                                                  Pipeline(steps=[('scaler',\n",
       "                                                                   StandardScaler()),\n",
       "                                                                  ('var_thr',\n",
       "                                                                   VarianceThreshold(threshold=0.1))]),\n",
       "                                                  Index(['rev_Mean', 'da_Mean', 'datovr_Mean', 'roam_Mean', 'change_mou',\n",
       "       'drop_dat_Mean', 'blck_vce_Mean', 'blck_dat_Mean', 'unan_dat_Mean',\n",
       "       'recv_sms_Mean', 'custca...\n",
       "                                                                  ('chi_selector',\n",
       "                                                                   SelectKBest(score_func=<function chi2 at 0x000002C47896A3A0>))]),\n",
       "                                                  Index(['new_cell', 'crclscod', 'asl_flag', 'prizm_social_one', 'area',\n",
       "       'dualband', 'refurb_new', 'hnd_webcap', 'marital', 'kid0_2', 'kid3_5',\n",
       "       'kid6_10', 'kid11_15', 'kid16_17', 'creditcd'],\n",
       "      dtype='object'))])),\n",
       "                ('ref',\n",
       "                 RFE(estimator=RandomForestClassifier(n_jobs=-1),\n",
       "                     n_features_to_select=10))])"
      ]
     },
     "execution_count": 19,
     "metadata": {},
     "output_type": "execute_result"
    }
   ],
   "source": [
    "%%time\n",
    "numeric_transformer = Pipeline(\n",
    "    steps=[(\"scaler\", StandardScaler()), \n",
    "           (\"var_thr\", VarianceThreshold(threshold=0.1))]\n",
    ")\n",
    "\n",
    "categorical_transformer = Pipeline(\n",
    "    steps=[(\"encoder\", OneHotEncoder()), \n",
    "           (\"chi_selector\",  SelectKBest(chi2, k=10))]\n",
    ")\n",
    "\n",
    "preprocessor = ColumnTransformer(\n",
    "    transformers=[\n",
    "        (\"num\", numeric_transformer, num_features),\n",
    "        (\"cat\", categorical_transformer, cat_features),\n",
    "    ],\n",
    "    remainder = 'passthrough',\n",
    "    n_jobs=-1\n",
    ")\n",
    "\n",
    "selector = Pipeline(\n",
    "    steps=[(\"preprocessor\", preprocessor), \n",
    "           (\"ref\", RFE(RandomForestClassifier(n_jobs=-1), \n",
    "                       n_features_to_select=10, \n",
    "                       step=1))]\n",
    ")\n",
    "\n",
    "selector.fit(X_train, y_train)"
   ]
  },
  {
   "cell_type": "code",
   "execution_count": 20,
   "id": "0666463f",
   "metadata": {},
   "outputs": [],
   "source": [
    "# Train Inference\n",
    "y_pred = selector.predict(X_train)\n",
    "y_val_pred = selector.predict(X_val)"
   ]
  },
  {
   "cell_type": "code",
   "execution_count": 21,
   "id": "82cd96e0",
   "metadata": {},
   "outputs": [
    {
     "name": "stdout",
     "output_type": "stream",
     "text": [
      "Train Accuracy: 1.0\n",
      "Train Precision: 1.0\n",
      "Train Recall: 1.0\n",
      "\n",
      "Validation Accuracy: 0.58\n",
      "Validation Precision: 0.57\n",
      "Validation Recall: 0.57\n"
     ]
    }
   ],
   "source": [
    "# Train metric\n",
    "train_acc = accuracy_score(y_train, y_pred)\n",
    "train_prec = precision_score(y_train, y_pred)\n",
    "train_recall = recall_score(y_train, y_pred)\n",
    "print(\"Train Accuracy:\", train_acc.round(2))\n",
    "print(\"Train Precision:\", train_prec.round(2))\n",
    "print(\"Train Recall:\", train_recall.round(2))\n",
    "\n",
    "# Val metric\n",
    "val_acc = accuracy_score(y_val, y_val_pred)\n",
    "val_prec = precision_score(y_val, y_val_pred)\n",
    "val_recall = recall_score(y_val, y_val_pred)\n",
    "print(\"\\nValidation Accuracy:\", val_acc.round(2))\n",
    "print(\"Validation Precision:\", val_prec.round(2))\n",
    "print(\"Validation Recall:\", val_recall.round(2))"
   ]
  },
  {
   "cell_type": "code",
   "execution_count": 22,
   "id": "fe3d9254",
   "metadata": {},
   "outputs": [],
   "source": [
    "# selector.named_steps['preprocessor'].transformers_[1][1].named_steps['encoder'].categories_"
   ]
  },
  {
   "cell_type": "code",
   "execution_count": 23,
   "id": "03265ef0",
   "metadata": {},
   "outputs": [],
   "source": [
    "# selector.named_steps['preprocessor'].transformers_[1][1].named_steps['encoder'].drop_idx_"
   ]
  },
  {
   "cell_type": "code",
   "execution_count": 24,
   "id": "ca38a923",
   "metadata": {},
   "outputs": [],
   "source": [
    "# selector[1].support_"
   ]
  },
  {
   "cell_type": "markdown",
   "id": "d38a9694",
   "metadata": {},
   "source": [
    "### Training the model"
   ]
  },
  {
   "cell_type": "code",
   "execution_count": 25,
   "id": "b7b02d3b",
   "metadata": {
    "scrolled": false
   },
   "outputs": [
    {
     "name": "stdout",
     "output_type": "stream",
     "text": [
      "model score: 0.585\n",
      "Wall time: 2.88 s\n"
     ]
    }
   ],
   "source": [
    "%%time\n",
    "numeric_transformer = Pipeline(\n",
    "    steps=[(\"scaler\", StandardScaler()), \n",
    "           (\"var_thr\", VarianceThreshold(threshold=0.1))],\n",
    ")\n",
    "\n",
    "categorical_transformer = Pipeline(\n",
    "    steps=[(\"encoder\", OneHotEncoder()), # handle_unknown=\"ignore\"\n",
    "           (\"cat_selector\",  SelectKBest(chi2, k=10))]\n",
    ")\n",
    "\n",
    "preprocessor = ColumnTransformer(\n",
    "    transformers=[\n",
    "        (\"num\", numeric_transformer, num_features),\n",
    "        (\"cat\", categorical_transformer, cat_features),\n",
    "    ],\n",
    "    remainder = 'passthrough',\n",
    "    n_jobs=-1\n",
    ")\n",
    "\n",
    "pipeline = Pipeline(\n",
    "    steps=[(\"preprocessor\", preprocessor), \n",
    "           (\"classifier\", RandomForestClassifier(n_jobs=-1, max_depth=20, max_features=10, min_samples_leaf=2))]\n",
    ")\n",
    "#   LogisticRegression(n_jobs=-1, max_iter=10000, C=0.1, warm_start=True)\n",
    "\n",
    "pipeline.fit(X_train, y_train)\n",
    "print(\"model score: %.3f\" % pipeline.score(X_val, y_val))"
   ]
  },
  {
   "cell_type": "markdown",
   "id": "39e1384f",
   "metadata": {},
   "source": [
    "### Inference"
   ]
  },
  {
   "cell_type": "code",
   "execution_count": 26,
   "id": "ba2081ec",
   "metadata": {},
   "outputs": [],
   "source": [
    "# Train Inference\n",
    "y_pred = pipeline.predict(X_train)\n",
    "y_val_pred = pipeline.predict(X_val)"
   ]
  },
  {
   "cell_type": "markdown",
   "id": "fbf8eb80",
   "metadata": {},
   "source": [
    "### Evaluation"
   ]
  },
  {
   "cell_type": "code",
   "execution_count": 27,
   "id": "342318c1",
   "metadata": {},
   "outputs": [
    {
     "name": "stdout",
     "output_type": "stream",
     "text": [
      "Train Accuracy: 0.97\n",
      "Train Precision: 0.98\n",
      "Train Recall: 0.96\n",
      "\n",
      "Validation Accuracy: 0.59\n",
      "Validation Precision: 0.57\n",
      "Validation Recall: 0.59\n"
     ]
    }
   ],
   "source": [
    "# Train metric\n",
    "train_acc = accuracy_score(y_train, y_pred)\n",
    "train_prec = precision_score(y_train, y_pred)\n",
    "train_recall = recall_score(y_train, y_pred)\n",
    "print(\"Train Accuracy:\", train_acc.round(2))\n",
    "print(\"Train Precision:\", train_prec.round(2))\n",
    "print(\"Train Recall:\", train_recall.round(2))\n",
    "\n",
    "# Val metric\n",
    "val_acc = accuracy_score(y_val, y_val_pred)\n",
    "val_prec = precision_score(y_val, y_val_pred)\n",
    "val_recall = recall_score(y_val, y_val_pred)\n",
    "print(\"\\nValidation Accuracy:\", val_acc.round(2))\n",
    "print(\"Validation Precision:\", val_prec.round(2))\n",
    "print(\"Validation Recall:\", val_recall.round(2))"
   ]
  },
  {
   "cell_type": "markdown",
   "id": "f64740d3",
   "metadata": {},
   "source": [
    "## Error Analysis / Postprocessing"
   ]
  },
  {
   "cell_type": "code",
   "execution_count": 68,
   "id": "13640ef3",
   "metadata": {},
   "outputs": [],
   "source": [
    "# feature_names = X_train.columns\n",
    "# feature_importances = pipeline.steps[1][1].feature_importances_\n",
    "\n",
    "# importance_df = pd.DataFrame({\"name\":feature_names, \"importance\":feature_importances})\n",
    "# importance_df = importance_df.sort_values(by='importance', ascending=False)\n",
    "# importance_df.plot(kind='bar', x='name')\n",
    "# plt.show()"
   ]
  },
  {
   "cell_type": "code",
   "execution_count": null,
   "id": "5030725d",
   "metadata": {},
   "outputs": [],
   "source": []
  },
  {
   "cell_type": "code",
   "execution_count": null,
   "id": "8ee5f581",
   "metadata": {},
   "outputs": [],
   "source": []
  },
  {
   "cell_type": "code",
   "execution_count": null,
   "id": "f39e0556",
   "metadata": {},
   "outputs": [],
   "source": []
  }
 ],
 "metadata": {
  "kernelspec": {
   "display_name": "Python 3 (ipykernel)",
   "language": "python",
   "name": "python3"
  },
  "language_info": {
   "codemirror_mode": {
    "name": "ipython",
    "version": 3
   },
   "file_extension": ".py",
   "mimetype": "text/x-python",
   "name": "python",
   "nbconvert_exporter": "python",
   "pygments_lexer": "ipython3",
   "version": "3.9.7"
  }
 },
 "nbformat": 4,
 "nbformat_minor": 5
}
