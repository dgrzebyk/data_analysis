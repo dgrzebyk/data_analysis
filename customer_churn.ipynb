{
 "cells": [
  {
   "cell_type": "markdown",
   "id": "bfcacd21",
   "metadata": {},
   "source": [
    "# Churn Prediction - Telecom Case\n",
    "Author: Daniel Grzebyk\n",
    "\n",
    "Date: 1.07.2022"
   ]
  },
  {
   "cell_type": "code",
   "execution_count": 68,
   "id": "ccf6beeb",
   "metadata": {},
   "outputs": [],
   "source": [
    "import pandas as pd\n",
    "import numpy as np\n",
    "import matplotlib.pyplot as plt\n",
    "import seaborn as sns\n",
    "\n",
    "from sklearn.cluster import KMeans\n",
    "from sklearn.linear_model import LogisticRegression\n",
    "from sklearn.ensemble import RandomForestClassifier\n",
    "from sklearn.preprocessing import OneHotEncoder, MinMaxScaler, StandardScaler\n",
    "from sklearn.model_selection import train_test_split\n",
    "from sklearn.metrics import accuracy_score, precision_score, recall_score\n",
    "from sklearn.compose import ColumnTransformer, make_column_transformer\n",
    "from sklearn.pipeline import Pipeline\n",
    "\n",
    "from sklearn.metrics import mean_squared_error"
   ]
  },
  {
   "cell_type": "markdown",
   "id": "79a87468",
   "metadata": {},
   "source": [
    "## Loading the data"
   ]
  },
  {
   "cell_type": "code",
   "execution_count": 2,
   "id": "f6315453",
   "metadata": {},
   "outputs": [],
   "source": [
    "df = pd.read_csv(\"data/telecom/data.csv\")\n",
    "var_df = pd.read_csv(\"data/telecom/variables-definition.csv\")"
   ]
  },
  {
   "cell_type": "markdown",
   "id": "4e873c18",
   "metadata": {},
   "source": [
    "## Exploratory Data Analysis (EDA)\n",
    "Research Question: Why customers leave the company?\n",
    "\n",
    "Hypothesis to be verified:\n",
    "- the services are too expensive - if yes, then lower income households would leave more frequently, as they are more price-sensitive\n",
    "- the services are not required - if yes, few calls, low data usage, etc.\n",
    "- low quality of service - many calls failed due to network issues\n",
    "- geography: maybe in some geographical areas (lower network coverage or income)\n",
    "- are household with children more loyal customers?\n",
    "\n",
    "Relevant Observations:\n",
    "- Data Structure: every row is a customer / household\n",
    "- Problem: binary classification problem: predict whether a customer will stay with the telecom company or leave\n",
    "- Label: churn - the customer will leave [yes / no]\n",
    "\n",
    "Interesting features\n",
    "- Failed calls might indicate issues with the quality of service. What % of all calls fails, and how does it influence customer loyalty?\n",
    "- Time spent calling customer service, happy customers rarely call.\n",
    "\n",
    "Features not relevant for predicting churn:\n",
    "- Number and minutes of unanswered and received calls\n",
    "- Whether calls are wireless or not\n",
    "- Network traffic, whether call is peak or off-peak\n",
    "- The number of call participants\n",
    "- Whether calls are incoming or outbound\n",
    "- Distinction between voice and data calls"
   ]
  },
  {
   "cell_type": "code",
   "execution_count": 3,
   "id": "122feabb",
   "metadata": {},
   "outputs": [],
   "source": [
    "features_eliminated = ['Customer_ID', 'peak_vce_Mean', 'peak_dat_Mean', 'mou_peav_Mean', 'mou_pead_Mean', 'opk_vce_Mean',\n",
    "                       'opk_dat_Mean', 'mou_opkv_Mean', 'mou_opkd_Mean', 'owylis_vce_Mean', 'mouowylisv_Mean',\n",
    "                       'iwylis_vce_Mean', 'mouiwylisv_Mean', 'inonemin_Mean', 'threeway_Mean', 'mou_cvce_Mean', \n",
    "                       'mou_cdat_Mean', 'mou_rvce_Mean', 'drop_blk_Mean', 'attempt_Mean', 'complete_Mean', 'callfwdv_Mean',\n",
    "                       'callwait_Mean', 'unan_vce_Mean', 'unan_dat_Mean', 'recv_vce_Mean', 'recv_sms_Mean',\n",
    "                       'cc_mou_Mean', 'plcd_vce_Mean', 'plcd_dat_Mean', 'comp_vce_Mean', 'comp_dat_Mean', 'roam_Mean',\n",
    "                       'ethnic']\n",
    "\n",
    "df.drop(columns=features_eliminated, inplace=True)\n",
    "# Knowing number of calls and their mean time, average time per call can be calculated"
   ]
  },
  {
   "cell_type": "code",
   "execution_count": 4,
   "id": "492401c5",
   "metadata": {},
   "outputs": [
    {
     "data": {
      "text/plain": [
       "(100000, 66)"
      ]
     },
     "execution_count": 4,
     "metadata": {},
     "output_type": "execute_result"
    }
   ],
   "source": [
    "df.shape"
   ]
  },
  {
   "cell_type": "markdown",
   "id": "3ebfbc1a",
   "metadata": {},
   "source": [
    "### Loyalty\n",
    "The distribution is right-skewed, peak around the 12th month might indicate past sale or a marketing campaign. The longest staying customer is with the company for 5 years. "
   ]
  },
  {
   "cell_type": "code",
   "execution_count": 5,
   "id": "58cc7d6e",
   "metadata": {},
   "outputs": [
    {
     "data": {
      "text/plain": [
       "<AxesSubplot:xlabel='months', ylabel='Count'>"
      ]
     },
     "execution_count": 5,
     "metadata": {},
     "output_type": "execute_result"
    },
    {
     "data": {
      "image/png": "[encoded data removed]",
      "text/plain": [
       "<Figure size 432x288 with 1 Axes>"
      ]
     },
     "metadata": {
      "needs_background": "light"
     },
     "output_type": "display_data"
    }
   ],
   "source": [
    "sns.histplot(df['months'])"
   ]
  },
  {
   "cell_type": "code",
   "execution_count": 6,
   "id": "2f992d32",
   "metadata": {},
   "outputs": [
    {
     "data": {
      "image/png": "[encoded data removed]",
      "text/plain": [
       "<Figure size 432x288 with 1 Axes>"
      ]
     },
     "metadata": {
      "needs_background": "light"
     },
     "output_type": "display_data"
    }
   ],
   "source": [
    "sns.histplot(df['totrev'], binrange=(0, 4000), binwidth=250)\n",
    "plt.xlabel(\"Total revenue per customer\")\n",
    "plt.show()"
   ]
  },
  {
   "cell_type": "markdown",
   "id": "9d2d0899",
   "metadata": {},
   "source": [
    "### Company Revenue\n",
    "As customer requirements are covered by multiple products, in order to check which customers significantly changed their consumption it is the easiest to look at the revenue. It can be seen that around 5% of all customers reduced their spending by at least 50% with respect to the 3 month mean. These customers might be the potential leavers.\n",
    "\n",
    "After identifying who the potential leavers might be, it will be checked what % of revenue they bring to the company. E.g. suddent outflow of high-revenue clients could be a source of a major concern."
   ]
  },
  {
   "cell_type": "code",
   "execution_count": 7,
   "id": "4251aab7",
   "metadata": {},
   "outputs": [
    {
     "data": {
      "text/plain": [
       "0.05"
      ]
     },
     "execution_count": 7,
     "metadata": {},
     "output_type": "execute_result"
    }
   ],
   "source": [
    "rapid_reduction_rate = round(len(df['change_rev'].loc[df['change_rev'] < -50]) / len(df), 2)\n",
    "rapid_reduction_rate"
   ]
  },
  {
   "cell_type": "code",
   "execution_count": 8,
   "id": "749f4262",
   "metadata": {},
   "outputs": [
    {
     "data": {
      "image/png": "[encoded data removed]",
      "text/plain": [
       "<Figure size 432x288 with 1 Axes>"
      ]
     },
     "metadata": {
      "needs_background": "light"
     },
     "output_type": "display_data"
    }
   ],
   "source": [
    "sns.histplot(df['change_rev'], binrange=(-200, 200), binwidth=25)\n",
    "plt.xlabel(\"Change in revenue vs. 3 month average [%]\")\n",
    "plt.show()"
   ]
  },
  {
   "cell_type": "markdown",
   "id": "ac9963de",
   "metadata": {},
   "source": [
    "Customers who use more than they declared in their plan often bear additional costs. Are these costs the reason why they change the service provider? Probably not, as they are usually less than 10% of the overall costs."
   ]
  },
  {
   "cell_type": "code",
   "execution_count": 9,
   "id": "f7f4091f",
   "metadata": {},
   "outputs": [
    {
     "data": {
      "image/png": "[encoded data removed]",
      "text/plain": [
       "<Figure size 432x288 with 1 Axes>"
      ]
     },
     "metadata": {
      "needs_background": "light"
     },
     "output_type": "display_data"
    }
   ],
   "source": [
    "df['overrev_ratio'] = df['ovrrev_Mean'] / df['rev_Mean']\n",
    "sns.histplot(df['overrev_ratio'], binrange=(0, 1), binwidth=0.1)\n",
    "plt.xlabel(\"Fraction of revenue due to overage [-]\")\n",
    "plt.show()"
   ]
  },
  {
   "cell_type": "markdown",
   "id": "d4d53a5b",
   "metadata": {},
   "source": [
    "Clearly, there are very few customers who pay for the service and not use it. Therefore, rapid drop of demand might be correlated with churn."
   ]
  },
  {
   "cell_type": "code",
   "execution_count": 10,
   "id": "fad00ef3",
   "metadata": {},
   "outputs": [
    {
     "data": {
      "text/plain": [
       "<AxesSubplot:xlabel='actsubs_ratio', ylabel='Count'>"
      ]
     },
     "execution_count": 10,
     "metadata": {},
     "output_type": "execute_result"
    },
    {
     "data": {
      "image/png": "[encoded data removed]",
      "text/plain": [
       "<Figure size 432x288 with 1 Axes>"
      ]
     },
     "metadata": {
      "needs_background": "light"
     },
     "output_type": "display_data"
    }
   ],
   "source": [
    "df['actsubs_ratio'] = df['actvsubs'] / df['uniqsubs']\n",
    "sns.histplot(df['actsubs_ratio'])"
   ]
  },
  {
   "cell_type": "markdown",
   "id": "0ea083e3",
   "metadata": {},
   "source": [
    "### Customers social status\n",
    "Clients' income is a categorical variable, but no information about the brackets for each class were provided. It is assumed that income will be the most influencial of all status-related features including also: size of dwelling, credit card information, number of cars, etc. "
   ]
  },
  {
   "cell_type": "code",
   "execution_count": 11,
   "id": "9debb7d3",
   "metadata": {},
   "outputs": [
    {
     "data": {
      "text/plain": [
       "6.0    18802\n",
       "7.0    11597\n",
       "9.0    10833\n",
       "5.0     8277\n",
       "4.0     7790\n",
       "3.0     5830\n",
       "8.0     5142\n",
       "1.0     4033\n",
       "2.0     2260\n",
       "Name: income, dtype: int64"
      ]
     },
     "execution_count": 11,
     "metadata": {},
     "output_type": "execute_result"
    }
   ],
   "source": [
    "df['income'].value_counts()"
   ]
  },
  {
   "cell_type": "markdown",
   "id": "22e3aee6",
   "metadata": {},
   "source": [
    "### Household information\n",
    "How many households have children, and are households with children more loyal customers? The initial hypothesis is the parents of young children are too busy to make changes in telecom providers, but this tendency is expected to disappear as children are older."
   ]
  },
  {
   "cell_type": "code",
   "execution_count": 12,
   "id": "009936d6",
   "metadata": {},
   "outputs": [
    {
     "data": {
      "text/plain": [
       "<AxesSubplot:xlabel='totmrc_Mean', ylabel='Count'>"
      ]
     },
     "execution_count": 12,
     "metadata": {},
     "output_type": "execute_result"
    },
    {
     "data": {
      "image/png": "[encoded data removed]",
      "text/plain": [
       "<Figure size 432x288 with 1 Axes>"
      ]
     },
     "metadata": {
      "needs_background": "light"
     },
     "output_type": "display_data"
    }
   ],
   "source": [
    "sns.histplot(df['totmrc_Mean'], binrange=(0, 200), binwidth=25)"
   ]
  },
  {
   "cell_type": "code",
   "execution_count": 66,
   "id": "18d65a75",
   "metadata": {},
   "outputs": [
    {
     "data": {
      "text/plain": [
       "kid0_2\n",
       "U    0.494918\n",
       "Y    0.519442\n",
       "dtype: float64"
      ]
     },
     "execution_count": 66,
     "metadata": {},
     "output_type": "execute_result"
    }
   ],
   "source": [
    "df.groupby('kid0_2')['churn'].sum() / df.groupby('kid0_2').size()"
   ]
  },
  {
   "cell_type": "code",
   "execution_count": 67,
   "id": "4566612d",
   "metadata": {},
   "outputs": [
    {
     "data": {
      "text/plain": [
       "marital\n",
       "A    0.489689\n",
       "B    0.496908\n",
       "M    0.488664\n",
       "S    0.474670\n",
       "U    0.512656\n",
       "dtype: float64"
      ]
     },
     "execution_count": 67,
     "metadata": {},
     "output_type": "execute_result"
    }
   ],
   "source": [
    "df.groupby('marital')['churn'].sum() / df.groupby('marital').size()"
   ]
  },
  {
   "cell_type": "markdown",
   "id": "d8020386",
   "metadata": {},
   "source": [
    "### Quality of service\n",
    "Median time of a call with customer service is 2 min which might mean the issues are resolved relatively quickly."
   ]
  },
  {
   "cell_type": "code",
   "execution_count": 13,
   "id": "dacc1e49",
   "metadata": {},
   "outputs": [
    {
     "data": {
      "text/plain": [
       "2.000000003"
      ]
     },
     "execution_count": 13,
     "metadata": {},
     "output_type": "execute_result"
    }
   ],
   "source": [
    "(df['ccrndmou_Mean'] / df['custcare_Mean']).median()"
   ]
  },
  {
   "cell_type": "code",
   "execution_count": 14,
   "id": "3fbf82c0",
   "metadata": {},
   "outputs": [
    {
     "data": {
      "image/png": "[encoded data removed]",
      "text/plain": [
       "<Figure size 432x288 with 1 Axes>"
      ]
     },
     "metadata": {
      "needs_background": "light"
     },
     "output_type": "display_data"
    }
   ],
   "source": [
    "sns.histplot(df['ccrndmou_Mean'] / df['custcare_Mean'], binrange=(0, 20), binwidth=1)\n",
    "plt.xlabel(\"Time of an average call to customer service [min/call]\")\n",
    "plt.show()"
   ]
  },
  {
   "cell_type": "markdown",
   "id": "a9ee8054",
   "metadata": {},
   "source": [
    "High percentage of failed calls or old equipment could indicate low quality of service and influence customer churn. It does not matter whether headset is refurbished or new, churn value is ~50%. "
   ]
  },
  {
   "cell_type": "code",
   "execution_count": 15,
   "id": "c3baf382",
   "metadata": {},
   "outputs": [
    {
     "data": {
      "image/png": "[encoded data removed]",
      "text/plain": [
       "<Figure size 432x288 with 1 Axes>"
      ]
     },
     "metadata": {
      "needs_background": "light"
     },
     "output_type": "display_data"
    }
   ],
   "source": [
    "failed_calls = df['drop_vce_Mean'] + df['drop_dat_Mean'] + df['blck_vce_Mean'] + df['blck_dat_Mean']\n",
    "sns.histplot(failed_calls, binrange=(0, 100), binwidth=5)\n",
    "plt.xlabel(\"Mean number of failed calls [-]\")\n",
    "plt.show()"
   ]
  },
  {
   "cell_type": "code",
   "execution_count": 16,
   "id": "a959783d",
   "metadata": {},
   "outputs": [
    {
     "data": {
      "image/png": "[encoded data removed]",
      "text/plain": [
       "<Figure size 432x288 with 1 Axes>"
      ]
     },
     "metadata": {
      "needs_background": "light"
     },
     "output_type": "display_data"
    }
   ],
   "source": [
    "sns.histplot(df['eqpdays'] / 365, binrange=(0, 4), binwidth=0.25)\n",
    "plt.xlabel(\"Equipment Age [years]\")\n",
    "plt.show()"
   ]
  },
  {
   "cell_type": "code",
   "execution_count": 17,
   "id": "fdea0f32",
   "metadata": {},
   "outputs": [
    {
     "data": {
      "text/plain": [
       "refurb_new\n",
       "N    0.489105\n",
       "R    0.534361\n",
       "dtype: float64"
      ]
     },
     "execution_count": 17,
     "metadata": {},
     "output_type": "execute_result"
    }
   ],
   "source": [
    "df.groupby(\"refurb_new\")['churn'].sum() / df.groupby('refurb_new').size()"
   ]
  },
  {
   "cell_type": "markdown",
   "id": "5238f604",
   "metadata": {},
   "source": [
    "### Other\n",
    "Churn is more or less equally distributed across all areas of operation. Non-uniform distribution could undicate e.g. new strong competition. "
   ]
  },
  {
   "cell_type": "code",
   "execution_count": 18,
   "id": "cc39df1f",
   "metadata": {},
   "outputs": [
    {
     "data": {
      "text/plain": [
       "0    50438\n",
       "1    49562\n",
       "Name: churn, dtype: int64"
      ]
     },
     "execution_count": 18,
     "metadata": {},
     "output_type": "execute_result"
    }
   ],
   "source": [
    "df['churn'].value_counts()"
   ]
  },
  {
   "cell_type": "code",
   "execution_count": 19,
   "id": "09bd24f6",
   "metadata": {},
   "outputs": [
    {
     "data": {
      "text/plain": [
       "area\n",
       "ATLANTIC SOUTH AREA              0.489726\n",
       "CALIFORNIA NORTH AREA            0.521055\n",
       "CENTRAL/SOUTH TEXAS AREA         0.478483\n",
       "CHICAGO AREA                     0.495234\n",
       "DALLAS AREA                      0.487468\n",
       "DC/MARYLAND/VIRGINIA AREA        0.460332\n",
       "GREAT LAKES AREA                 0.476447\n",
       "HOUSTON AREA                     0.475006\n",
       "LOS ANGELES AREA                 0.498192\n",
       "MIDWEST AREA                     0.459029\n",
       "NEW ENGLAND AREA                 0.517425\n",
       "NEW YORK CITY AREA               0.500270\n",
       "NORTH FLORIDA AREA               0.520000\n",
       "NORTHWEST/ROCKY MOUNTAIN AREA    0.569085\n",
       "OHIO AREA                        0.463755\n",
       "PHILADELPHIA AREA                0.506541\n",
       "SOUTH FLORIDA AREA               0.533613\n",
       "SOUTHWEST AREA                   0.510102\n",
       "TENNESSEE AREA                   0.471319\n",
       "Name: churn, dtype: float64"
      ]
     },
     "execution_count": 19,
     "metadata": {},
     "output_type": "execute_result"
    }
   ],
   "source": [
    "df.groupby('area')['churn'].sum() / df.groupby('area')['churn'].size()"
   ]
  },
  {
   "cell_type": "code",
   "execution_count": 20,
   "id": "b50e443d",
   "metadata": {},
   "outputs": [
    {
     "data": {
      "text/plain": [
       "new_cell\n",
       "N    0.496627\n",
       "U    0.496951\n",
       "Y    0.490285\n",
       "dtype: float64"
      ]
     },
     "execution_count": 20,
     "metadata": {},
     "output_type": "execute_result"
    }
   ],
   "source": [
    "df.groupby('new_cell')['churn'].sum() / df.groupby('new_cell').size()"
   ]
  },
  {
   "cell_type": "markdown",
   "id": "8dcd01b1",
   "metadata": {},
   "source": [
    "## Data Preprocessing"
   ]
  },
  {
   "cell_type": "code",
   "execution_count": 21,
   "id": "cf506604",
   "metadata": {},
   "outputs": [],
   "source": [
    "X = df.drop(columns=['churn']).copy()\n",
    "y = df['churn'].copy()"
   ]
  },
  {
   "cell_type": "markdown",
   "id": "0f18ffbf",
   "metadata": {},
   "source": [
    "### Looking for duplicates"
   ]
  },
  {
   "cell_type": "code",
   "execution_count": 22,
   "id": "02f63d8f",
   "metadata": {},
   "outputs": [
    {
     "data": {
      "text/plain": [
       "0"
      ]
     },
     "execution_count": 22,
     "metadata": {},
     "output_type": "execute_result"
    }
   ],
   "source": [
    "X.duplicated().sum()"
   ]
  },
  {
   "cell_type": "markdown",
   "id": "db3f7eff",
   "metadata": {},
   "source": [
    "### Dropping NaNs"
   ]
  },
  {
   "cell_type": "code",
   "execution_count": 23,
   "id": "9943c59a",
   "metadata": {},
   "outputs": [
    {
     "data": {
      "text/plain": [
       "ownrent     33706\n",
       "lor         30190\n",
       "dwlltype    31909\n",
       "numbcars    49366\n",
       "HHstatin    37923\n",
       "dwllsize    38308\n",
       "dtype: int64"
      ]
     },
     "execution_count": 23,
     "metadata": {},
     "output_type": "execute_result"
    }
   ],
   "source": [
    "# Count NaNs\n",
    "nans_per_feature = X.isna().sum()\n",
    "nans_per_feature[nans_per_feature > 30000]  # Is one of the dropped features crucial?"
   ]
  },
  {
   "cell_type": "code",
   "execution_count": 24,
   "id": "f2da825c",
   "metadata": {},
   "outputs": [
    {
     "name": "stdout",
     "output_type": "stream",
     "text": [
      "Dropping: ['ownrent', 'lor', 'dwlltype', 'numbcars', 'HHstatin', 'dwllsize']\n",
      "Before dropping rows with NaNs: (100000, 61)\n",
      "After dropping rows with NaNs: (60384, 61)\n"
     ]
    }
   ],
   "source": [
    "cols_to_drop = list(nans_per_feature[nans_per_feature > 30000].index)  # drop features which have more than 20% NaNs\n",
    "X.drop(columns=cols_to_drop, inplace=True)\n",
    "print(\"Dropping:\", cols_to_drop)\n",
    "\n",
    "print(\"Before dropping rows with NaNs:\", X.shape)\n",
    "X.dropna(inplace=True)\n",
    "y = y.loc[X.index]\n",
    "print(\"After dropping rows with NaNs:\", X.shape)"
   ]
  },
  {
   "cell_type": "markdown",
   "id": "0317594a",
   "metadata": {},
   "source": [
    "### Identifying numerical, categorical, text features"
   ]
  },
  {
   "cell_type": "code",
   "execution_count": 35,
   "id": "82b95ce9",
   "metadata": {
    "scrolled": true
   },
   "outputs": [
    {
     "data": {
      "text/plain": [
       "Index(['rev_Mean', 'mou_Mean', 'totmrc_Mean', 'da_Mean', 'ovrmou_Mean',\n",
       "       'datovr_Mean', 'change_mou', 'change_rev', 'drop_vce_Mean',\n",
       "       'drop_dat_Mean', 'blck_vce_Mean', 'blck_dat_Mean', 'custcare_Mean',\n",
       "       'ccrndmou_Mean', 'months', 'uniqsubs', 'actvsubs', 'totcalls', 'totrev',\n",
       "       'avgrev', 'avgmou', 'avgqty', 'hnd_price', 'phones', 'models', 'truck',\n",
       "       'rv', 'adults', 'income', 'forgntvl', 'eqpdays', 'overrev_ratio',\n",
       "       'actsubs_ratio'],\n",
       "      dtype='object')"
      ]
     },
     "execution_count": 35,
     "metadata": {},
     "output_type": "execute_result"
    }
   ],
   "source": [
    "X.select_dtypes(include='number').columns"
   ]
  },
  {
   "cell_type": "code",
   "execution_count": 36,
   "id": "3a40b7f4",
   "metadata": {},
   "outputs": [
    {
     "data": {
      "text/plain": [
       "Index(['new_cell', 'crclscod', 'asl_flag', 'prizm_social_one', 'area',\n",
       "       'dualband', 'refurb_new', 'hnd_webcap', 'marital', 'infobase', 'kid0_2',\n",
       "       'kid3_5', 'kid6_10', 'kid11_15', 'kid16_17', 'creditcd'],\n",
       "      dtype='object')"
      ]
     },
     "execution_count": 36,
     "metadata": {},
     "output_type": "execute_result"
    }
   ],
   "source": [
    "X.select_dtypes(include='object').columns"
   ]
  },
  {
   "cell_type": "code",
   "execution_count": 37,
   "id": "021c50b6",
   "metadata": {
    "scrolled": true
   },
   "outputs": [
    {
     "data": {
      "text/plain": [
       "Index([], dtype='object')"
      ]
     },
     "execution_count": 37,
     "metadata": {},
     "output_type": "execute_result"
    }
   ],
   "source": [
    "X.select_dtypes(include='category').columns"
   ]
  },
  {
   "cell_type": "code",
   "execution_count": 38,
   "id": "279c0a07",
   "metadata": {},
   "outputs": [],
   "source": [
    "num_features = X.select_dtypes(include='number').columns\n",
    "cat_features = X.select_dtypes(include='object').columns"
   ]
  },
  {
   "cell_type": "code",
   "execution_count": 39,
   "id": "ba856b65",
   "metadata": {},
   "outputs": [
    {
     "data": {
      "text/plain": [
       "49"
      ]
     },
     "execution_count": 39,
     "metadata": {},
     "output_type": "execute_result"
    }
   ],
   "source": [
    "len(num_features) + len(cat_features)"
   ]
  },
  {
   "cell_type": "code",
   "execution_count": 40,
   "id": "e22711d8",
   "metadata": {},
   "outputs": [
    {
     "data": {
      "text/plain": [
       "6"
      ]
     },
     "execution_count": 40,
     "metadata": {},
     "output_type": "execute_result"
    }
   ],
   "source": [
    "len(cols_to_drop)"
   ]
  },
  {
   "cell_type": "markdown",
   "id": "23abfb08",
   "metadata": {},
   "source": [
    "### Looking for correlations"
   ]
  },
  {
   "cell_type": "code",
   "execution_count": 41,
   "id": "883b17e7",
   "metadata": {},
   "outputs": [
    {
     "data": {
      "text/plain": [
       "Index(['rev_Mean', 'mou_Mean', 'totmrc_Mean', 'da_Mean', 'ovrmou_Mean',\n",
       "       'datovr_Mean', 'change_mou', 'change_rev', 'drop_vce_Mean',\n",
       "       'drop_dat_Mean', 'blck_vce_Mean', 'blck_dat_Mean', 'custcare_Mean',\n",
       "       'ccrndmou_Mean', 'months', 'uniqsubs', 'actvsubs', 'totcalls', 'totrev',\n",
       "       'avgrev', 'avgmou', 'avgqty', 'hnd_price', 'phones', 'models', 'truck',\n",
       "       'rv', 'adults', 'income', 'forgntvl', 'eqpdays', 'overrev_ratio',\n",
       "       'actsubs_ratio'],\n",
       "      dtype='object')"
      ]
     },
     "execution_count": 41,
     "metadata": {},
     "output_type": "execute_result"
    }
   ],
   "source": [
    "num_features"
   ]
  },
  {
   "cell_type": "code",
   "execution_count": 42,
   "id": "e297a6b3",
   "metadata": {},
   "outputs": [
    {
     "data": {
      "text/plain": [
       "<AxesSubplot:>"
      ]
     },
     "execution_count": 42,
     "metadata": {},
     "output_type": "execute_result"
    },
    {
     "data": {
      "image/png": "[encoded data removed]",
      "text/plain": [
       "<Figure size 432x288 with 2 Axes>"
      ]
     },
     "metadata": {
      "needs_background": "light"
     },
     "output_type": "display_data"
    }
   ],
   "source": [
    "corr = df[num_features].corr()\n",
    "sns.heatmap(corr)"
   ]
  },
  {
   "cell_type": "code",
   "execution_count": 43,
   "id": "90a2e7dd",
   "metadata": {},
   "outputs": [],
   "source": [
    "# Create correlation matrix\n",
    "corr_matrix = X.corr().abs()\n",
    "\n",
    "# Select upper triangle of correlation matrix\n",
    "upper = corr_matrix.where(np.triu(np.ones(corr_matrix.shape), k=1).astype(bool))\n",
    "\n",
    "# Find features with correlation greater than 0.9\n",
    "to_drop = [column for column in upper.columns if any(upper[column] > 0.9)]\n",
    "\n",
    "# Drop features \n",
    "X.drop(to_drop, axis=1, inplace=True)"
   ]
  },
  {
   "cell_type": "code",
   "execution_count": 45,
   "id": "95dfd40a",
   "metadata": {},
   "outputs": [],
   "source": [
    "# Re-assigning numerical features after dropping the correlated ones\n",
    "num_features = X.select_dtypes(include='number').columns"
   ]
  },
  {
   "cell_type": "markdown",
   "id": "baa7b7e6",
   "metadata": {},
   "source": [
    "### Looking for class imbalance"
   ]
  },
  {
   "cell_type": "code",
   "execution_count": 46,
   "id": "2813c1c3",
   "metadata": {},
   "outputs": [
    {
     "data": {
      "text/plain": [
       "0    31584\n",
       "1    28800\n",
       "Name: churn, dtype: int64"
      ]
     },
     "execution_count": 46,
     "metadata": {},
     "output_type": "execute_result"
    }
   ],
   "source": [
    "y.value_counts()"
   ]
  },
  {
   "cell_type": "markdown",
   "id": "1f59042f",
   "metadata": {},
   "source": [
    "## Predicting churn"
   ]
  },
  {
   "cell_type": "markdown",
   "id": "e7534feb",
   "metadata": {},
   "source": [
    "### Splitting the data"
   ]
  },
  {
   "cell_type": "code",
   "execution_count": 47,
   "id": "145c2f2b",
   "metadata": {},
   "outputs": [],
   "source": [
    "X_train, X_val, y_train, y_val = train_test_split(X, y, test_size=0.2, random_state=42)\n",
    "# For simplicity I am skipping the test (left-out) set, I would prefer to use 60%-20%-20% data split"
   ]
  },
  {
   "cell_type": "markdown",
   "id": "d38a9694",
   "metadata": {},
   "source": [
    "### Training the model"
   ]
  },
  {
   "cell_type": "code",
   "execution_count": null,
   "id": "bcff291c",
   "metadata": {
    "scrolled": false
   },
   "outputs": [],
   "source": [
    "# I did not identify text features\n",
    "ct = make_column_transformer((StandardScaler(), num_features),\n",
    "                             (OneHotEncoder(handle_unknown='ignore'), cat_features),\n",
    "                             n_jobs=-1,\n",
    "                             verbose=False)\n",
    "\n",
    "pipeline = Pipeline(\n",
    "    steps=[(\"preprocessor\", ct), (\"regressor\", RandomForestClassifier())] # LogisticRegression(max_iter=500)\n",
    ")\n",
    "\n",
    "# Training the model\n",
    "pipeline.fit(X_train, y_train)"
   ]
  },
  {
   "cell_type": "code",
   "execution_count": null,
   "id": "ba2081ec",
   "metadata": {},
   "outputs": [],
   "source": [
    "# Train Inference\n",
    "y_pred = pipeline.predict(X_train)\n",
    "y_val_pred = pipeline.predict(X_val)"
   ]
  },
  {
   "cell_type": "code",
   "execution_count": null,
   "id": "342318c1",
   "metadata": {},
   "outputs": [],
   "source": [
    "# Train metric\n",
    "train_acc = accuracy_score(y_train, y_pred)\n",
    "train_prec = precision_score(y_train, y_pred)\n",
    "train_recall = recall_score(y_train, y_pred)\n",
    "print(\"Train Accuracy:\", train_acc.round(2))\n",
    "print(\"Train Precision:\", train_prec.round(2))\n",
    "print(\"Train Recall:\", train_recall.round(2))\n",
    "\n",
    "# Val metric\n",
    "val_acc = accuracy_score(y_val, y_val_pred)\n",
    "val_prec = precision_score(y_val, y_val_pred)\n",
    "val_recall = recall_score(y_val, y_val_pred)\n",
    "print(\"\\nValidation Accuracy:\", val_acc.round(2))\n",
    "print(\"Validation Precision:\", val_prec.round(2))\n",
    "print(\"Validation Recall:\", val_recall.round(2))"
   ]
  },
  {
   "cell_type": "markdown",
   "id": "87e48cb8",
   "metadata": {},
   "source": [
    "## Error Analysis / Postprocessing"
   ]
  },
  {
   "cell_type": "code",
   "execution_count": null,
   "id": "7919996d",
   "metadata": {},
   "outputs": [],
   "source": []
  },
  {
   "cell_type": "code",
   "execution_count": 86,
   "id": "c5b25ddc",
   "metadata": {},
   "outputs": [
    {
     "ename": "ValueError",
     "evalue": "All arrays must be of the same length",
     "output_type": "error",
     "traceback": [
      "\u001b[1;31m---------------------------------------------------------------------------\u001b[0m",
      "\u001b[1;31mValueError\u001b[0m                                Traceback (most recent call last)",
      "\u001b[1;32m~\\AppData\\Local\\Temp/ipykernel_4952/4105255484.py\u001b[0m in \u001b[0;36m<module>\u001b[1;34m\u001b[0m\n\u001b[0;32m      1\u001b[0m \u001b[0mrf_importances\u001b[0m \u001b[1;33m=\u001b[0m \u001b[0mpipeline\u001b[0m\u001b[1;33m.\u001b[0m\u001b[0msteps\u001b[0m\u001b[1;33m[\u001b[0m\u001b[1;36m1\u001b[0m\u001b[1;33m]\u001b[0m\u001b[1;33m[\u001b[0m\u001b[1;36m1\u001b[0m\u001b[1;33m]\u001b[0m\u001b[1;33m.\u001b[0m\u001b[0mfeature_importances_\u001b[0m\u001b[1;33m\u001b[0m\u001b[1;33m\u001b[0m\u001b[0m\n\u001b[1;32m----> 2\u001b[1;33m \u001b[0mplot_feature_importance\u001b[0m\u001b[1;33m(\u001b[0m\u001b[0mimportance\u001b[0m\u001b[1;33m=\u001b[0m\u001b[0mrf_importances\u001b[0m\u001b[1;33m,\u001b[0m \u001b[0mnames\u001b[0m\u001b[1;33m=\u001b[0m\u001b[0mX_train\u001b[0m\u001b[1;33m.\u001b[0m\u001b[0mcolumns\u001b[0m\u001b[1;33m,\u001b[0m \u001b[0mmodel_type\u001b[0m\u001b[1;33m=\u001b[0m\u001b[1;34m'RANDOM FOREST'\u001b[0m\u001b[1;33m)\u001b[0m\u001b[1;33m\u001b[0m\u001b[1;33m\u001b[0m\u001b[0m\n\u001b[0m",
      "\u001b[1;32m~\\AppData\\Local\\Temp/ipykernel_4952/2694433873.py\u001b[0m in \u001b[0;36mplot_feature_importance\u001b[1;34m(importance, names, model_type)\u001b[0m\n\u001b[0;32m      7\u001b[0m     \u001b[1;31m#Create a DataFrame using a Dictionary\u001b[0m\u001b[1;33m\u001b[0m\u001b[1;33m\u001b[0m\u001b[0m\n\u001b[0;32m      8\u001b[0m     \u001b[0mdata\u001b[0m\u001b[1;33m=\u001b[0m\u001b[1;33m{\u001b[0m\u001b[1;34m'feature_names'\u001b[0m\u001b[1;33m:\u001b[0m\u001b[0mfeature_names\u001b[0m\u001b[1;33m,\u001b[0m\u001b[1;34m'feature_importance'\u001b[0m\u001b[1;33m:\u001b[0m\u001b[0mfeature_importance\u001b[0m\u001b[1;33m}\u001b[0m\u001b[1;33m\u001b[0m\u001b[1;33m\u001b[0m\u001b[0m\n\u001b[1;32m----> 9\u001b[1;33m     \u001b[0mfi_df\u001b[0m \u001b[1;33m=\u001b[0m \u001b[0mpd\u001b[0m\u001b[1;33m.\u001b[0m\u001b[0mDataFrame\u001b[0m\u001b[1;33m(\u001b[0m\u001b[0mdata\u001b[0m\u001b[1;33m)\u001b[0m\u001b[1;33m\u001b[0m\u001b[1;33m\u001b[0m\u001b[0m\n\u001b[0m\u001b[0;32m     10\u001b[0m \u001b[1;33m\u001b[0m\u001b[0m\n\u001b[0;32m     11\u001b[0m     \u001b[1;31m#Sort the DataFrame in order decreasing feature importance\u001b[0m\u001b[1;33m\u001b[0m\u001b[1;33m\u001b[0m\u001b[0m\n",
      "\u001b[1;32m~\\anaconda3\\lib\\site-packages\\pandas\\core\\frame.py\u001b[0m in \u001b[0;36m__init__\u001b[1;34m(self, data, index, columns, dtype, copy)\u001b[0m\n\u001b[0;32m    612\u001b[0m         \u001b[1;32melif\u001b[0m \u001b[0misinstance\u001b[0m\u001b[1;33m(\u001b[0m\u001b[0mdata\u001b[0m\u001b[1;33m,\u001b[0m \u001b[0mdict\u001b[0m\u001b[1;33m)\u001b[0m\u001b[1;33m:\u001b[0m\u001b[1;33m\u001b[0m\u001b[1;33m\u001b[0m\u001b[0m\n\u001b[0;32m    613\u001b[0m             \u001b[1;31m# GH#38939 de facto copy defaults to False only in non-dict cases\u001b[0m\u001b[1;33m\u001b[0m\u001b[1;33m\u001b[0m\u001b[0m\n\u001b[1;32m--> 614\u001b[1;33m             \u001b[0mmgr\u001b[0m \u001b[1;33m=\u001b[0m \u001b[0mdict_to_mgr\u001b[0m\u001b[1;33m(\u001b[0m\u001b[0mdata\u001b[0m\u001b[1;33m,\u001b[0m \u001b[0mindex\u001b[0m\u001b[1;33m,\u001b[0m \u001b[0mcolumns\u001b[0m\u001b[1;33m,\u001b[0m \u001b[0mdtype\u001b[0m\u001b[1;33m=\u001b[0m\u001b[0mdtype\u001b[0m\u001b[1;33m,\u001b[0m \u001b[0mcopy\u001b[0m\u001b[1;33m=\u001b[0m\u001b[0mcopy\u001b[0m\u001b[1;33m,\u001b[0m \u001b[0mtyp\u001b[0m\u001b[1;33m=\u001b[0m\u001b[0mmanager\u001b[0m\u001b[1;33m)\u001b[0m\u001b[1;33m\u001b[0m\u001b[1;33m\u001b[0m\u001b[0m\n\u001b[0m\u001b[0;32m    615\u001b[0m         \u001b[1;32melif\u001b[0m \u001b[0misinstance\u001b[0m\u001b[1;33m(\u001b[0m\u001b[0mdata\u001b[0m\u001b[1;33m,\u001b[0m \u001b[0mma\u001b[0m\u001b[1;33m.\u001b[0m\u001b[0mMaskedArray\u001b[0m\u001b[1;33m)\u001b[0m\u001b[1;33m:\u001b[0m\u001b[1;33m\u001b[0m\u001b[1;33m\u001b[0m\u001b[0m\n\u001b[0;32m    616\u001b[0m             \u001b[1;32mimport\u001b[0m \u001b[0mnumpy\u001b[0m\u001b[1;33m.\u001b[0m\u001b[0mma\u001b[0m\u001b[1;33m.\u001b[0m\u001b[0mmrecords\u001b[0m \u001b[1;32mas\u001b[0m \u001b[0mmrecords\u001b[0m\u001b[1;33m\u001b[0m\u001b[1;33m\u001b[0m\u001b[0m\n",
      "\u001b[1;32m~\\anaconda3\\lib\\site-packages\\pandas\\core\\internals\\construction.py\u001b[0m in \u001b[0;36mdict_to_mgr\u001b[1;34m(data, index, columns, dtype, typ, copy)\u001b[0m\n\u001b[0;32m    462\u001b[0m         \u001b[1;31m# TODO: can we get rid of the dt64tz special case above?\u001b[0m\u001b[1;33m\u001b[0m\u001b[1;33m\u001b[0m\u001b[0m\n\u001b[0;32m    463\u001b[0m \u001b[1;33m\u001b[0m\u001b[0m\n\u001b[1;32m--> 464\u001b[1;33m     return arrays_to_mgr(\n\u001b[0m\u001b[0;32m    465\u001b[0m         \u001b[0marrays\u001b[0m\u001b[1;33m,\u001b[0m \u001b[0mdata_names\u001b[0m\u001b[1;33m,\u001b[0m \u001b[0mindex\u001b[0m\u001b[1;33m,\u001b[0m \u001b[0mcolumns\u001b[0m\u001b[1;33m,\u001b[0m \u001b[0mdtype\u001b[0m\u001b[1;33m=\u001b[0m\u001b[0mdtype\u001b[0m\u001b[1;33m,\u001b[0m \u001b[0mtyp\u001b[0m\u001b[1;33m=\u001b[0m\u001b[0mtyp\u001b[0m\u001b[1;33m,\u001b[0m \u001b[0mconsolidate\u001b[0m\u001b[1;33m=\u001b[0m\u001b[0mcopy\u001b[0m\u001b[1;33m\u001b[0m\u001b[1;33m\u001b[0m\u001b[0m\n\u001b[0;32m    466\u001b[0m     )\n",
      "\u001b[1;32m~\\anaconda3\\lib\\site-packages\\pandas\\core\\internals\\construction.py\u001b[0m in \u001b[0;36marrays_to_mgr\u001b[1;34m(arrays, arr_names, index, columns, dtype, verify_integrity, typ, consolidate)\u001b[0m\n\u001b[0;32m    117\u001b[0m         \u001b[1;31m# figure out the index, if necessary\u001b[0m\u001b[1;33m\u001b[0m\u001b[1;33m\u001b[0m\u001b[0m\n\u001b[0;32m    118\u001b[0m         \u001b[1;32mif\u001b[0m \u001b[0mindex\u001b[0m \u001b[1;32mis\u001b[0m \u001b[1;32mNone\u001b[0m\u001b[1;33m:\u001b[0m\u001b[1;33m\u001b[0m\u001b[1;33m\u001b[0m\u001b[0m\n\u001b[1;32m--> 119\u001b[1;33m             \u001b[0mindex\u001b[0m \u001b[1;33m=\u001b[0m \u001b[0m_extract_index\u001b[0m\u001b[1;33m(\u001b[0m\u001b[0marrays\u001b[0m\u001b[1;33m)\u001b[0m\u001b[1;33m\u001b[0m\u001b[1;33m\u001b[0m\u001b[0m\n\u001b[0m\u001b[0;32m    120\u001b[0m         \u001b[1;32melse\u001b[0m\u001b[1;33m:\u001b[0m\u001b[1;33m\u001b[0m\u001b[1;33m\u001b[0m\u001b[0m\n\u001b[0;32m    121\u001b[0m             \u001b[0mindex\u001b[0m \u001b[1;33m=\u001b[0m \u001b[0mensure_index\u001b[0m\u001b[1;33m(\u001b[0m\u001b[0mindex\u001b[0m\u001b[1;33m)\u001b[0m\u001b[1;33m\u001b[0m\u001b[1;33m\u001b[0m\u001b[0m\n",
      "\u001b[1;32m~\\anaconda3\\lib\\site-packages\\pandas\\core\\internals\\construction.py\u001b[0m in \u001b[0;36m_extract_index\u001b[1;34m(data)\u001b[0m\n\u001b[0;32m    633\u001b[0m             \u001b[0mlengths\u001b[0m \u001b[1;33m=\u001b[0m \u001b[0mlist\u001b[0m\u001b[1;33m(\u001b[0m\u001b[0mset\u001b[0m\u001b[1;33m(\u001b[0m\u001b[0mraw_lengths\u001b[0m\u001b[1;33m)\u001b[0m\u001b[1;33m)\u001b[0m\u001b[1;33m\u001b[0m\u001b[1;33m\u001b[0m\u001b[0m\n\u001b[0;32m    634\u001b[0m             \u001b[1;32mif\u001b[0m \u001b[0mlen\u001b[0m\u001b[1;33m(\u001b[0m\u001b[0mlengths\u001b[0m\u001b[1;33m)\u001b[0m \u001b[1;33m>\u001b[0m \u001b[1;36m1\u001b[0m\u001b[1;33m:\u001b[0m\u001b[1;33m\u001b[0m\u001b[1;33m\u001b[0m\u001b[0m\n\u001b[1;32m--> 635\u001b[1;33m                 \u001b[1;32mraise\u001b[0m \u001b[0mValueError\u001b[0m\u001b[1;33m(\u001b[0m\u001b[1;34m\"All arrays must be of the same length\"\u001b[0m\u001b[1;33m)\u001b[0m\u001b[1;33m\u001b[0m\u001b[1;33m\u001b[0m\u001b[0m\n\u001b[0m\u001b[0;32m    636\u001b[0m \u001b[1;33m\u001b[0m\u001b[0m\n\u001b[0;32m    637\u001b[0m             \u001b[1;32mif\u001b[0m \u001b[0mhave_dicts\u001b[0m\u001b[1;33m:\u001b[0m\u001b[1;33m\u001b[0m\u001b[1;33m\u001b[0m\u001b[0m\n",
      "\u001b[1;31mValueError\u001b[0m: All arrays must be of the same length"
     ]
    }
   ],
   "source": [
    "# Get the coefficients of each feature\n",
    "coefs = model.named_steps[\"classifier\"].coef_.flatten()\n",
    "\n",
    "fig, ax = plt.subplots(1, 1, figsize=(12, 7))\n",
    "sns.barplot(x=\"feature\", y=\"value\", data=df.head(20), palette=df.head(20)[\"colors\"])\n",
    "ax.set_xticklabels(ax.get_xticklabels(), rotation=90, fontsize=20)\n",
    "ax.set_title(\"Top 20 Features\", fontsize=25)\n",
    "ax.set_ylabel(\"Coef\", fontsize=22)\n",
    "ax.set_xlabel(\"Feature Name\", fontsize=22)"
   ]
  },
  {
   "cell_type": "code",
   "execution_count": null,
   "id": "0829f0ad",
   "metadata": {},
   "outputs": [],
   "source": []
  },
  {
   "cell_type": "markdown",
   "id": "5ca51cdc",
   "metadata": {},
   "source": [
    "## Cusomer segmentation"
   ]
  },
  {
   "cell_type": "code",
   "execution_count": null,
   "id": "d7648df6",
   "metadata": {},
   "outputs": [],
   "source": [
    "# 1. Use Elbow method to find the number of distinct customer groups\n",
    "# 2. For every cluster separately check the % of leavers\n",
    "data"
   ]
  },
  {
   "cell_type": "code",
   "execution_count": null,
   "id": "abe1793e",
   "metadata": {},
   "outputs": [],
   "source": [
    "%%time\n",
    "distorsions = []\n",
    "\n",
    "data = X[num_features].copy()\n",
    "\n",
    "for k in range(2, 20):\n",
    "    kmeans = KMeans(n_clusters=k)\n",
    "    kmeans.fit(data)\n",
    "    distorsions.append(kmeans.inertia_)"
   ]
  },
  {
   "cell_type": "code",
   "execution_count": null,
   "id": "d6f22e77",
   "metadata": {},
   "outputs": [],
   "source": [
    "fig = plt.figure(figsize=(15, 5))\n",
    "plt.plot(range(2, 20), distorsions)\n",
    "plt.xticks(np.arange(0, 20, 1))\n",
    "plt.grid(True)\n",
    "plt.title('Elbow curve')\n",
    "plt.show()"
   ]
  },
  {
   "cell_type": "markdown",
   "id": "c1786cf9",
   "metadata": {},
   "source": [
    "Using the Elbow Method I identify the optimal number of clusters to be 5 and retrain KMeans on it.\n",
    "\n",
    "What does this information give me? What if the elbow method identifies 100 clusters? How will it help me identify churners? I cannot investigate 100 clusters manually.\n",
    "\n",
    "PCA is not an option, because it loses variance."
   ]
  },
  {
   "cell_type": "code",
   "execution_count": null,
   "id": "6eb46589",
   "metadata": {},
   "outputs": [],
   "source": [
    "kmeans = KMeans(n_clusters=5)\n",
    "kmeans.fit(data)"
   ]
  },
  {
   "cell_type": "code",
   "execution_count": null,
   "id": "b2584024",
   "metadata": {},
   "outputs": [],
   "source": [
    "data['cluster_no'] = kmeans.labels_"
   ]
  },
  {
   "cell_type": "code",
   "execution_count": null,
   "id": "99389ecf",
   "metadata": {},
   "outputs": [],
   "source": [
    "plt.scatter()"
   ]
  },
  {
   "cell_type": "code",
   "execution_count": null,
   "id": "4b6b008e",
   "metadata": {},
   "outputs": [],
   "source": []
  }
 ],
 "metadata": {
  "kernelspec": {
   "display_name": "Python 3 (ipykernel)",
   "language": "python",
   "name": "python3"
  },
  "language_info": {
   "codemirror_mode": {
    "name": "ipython",
    "version": 3
   },
   "file_extension": ".py",
   "mimetype": "text/x-python",
   "name": "python",
   "nbconvert_exporter": "python",
   "pygments_lexer": "ipython3",
   "version": "3.9.7"
  }
 },
 "nbformat": 4,
 "nbformat_minor": 5
}
