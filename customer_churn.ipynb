{
 "cells": [
  {
   "cell_type": "markdown",
   "id": "bfcacd21",
   "metadata": {},
   "source": [
    "# Churn Prediction - Telecom Case\n",
    "Author: Daniel Grzebyk\n",
    "\n",
    "Date: 1.07.2022"
   ]
  },
  {
   "cell_type": "code",
   "execution_count": 2,
   "id": "ccf6beeb",
   "metadata": {},
   "outputs": [],
   "source": [
    "import pandas as pd\n",
    "import numpy as np\n",
    "import matplotlib.pyplot as plt\n",
    "import seaborn as sns\n",
    "\n",
    "from sklearn.cluster import KMeans\n",
    "from sklearn.linear_model import LogisticRegression\n",
    "from sklearn.preprocessing import OneHotEncoder, MinMaxScaler, StandardScaler\n",
    "from sklearn.model_selection import train_test_split\n",
    "from sklearn.metrics import accuracy_score, precision_score, recall_score\n",
    "from sklearn.compose import ColumnTransformer, make_column_transformer\n",
    "from sklearn.pipeline import Pipeline\n",
    "\n",
    "from sklearn.metrics import mean_squared_error"
   ]
  },
  {
   "cell_type": "markdown",
   "id": "79a87468",
   "metadata": {},
   "source": [
    "## Loading the data"
   ]
  },
  {
   "cell_type": "code",
   "execution_count": 3,
   "id": "f6315453",
   "metadata": {},
   "outputs": [],
   "source": [
    "df = pd.read_csv(\"data/telecom/data.csv\")\n",
    "var_df = pd.read_csv(\"data/telecom/variables-definition.csv\")\n",
    "\n",
    "X = df.drop(columns=['churn']).copy()\n",
    "y = df['churn'].copy()"
   ]
  },
  {
   "cell_type": "markdown",
   "id": "4e873c18",
   "metadata": {},
   "source": [
    "## Exploratory Data Analysis (EDA)\n",
    "Research Question: Why customers leave the company?\n",
    "\n",
    "Hypothesis to be verified:\n",
    "- the services are too expensive - if yes, then lower income households would leave more frequently, as they are more price-sensitive\n",
    "- the services are not required - if yes, few calls, low data usage, etc.\n",
    "- low quality of service - many calls failed due to network issues\n",
    "- geography: maybe in some geographical areas (lower network coverage or income)\n",
    "- are household with children more loyal customers?\n",
    "\n",
    "Relevant Observations:\n",
    "- Data Structure: every row is a customer / household\n",
    "- Problem: binary classification problem: predict whether a customer will stay with the telecom company or leave\n",
    "- Label: churn - the number of customers leaving\n",
    "\n",
    "Interesting features\n",
    "- Failed calls might indicate issues with the quality of service. What % of all calls fails, and how does it influence customer loyalty?\n",
    "- Time spent calling customer service, happy customers rarely call.\n",
    "\n",
    "Features not relevant for predicting churn:\n",
    "- Number and minutes of unanswered and received calls\n",
    "- Whether calls are wireless or not\n",
    "- Network traffic, whether call is peak or off-peak\n",
    "- The number of call participants\n",
    "- Whether calls are incoming or outbound\n",
    "- Distinction between voice and data calls"
   ]
  },
  {
   "cell_type": "code",
   "execution_count": 26,
   "id": "f9edc2f0",
   "metadata": {},
   "outputs": [],
   "source": [
    "features_eliminated = ['Customer_ID', 'peak_vce_Mean', 'peak_dat_Mean', 'mou_peav_Mean', 'mou_pead_Mean', 'opk_vce_Mean',\n",
    "                       'opk_dat_Mean', 'mou_opkv_Mean', 'mou_opkd_Mean', 'owylis_vce_Mean', 'mouowylisv_Mean',\n",
    "                       'iwylis_vce_Mean', 'mouiwylisv_Mean', 'inonemin_Mean', 'threeway_Mean', 'mou_cvce_Mean', \n",
    "                       'mou_cdat_Mean', 'mou_rvce_Mean', 'drop_blk_Mean', 'attempt_Mean', 'complete_Mean', 'callfwdv_Mean',\n",
    "                       'callwait_Mean', 'unan_vce_Mean', 'unan_dat_Mean', 'recv_vce_Mean', 'recv_sms_Mean',\n",
    "                       'cc_mou_Mean', 'plcd_vce_Mean', 'plcd_dat_Mean', 'comp_vce_Mean', 'comp_dat_Mean', 'roam_Mean',\n",
    "                       'ethnic']\n",
    "\n",
    "df.drop(columns=features_eliminated, inplace=True)\n",
    "\n",
    "# Knowing number of calls and their mean time, average time per call can be calculated"
   ]
  },
  {
   "cell_type": "code",
   "execution_count": 28,
   "id": "958b2b3b",
   "metadata": {},
   "outputs": [
    {
     "data": {
      "text/plain": [
       "(100000, 66)"
      ]
     },
     "execution_count": 28,
     "metadata": {},
     "output_type": "execute_result"
    }
   ],
   "source": [
    "df.shape"
   ]
  },
  {
   "cell_type": "markdown",
   "id": "9c653527",
   "metadata": {},
   "source": [
    "Why the months are not normally distributed? The distribution is right-skewed. The longest staying customer is with the company for 5 years. Peak around 12th month might indicate past sale or a marketing campaign."
   ]
  },
  {
   "cell_type": "code",
   "execution_count": 29,
   "id": "4dc2ee81",
   "metadata": {},
   "outputs": [
    {
     "data": {
      "text/plain": [
       "<AxesSubplot:xlabel='months', ylabel='Count'>"
      ]
     },
     "execution_count": 29,
     "metadata": {},
     "output_type": "execute_result"
    },
    {
     "data": {
      "image/png": "[encoded data removed]",
      "text/plain": [
       "<Figure size 432x288 with 1 Axes>"
      ]
     },
     "metadata": {
      "needs_background": "light"
     },
     "output_type": "display_data"
    }
   ],
   "source": [
    "sns.histplot(df['months'])"
   ]
  },
  {
   "cell_type": "markdown",
   "id": "7257b288",
   "metadata": {},
   "source": [
    "As customer requirements are covered by multiple products, in order to check which customers significantly changed their consumption it is the easiest to look at the revenue they bring. It can be seen that around 5% of all customers reduced their spending by at least 50% with respect to the 3 month mean. These customers might be the potential leavers.\n",
    "\n",
    "After identifying who the potential leavers might be, it will be checked what % of revenue they bring to the company. E.g. suddent outflow of high-revenue clients could be a source of a major concern."
   ]
  },
  {
   "cell_type": "code",
   "execution_count": 48,
   "id": "3642f2a5",
   "metadata": {},
   "outputs": [
    {
     "data": {
      "text/plain": [
       "0.05"
      ]
     },
     "execution_count": 48,
     "metadata": {},
     "output_type": "execute_result"
    }
   ],
   "source": [
    "rapid_reduction_rate = round(len(df['change_rev'].loc[df['change_rev'] < -50]) / len(df), 2)\n",
    "rapid_reduction_rate"
   ]
  },
  {
   "cell_type": "code",
   "execution_count": 69,
   "id": "dd155fd0",
   "metadata": {},
   "outputs": [
    {
     "data": {
      "image/png": "[encoded data removed]",
      "text/plain": [
       "<Figure size 432x288 with 1 Axes>"
      ]
     },
     "metadata": {
      "needs_background": "light"
     },
     "output_type": "display_data"
    }
   ],
   "source": [
    "sns.histplot(df['change_rev'], binrange=(-200, 200), binwidth=25)\n",
    "plt.xlabel(\"Change in revenue vs. 3 month average [%]\")\n",
    "plt.show()"
   ]
  },
  {
   "cell_type": "code",
   "execution_count": 67,
   "id": "29035f91",
   "metadata": {
    "scrolled": true
   },
   "outputs": [
    {
     "data": {
      "image/png": "[encoded data removed]",
      "text/plain": [
       "<Figure size 432x288 with 1 Axes>"
      ]
     },
     "metadata": {
      "needs_background": "light"
     },
     "output_type": "display_data"
    }
   ],
   "source": [
    "sns.histplot(df['rev_Mean'], binrange=(0,300), binwidth=25)\n",
    "plt.xlabel(\"Mean monthly revenue\")\n",
    "plt.show()"
   ]
  },
  {
   "cell_type": "markdown",
   "id": "a7546911",
   "metadata": {},
   "source": [
    "Customers who use more than they declared in their plan often bear additional costs. Are these costs the reason why they change the service provider? Probably not, as they are usually less than 10% of the overall costs."
   ]
  },
  {
   "cell_type": "code",
   "execution_count": 92,
   "id": "1edcd48c",
   "metadata": {},
   "outputs": [
    {
     "data": {
      "image/png": "[encoded data removed]",
      "text/plain": [
       "<Figure size 432x288 with 1 Axes>"
      ]
     },
     "metadata": {
      "needs_background": "light"
     },
     "output_type": "display_data"
    }
   ],
   "source": [
    "df['overrev_ratio'] = df['ovrrev_Mean'] / df['rev_Mean']\n",
    "sns.histplot(df['overrev_ratio'], binrange=(0, 1), binwidth=0.1)\n",
    "plt.xlabel(\"Fraction of revenue due to overage [-]\")\n",
    "plt.show()"
   ]
  },
  {
   "cell_type": "markdown",
   "id": "3875a499",
   "metadata": {},
   "source": [
    "Is the drop in consumption correlated with the costs of the service for the customer?"
   ]
  },
  {
   "cell_type": "code",
   "execution_count": 74,
   "id": "1e9be2f1",
   "metadata": {},
   "outputs": [
    {
     "data": {
      "text/plain": [
       "(0.0, 1000.0)"
      ]
     },
     "execution_count": 74,
     "metadata": {},
     "output_type": "execute_result"
    },
    {
     "data": {
      "image/png": "[encoded data removed]",
      "text/plain": [
       "<Figure size 432x288 with 1 Axes>"
      ]
     },
     "metadata": {
      "needs_background": "light"
     },
     "output_type": "display_data"
    }
   ],
   "source": [
    "plt.scatter(data=df, x='rev_Mean', y='change_rev')\n",
    "plt.xlabel(\"Mean monthly revenue\")\n",
    "plt.ylabel(\"Change in revenue vs. 3 month average [%]\")\n",
    "plt.xlim([0, 500])\n",
    "plt.ylim([0, 1000])"
   ]
  },
  {
   "cell_type": "markdown",
   "id": "8cb11e9f",
   "metadata": {},
   "source": [
    "Clients' income is a categorical variable, but no information about the brackets for each class were provided. It is assumed that income will be the most influencial of all status-related features including also: size of dwelling, credit card information, number of cars, etc. "
   ]
  },
  {
   "cell_type": "code",
   "execution_count": 59,
   "id": "8ce37c6a",
   "metadata": {},
   "outputs": [
    {
     "data": {
      "text/plain": [
       "6.0    18802\n",
       "7.0    11597\n",
       "9.0    10833\n",
       "5.0     8277\n",
       "4.0     7790\n",
       "3.0     5830\n",
       "8.0     5142\n",
       "1.0     4033\n",
       "2.0     2260\n",
       "Name: income, dtype: int64"
      ]
     },
     "execution_count": 59,
     "metadata": {},
     "output_type": "execute_result"
    }
   ],
   "source": [
    "df['income'].value_counts()"
   ]
  },
  {
   "cell_type": "markdown",
   "id": "f359b1e0",
   "metadata": {},
   "source": [
    "How many households have children, and are households with children more loyal customers? The initial hypothesis is the parents of young children are too busy to make changes in telecom providers, but this tendency is expected to disappear as children are older."
   ]
  },
  {
   "cell_type": "code",
   "execution_count": null,
   "id": "f850cdf3",
   "metadata": {},
   "outputs": [],
   "source": []
  },
  {
   "cell_type": "code",
   "execution_count": 25,
   "id": "115139b7",
   "metadata": {},
   "outputs": [
    {
     "data": {
      "text/plain": [
       "<AxesSubplot:xlabel='totmrc_Mean', ylabel='Count'>"
      ]
     },
     "execution_count": 25,
     "metadata": {},
     "output_type": "execute_result"
    },
    {
     "data": {
      "image/png": "[encoded data removed]",
      "text/plain": [
       "<Figure size 432x288 with 1 Axes>"
      ]
     },
     "metadata": {
      "needs_background": "light"
     },
     "output_type": "display_data"
    }
   ],
   "source": [
    "sns.histplot(df['totmrc_Mean'], binrange=(0, 200), binwidth=25)"
   ]
  },
  {
   "cell_type": "markdown",
   "id": "1a65c563",
   "metadata": {},
   "source": [
    "Clearly, there are very few customers who pay for the service and not use it. Therefore, rapid drop of demand might be correlated with churn."
   ]
  },
  {
   "cell_type": "code",
   "execution_count": 64,
   "id": "834f9db8",
   "metadata": {},
   "outputs": [
    {
     "data": {
      "text/plain": [
       "<AxesSubplot:xlabel='actsubs_ratio', ylabel='Count'>"
      ]
     },
     "execution_count": 64,
     "metadata": {},
     "output_type": "execute_result"
    },
    {
     "data": {
      "image/png": "[encoded data removed]",
      "text/plain": [
       "<Figure size 432x288 with 1 Axes>"
      ]
     },
     "metadata": {
      "needs_background": "light"
     },
     "output_type": "display_data"
    }
   ],
   "source": [
    "df['actsubs_ratio'] = df['actvsubs'] / df['uniqsubs']\n",
    "sns.histplot(df['actsubs_ratio'])"
   ]
  },
  {
   "cell_type": "markdown",
   "id": "8dcd01b1",
   "metadata": {},
   "source": [
    "## Data Preprocessing\n",
    "### Looking for duplicates"
   ]
  },
  {
   "cell_type": "code",
   "execution_count": 7,
   "id": "02f63d8f",
   "metadata": {},
   "outputs": [
    {
     "data": {
      "text/plain": [
       "0"
      ]
     },
     "execution_count": 7,
     "metadata": {},
     "output_type": "execute_result"
    }
   ],
   "source": [
    "X.duplicated().sum()"
   ]
  },
  {
   "cell_type": "markdown",
   "id": "8580cdcf",
   "metadata": {},
   "source": [
    "### Dropping useless columns"
   ]
  },
  {
   "cell_type": "code",
   "execution_count": 8,
   "id": "2876266d",
   "metadata": {},
   "outputs": [],
   "source": [
    "X.drop(columns=['Customer_ID'], inplace=True)"
   ]
  },
  {
   "cell_type": "markdown",
   "id": "db3f7eff",
   "metadata": {},
   "source": [
    "### Dropping NaNs"
   ]
  },
  {
   "cell_type": "code",
   "execution_count": 13,
   "id": "9943c59a",
   "metadata": {},
   "outputs": [
    {
     "data": {
      "text/plain": [
       "ownrent     33706\n",
       "lor         30190\n",
       "dwlltype    31909\n",
       "adults      23019\n",
       "infobase    22079\n",
       "income      25436\n",
       "numbcars    49366\n",
       "HHstatin    37923\n",
       "dwllsize    38308\n",
       "dtype: int64"
      ]
     },
     "execution_count": 13,
     "metadata": {},
     "output_type": "execute_result"
    }
   ],
   "source": [
    "# Count NaNs\n",
    "nans_per_feature = X.isna().sum()\n",
    "nans_per_feature[nans_per_feature > 20000]  # Is one of the dropped features crucial?"
   ]
  },
  {
   "cell_type": "code",
   "execution_count": 18,
   "id": "f2da825c",
   "metadata": {},
   "outputs": [
    {
     "name": "stdout",
     "output_type": "stream",
     "text": [
      "Dropping: ['ownrent', 'lor', 'dwlltype', 'adults', 'infobase', 'income', 'numbcars', 'HHstatin', 'dwllsize']\n",
      "Before dropping rows with NaNs: (100000, 89)\n",
      "After dropping rows with NaNs: (78334, 89)\n"
     ]
    }
   ],
   "source": [
    "cols_to_drop = list(nans_per_feature[nans_per_feature > 20000].index)  # drop features which have more than 20% NaNs\n",
    "X.drop(columns=cols_to_drop, inplace=True)\n",
    "print(\"Dropping:\", cols_to_drop)\n",
    "\n",
    "print(\"Before dropping rows with NaNs:\", X.shape)\n",
    "X.dropna(inplace=True)\n",
    "y = y.loc[X.index]\n",
    "print(\"After dropping rows with NaNs:\", X.shape)"
   ]
  },
  {
   "cell_type": "markdown",
   "id": "c700168d",
   "metadata": {},
   "source": [
    "### Identifying numerical, categorical, text features"
   ]
  },
  {
   "cell_type": "code",
   "execution_count": 4,
   "id": "9d6eb64f",
   "metadata": {
    "scrolled": true
   },
   "outputs": [
    {
     "data": {
      "text/plain": [
       "Index(['rev_Mean', 'mou_Mean', 'totmrc_Mean', 'da_Mean', 'ovrmou_Mean',\n",
       "       'ovrrev_Mean', 'vceovr_Mean', 'datovr_Mean', 'roam_Mean', 'change_mou',\n",
       "       'change_rev', 'drop_vce_Mean', 'drop_dat_Mean', 'blck_vce_Mean',\n",
       "       'blck_dat_Mean', 'unan_vce_Mean', 'unan_dat_Mean', 'plcd_vce_Mean',\n",
       "       'plcd_dat_Mean', 'recv_vce_Mean', 'recv_sms_Mean', 'comp_vce_Mean',\n",
       "       'comp_dat_Mean', 'custcare_Mean', 'ccrndmou_Mean', 'cc_mou_Mean',\n",
       "       'inonemin_Mean', 'threeway_Mean', 'mou_cvce_Mean', 'mou_cdat_Mean',\n",
       "       'mou_rvce_Mean', 'owylis_vce_Mean', 'mouowylisv_Mean',\n",
       "       'iwylis_vce_Mean', 'mouiwylisv_Mean', 'peak_vce_Mean', 'peak_dat_Mean',\n",
       "       'mou_peav_Mean', 'mou_pead_Mean', 'opk_vce_Mean', 'opk_dat_Mean',\n",
       "       'mou_opkv_Mean', 'mou_opkd_Mean', 'drop_blk_Mean', 'attempt_Mean',\n",
       "       'complete_Mean', 'callfwdv_Mean', 'callwait_Mean', 'months', 'uniqsubs',\n",
       "       'actvsubs', 'totcalls', 'totmou', 'totrev', 'adjrev', 'adjmou',\n",
       "       'adjqty', 'avgrev', 'avgmou', 'avgqty', 'avg3mou', 'avg3qty', 'avg3rev',\n",
       "       'avg6mou', 'avg6qty', 'avg6rev', 'hnd_price', 'phones', 'models',\n",
       "       'truck', 'rv', 'lor', 'adults', 'income', 'numbcars', 'forgntvl',\n",
       "       'eqpdays', 'Customer_ID'],\n",
       "      dtype='object')"
      ]
     },
     "execution_count": 4,
     "metadata": {},
     "output_type": "execute_result"
    }
   ],
   "source": [
    "X.select_dtypes(include='number').columns"
   ]
  },
  {
   "cell_type": "code",
   "execution_count": 5,
   "id": "f9c9e0df",
   "metadata": {},
   "outputs": [
    {
     "data": {
      "text/plain": [
       "Index(['new_cell', 'crclscod', 'asl_flag', 'prizm_social_one', 'area',\n",
       "       'dualband', 'refurb_new', 'hnd_webcap', 'ownrent', 'dwlltype',\n",
       "       'marital', 'infobase', 'HHstatin', 'dwllsize', 'ethnic', 'kid0_2',\n",
       "       'kid3_5', 'kid6_10', 'kid11_15', 'kid16_17', 'creditcd'],\n",
       "      dtype='object')"
      ]
     },
     "execution_count": 5,
     "metadata": {},
     "output_type": "execute_result"
    }
   ],
   "source": [
    "X.select_dtypes(include='object').columns"
   ]
  },
  {
   "cell_type": "code",
   "execution_count": 6,
   "id": "79a4e6f5",
   "metadata": {
    "scrolled": true
   },
   "outputs": [
    {
     "data": {
      "text/plain": [
       "Index([], dtype='object')"
      ]
     },
     "execution_count": 6,
     "metadata": {},
     "output_type": "execute_result"
    }
   ],
   "source": [
    "X.select_dtypes(include='category').columns"
   ]
  },
  {
   "cell_type": "code",
   "execution_count": 19,
   "id": "73358384",
   "metadata": {},
   "outputs": [],
   "source": [
    "num_features = X.select_dtypes(include='number').columns\n",
    "cat_features = X.select_dtypes(include='object').columns"
   ]
  },
  {
   "cell_type": "code",
   "execution_count": 20,
   "id": "d24ab37c",
   "metadata": {},
   "outputs": [
    {
     "data": {
      "text/plain": [
       "89"
      ]
     },
     "execution_count": 20,
     "metadata": {},
     "output_type": "execute_result"
    }
   ],
   "source": [
    "len(num_features) + len(cat_features)"
   ]
  },
  {
   "cell_type": "code",
   "execution_count": 21,
   "id": "375a6b87",
   "metadata": {},
   "outputs": [
    {
     "data": {
      "text/plain": [
       "9"
      ]
     },
     "execution_count": 21,
     "metadata": {},
     "output_type": "execute_result"
    }
   ],
   "source": [
    "len(cols_to_drop)"
   ]
  },
  {
   "cell_type": "markdown",
   "id": "23abfb08",
   "metadata": {},
   "source": [
    "### Looking for correlations"
   ]
  },
  {
   "cell_type": "code",
   "execution_count": 22,
   "id": "883b17e7",
   "metadata": {},
   "outputs": [
    {
     "data": {
      "text/plain": [
       "Index(['rev_Mean', 'mou_Mean', 'totmrc_Mean', 'da_Mean', 'ovrmou_Mean',\n",
       "       'ovrrev_Mean', 'vceovr_Mean', 'datovr_Mean', 'roam_Mean', 'change_mou',\n",
       "       'change_rev', 'drop_vce_Mean', 'drop_dat_Mean', 'blck_vce_Mean',\n",
       "       'blck_dat_Mean', 'unan_vce_Mean', 'unan_dat_Mean', 'plcd_vce_Mean',\n",
       "       'plcd_dat_Mean', 'recv_vce_Mean', 'recv_sms_Mean', 'comp_vce_Mean',\n",
       "       'comp_dat_Mean', 'custcare_Mean', 'ccrndmou_Mean', 'cc_mou_Mean',\n",
       "       'inonemin_Mean', 'threeway_Mean', 'mou_cvce_Mean', 'mou_cdat_Mean',\n",
       "       'mou_rvce_Mean', 'owylis_vce_Mean', 'mouowylisv_Mean',\n",
       "       'iwylis_vce_Mean', 'mouiwylisv_Mean', 'peak_vce_Mean', 'peak_dat_Mean',\n",
       "       'mou_peav_Mean', 'mou_pead_Mean', 'opk_vce_Mean', 'opk_dat_Mean',\n",
       "       'mou_opkv_Mean', 'mou_opkd_Mean', 'drop_blk_Mean', 'attempt_Mean',\n",
       "       'complete_Mean', 'callfwdv_Mean', 'callwait_Mean', 'months', 'uniqsubs',\n",
       "       'actvsubs', 'totcalls', 'totmou', 'totrev', 'adjrev', 'adjmou',\n",
       "       'adjqty', 'avgrev', 'avgmou', 'avgqty', 'avg3mou', 'avg3qty', 'avg3rev',\n",
       "       'avg6mou', 'avg6qty', 'avg6rev', 'hnd_price', 'phones', 'models',\n",
       "       'truck', 'rv', 'forgntvl', 'eqpdays'],\n",
       "      dtype='object')"
      ]
     },
     "execution_count": 22,
     "metadata": {},
     "output_type": "execute_result"
    }
   ],
   "source": [
    "num_features"
   ]
  },
  {
   "cell_type": "code",
   "execution_count": 23,
   "id": "e297a6b3",
   "metadata": {},
   "outputs": [
    {
     "data": {
      "text/plain": [
       "<AxesSubplot:>"
      ]
     },
     "execution_count": 23,
     "metadata": {},
     "output_type": "execute_result"
    },
    {
     "data": {
      "image/png": "[encoded data removed]",
      "text/plain": [
       "<Figure size 432x288 with 2 Axes>"
      ]
     },
     "metadata": {
      "needs_background": "light"
     },
     "output_type": "display_data"
    }
   ],
   "source": [
    "corr = df[num_features].corr()\n",
    "sns.heatmap(corr)"
   ]
  },
  {
   "cell_type": "markdown",
   "id": "baa7b7e6",
   "metadata": {},
   "source": [
    "### Looking for class imbalance"
   ]
  },
  {
   "cell_type": "code",
   "execution_count": 25,
   "id": "2813c1c3",
   "metadata": {},
   "outputs": [
    {
     "data": {
      "text/plain": [
       "0    40360\n",
       "1    37974\n",
       "Name: churn, dtype: int64"
      ]
     },
     "execution_count": 25,
     "metadata": {},
     "output_type": "execute_result"
    }
   ],
   "source": [
    "y.value_counts()"
   ]
  },
  {
   "cell_type": "markdown",
   "id": "1f59042f",
   "metadata": {},
   "source": [
    "## Predicting churn"
   ]
  },
  {
   "cell_type": "markdown",
   "id": "e7534feb",
   "metadata": {},
   "source": [
    "### Splitting the data"
   ]
  },
  {
   "cell_type": "code",
   "execution_count": 26,
   "id": "145c2f2b",
   "metadata": {},
   "outputs": [],
   "source": [
    "X_train, X_val, y_train, y_val = train_test_split(X, y, test_size=0.2, random_state=42)\n",
    "# For simplicity I am skipping the test (left-out) set, I would prefer to use 60%-20%-20% data split"
   ]
  },
  {
   "cell_type": "markdown",
   "id": "d38a9694",
   "metadata": {},
   "source": [
    "### Training the model"
   ]
  },
  {
   "cell_type": "code",
   "execution_count": 27,
   "id": "bcff291c",
   "metadata": {
    "scrolled": false
   },
   "outputs": [
    {
     "name": "stderr",
     "output_type": "stream",
     "text": [
      "C:\\Users\\danie\\anaconda3\\lib\\site-packages\\sklearn\\linear_model\\_logistic.py:763: ConvergenceWarning: lbfgs failed to converge (status=1):\n",
      "STOP: TOTAL NO. of ITERATIONS REACHED LIMIT.\n",
      "\n",
      "Increase the number of iterations (max_iter) or scale the data as shown in:\n",
      "    https://scikit-learn.org/stable/modules/preprocessing.html\n",
      "Please also refer to the documentation for alternative solver options:\n",
      "    https://scikit-learn.org/stable/modules/linear_model.html#logistic-regression\n",
      "  n_iter_i = _check_optimize_result(\n"
     ]
    },
    {
     "data": {
      "text/plain": [
       "Pipeline(steps=[('preprocessor',\n",
       "                 ColumnTransformer(n_jobs=-1,\n",
       "                                   transformers=[('standardscaler',\n",
       "                                                  StandardScaler(),\n",
       "                                                  Index(['rev_Mean', 'mou_Mean', 'totmrc_Mean', 'da_Mean', 'ovrmou_Mean',\n",
       "       'ovrrev_Mean', 'vceovr_Mean', 'datovr_Mean', 'roam_Mean', 'change_mou',\n",
       "       'change_rev', 'drop_vce_Mean', 'drop_dat_Mean', 'blck_vce_Mean',\n",
       "       'blck_dat_Mean', 'unan_vce_Mean', 'unan_dat_Mean...\n",
       "       'truck', 'rv', 'forgntvl', 'eqpdays'],\n",
       "      dtype='object')),\n",
       "                                                 ('onehotencoder',\n",
       "                                                  OneHotEncoder(handle_unknown='ignore'),\n",
       "                                                  Index(['new_cell', 'crclscod', 'asl_flag', 'prizm_social_one', 'area',\n",
       "       'dualband', 'refurb_new', 'hnd_webcap', 'marital', 'ethnic', 'kid0_2',\n",
       "       'kid3_5', 'kid6_10', 'kid11_15', 'kid16_17', 'creditcd'],\n",
       "      dtype='object'))],\n",
       "                                   verbose=True)),\n",
       "                ('regressor', LogisticRegression())])"
      ]
     },
     "execution_count": 27,
     "metadata": {},
     "output_type": "execute_result"
    }
   ],
   "source": [
    "# I did not identify text features\n",
    "ct = make_column_transformer((StandardScaler(), num_features),\n",
    "                             (OneHotEncoder(handle_unknown='ignore'), cat_features),\n",
    "                             n_jobs=-1,\n",
    "                             verbose=True)\n",
    "\n",
    "pipeline = Pipeline(\n",
    "    steps=[(\"preprocessor\", ct), (\"regressor\", LogisticRegression(max_iter=100))]\n",
    ")\n",
    "\n",
    "# Training the model\n",
    "pipeline.fit(X_train, y_train)"
   ]
  },
  {
   "cell_type": "code",
   "execution_count": 28,
   "id": "ba2081ec",
   "metadata": {},
   "outputs": [],
   "source": [
    "# Train Inference\n",
    "y_pred = pipeline.predict(X_train)\n",
    "y_val_pred = pipeline.predict(X_val)"
   ]
  },
  {
   "cell_type": "code",
   "execution_count": 29,
   "id": "342318c1",
   "metadata": {},
   "outputs": [
    {
     "name": "stdout",
     "output_type": "stream",
     "text": [
      "Train Accuracy: 0.59\n",
      "Train Precision: 0.59\n",
      "Train Recall: 0.55\n",
      "\n",
      "Validation Accuracy: 0.6\n",
      "Validation Precision: 0.59\n",
      "Validation Recall: 0.56\n"
     ]
    }
   ],
   "source": [
    "# Train metric\n",
    "train_acc = accuracy_score(y_train, y_pred)\n",
    "train_prec = precision_score(y_train, y_pred)\n",
    "train_recall = recall_score(y_train, y_pred)\n",
    "print(\"Train Accuracy:\", train_acc.round(2))\n",
    "print(\"Train Precision:\", train_prec.round(2))\n",
    "print(\"Train Recall:\", train_recall.round(2))\n",
    "\n",
    "# Val metric\n",
    "val_acc = accuracy_score(y_val, y_val_pred)\n",
    "val_prec = precision_score(y_val, y_val_pred)\n",
    "val_recall = recall_score(y_val, y_val_pred)\n",
    "print(\"\\nValidation Accuracy:\", val_acc.round(2))\n",
    "print(\"Validation Precision:\", val_prec.round(2))\n",
    "print(\"Validation Recall:\", val_recall.round(2))"
   ]
  },
  {
   "cell_type": "code",
   "execution_count": null,
   "id": "1c5ab871",
   "metadata": {},
   "outputs": [],
   "source": []
  },
  {
   "cell_type": "markdown",
   "id": "958fb34b",
   "metadata": {},
   "source": [
    "## Error Analysis / Postprocessing"
   ]
  },
  {
   "cell_type": "code",
   "execution_count": null,
   "id": "974114a2",
   "metadata": {},
   "outputs": [],
   "source": []
  },
  {
   "cell_type": "code",
   "execution_count": null,
   "id": "383ded45",
   "metadata": {},
   "outputs": [],
   "source": []
  },
  {
   "cell_type": "code",
   "execution_count": null,
   "id": "aee84239",
   "metadata": {},
   "outputs": [],
   "source": []
  },
  {
   "cell_type": "code",
   "execution_count": null,
   "id": "79018c82",
   "metadata": {},
   "outputs": [],
   "source": []
  },
  {
   "cell_type": "markdown",
   "id": "5ca51cdc",
   "metadata": {},
   "source": [
    "## Cusomer segmentation"
   ]
  },
  {
   "cell_type": "code",
   "execution_count": 54,
   "id": "d7648df6",
   "metadata": {},
   "outputs": [
    {
     "data": {
      "text/html": [
       "<div>\n",
       "<style scoped>\n",
       "    .dataframe tbody tr th:only-of-type {\n",
       "        vertical-align: middle;\n",
       "    }\n",
       "\n",
       "    .dataframe tbody tr th {\n",
       "        vertical-align: top;\n",
       "    }\n",
       "\n",
       "    .dataframe thead th {\n",
       "        text-align: right;\n",
       "    }\n",
       "</style>\n",
       "<table border=\"1\" class=\"dataframe\">\n",
       "  <thead>\n",
       "    <tr style=\"text-align: right;\">\n",
       "      <th></th>\n",
       "      <th>rev_Mean</th>\n",
       "      <th>mou_Mean</th>\n",
       "      <th>totmrc_Mean</th>\n",
       "      <th>da_Mean</th>\n",
       "      <th>ovrmou_Mean</th>\n",
       "      <th>ovrrev_Mean</th>\n",
       "      <th>vceovr_Mean</th>\n",
       "      <th>datovr_Mean</th>\n",
       "      <th>roam_Mean</th>\n",
       "      <th>change_mou</th>\n",
       "      <th>...</th>\n",
       "      <th>avg6mou</th>\n",
       "      <th>avg6qty</th>\n",
       "      <th>avg6rev</th>\n",
       "      <th>hnd_price</th>\n",
       "      <th>phones</th>\n",
       "      <th>models</th>\n",
       "      <th>truck</th>\n",
       "      <th>rv</th>\n",
       "      <th>forgntvl</th>\n",
       "      <th>eqpdays</th>\n",
       "    </tr>\n",
       "  </thead>\n",
       "  <tbody>\n",
       "    <tr>\n",
       "      <th>0</th>\n",
       "      <td>23.997500</td>\n",
       "      <td>219.250000</td>\n",
       "      <td>22.500</td>\n",
       "      <td>0.2475</td>\n",
       "      <td>0.000000</td>\n",
       "      <td>0.000000</td>\n",
       "      <td>0.000000</td>\n",
       "      <td>0.0</td>\n",
       "      <td>0.00</td>\n",
       "      <td>-157.250000</td>\n",
       "      <td>...</td>\n",
       "      <td>322.0</td>\n",
       "      <td>136.0</td>\n",
       "      <td>38.0</td>\n",
       "      <td>149.98999</td>\n",
       "      <td>2.0</td>\n",
       "      <td>2.0</td>\n",
       "      <td>0.0</td>\n",
       "      <td>0.0</td>\n",
       "      <td>0.0</td>\n",
       "      <td>361.0</td>\n",
       "    </tr>\n",
       "    <tr>\n",
       "      <th>4</th>\n",
       "      <td>55.230000</td>\n",
       "      <td>570.500000</td>\n",
       "      <td>71.980</td>\n",
       "      <td>0.0000</td>\n",
       "      <td>0.000000</td>\n",
       "      <td>0.000000</td>\n",
       "      <td>0.000000</td>\n",
       "      <td>0.0</td>\n",
       "      <td>0.00</td>\n",
       "      <td>38.500000</td>\n",
       "      <td>...</td>\n",
       "      <td>586.0</td>\n",
       "      <td>196.0</td>\n",
       "      <td>80.0</td>\n",
       "      <td>149.98999</td>\n",
       "      <td>6.0</td>\n",
       "      <td>4.0</td>\n",
       "      <td>0.0</td>\n",
       "      <td>0.0</td>\n",
       "      <td>0.0</td>\n",
       "      <td>434.0</td>\n",
       "    </tr>\n",
       "    <tr>\n",
       "      <th>5</th>\n",
       "      <td>82.275000</td>\n",
       "      <td>1312.250000</td>\n",
       "      <td>75.000</td>\n",
       "      <td>1.2375</td>\n",
       "      <td>0.000000</td>\n",
       "      <td>0.000000</td>\n",
       "      <td>0.000000</td>\n",
       "      <td>0.0</td>\n",
       "      <td>0.00</td>\n",
       "      <td>156.750000</td>\n",
       "      <td>...</td>\n",
       "      <td>1187.0</td>\n",
       "      <td>853.0</td>\n",
       "      <td>78.0</td>\n",
       "      <td>129.98999</td>\n",
       "      <td>9.0</td>\n",
       "      <td>4.0</td>\n",
       "      <td>0.0</td>\n",
       "      <td>0.0</td>\n",
       "      <td>0.0</td>\n",
       "      <td>458.0</td>\n",
       "    </tr>\n",
       "    <tr>\n",
       "      <th>9</th>\n",
       "      <td>31.662500</td>\n",
       "      <td>25.500000</td>\n",
       "      <td>29.990</td>\n",
       "      <td>0.2475</td>\n",
       "      <td>0.000000</td>\n",
       "      <td>0.000000</td>\n",
       "      <td>0.000000</td>\n",
       "      <td>0.0</td>\n",
       "      <td>0.00</td>\n",
       "      <td>59.500000</td>\n",
       "      <td>...</td>\n",
       "      <td>54.0</td>\n",
       "      <td>7.0</td>\n",
       "      <td>34.0</td>\n",
       "      <td>79.98999</td>\n",
       "      <td>2.0</td>\n",
       "      <td>2.0</td>\n",
       "      <td>0.0</td>\n",
       "      <td>0.0</td>\n",
       "      <td>1.0</td>\n",
       "      <td>601.0</td>\n",
       "    </tr>\n",
       "    <tr>\n",
       "      <th>10</th>\n",
       "      <td>62.127500</td>\n",
       "      <td>97.500000</td>\n",
       "      <td>65.985</td>\n",
       "      <td>2.4750</td>\n",
       "      <td>0.000000</td>\n",
       "      <td>0.000000</td>\n",
       "      <td>0.000000</td>\n",
       "      <td>0.0</td>\n",
       "      <td>0.00</td>\n",
       "      <td>23.500000</td>\n",
       "      <td>...</td>\n",
       "      <td>123.0</td>\n",
       "      <td>32.0</td>\n",
       "      <td>64.0</td>\n",
       "      <td>79.98999</td>\n",
       "      <td>3.0</td>\n",
       "      <td>3.0</td>\n",
       "      <td>0.0</td>\n",
       "      <td>0.0</td>\n",
       "      <td>0.0</td>\n",
       "      <td>464.0</td>\n",
       "    </tr>\n",
       "    <tr>\n",
       "      <th>...</th>\n",
       "      <td>...</td>\n",
       "      <td>...</td>\n",
       "      <td>...</td>\n",
       "      <td>...</td>\n",
       "      <td>...</td>\n",
       "      <td>...</td>\n",
       "      <td>...</td>\n",
       "      <td>...</td>\n",
       "      <td>...</td>\n",
       "      <td>...</td>\n",
       "      <td>...</td>\n",
       "      <td>...</td>\n",
       "      <td>...</td>\n",
       "      <td>...</td>\n",
       "      <td>...</td>\n",
       "      <td>...</td>\n",
       "      <td>...</td>\n",
       "      <td>...</td>\n",
       "      <td>...</td>\n",
       "      <td>...</td>\n",
       "      <td>...</td>\n",
       "    </tr>\n",
       "    <tr>\n",
       "      <th>99973</th>\n",
       "      <td>0.000000</td>\n",
       "      <td>76.000000</td>\n",
       "      <td>29.670</td>\n",
       "      <td>0.0000</td>\n",
       "      <td>0.000000</td>\n",
       "      <td>0.000000</td>\n",
       "      <td>0.000000</td>\n",
       "      <td>0.0</td>\n",
       "      <td>0.00</td>\n",
       "      <td>0.000000</td>\n",
       "      <td>...</td>\n",
       "      <td>85.0</td>\n",
       "      <td>38.0</td>\n",
       "      <td>33.0</td>\n",
       "      <td>29.98999</td>\n",
       "      <td>1.0</td>\n",
       "      <td>1.0</td>\n",
       "      <td>0.0</td>\n",
       "      <td>0.0</td>\n",
       "      <td>0.0</td>\n",
       "      <td>883.0</td>\n",
       "    </tr>\n",
       "    <tr>\n",
       "      <th>99976</th>\n",
       "      <td>31.923333</td>\n",
       "      <td>63.333333</td>\n",
       "      <td>16.990</td>\n",
       "      <td>0.0000</td>\n",
       "      <td>42.666667</td>\n",
       "      <td>14.933333</td>\n",
       "      <td>14.933333</td>\n",
       "      <td>0.0</td>\n",
       "      <td>0.00</td>\n",
       "      <td>-38.333333</td>\n",
       "      <td>...</td>\n",
       "      <td>46.0</td>\n",
       "      <td>22.0</td>\n",
       "      <td>28.0</td>\n",
       "      <td>29.98999</td>\n",
       "      <td>1.0</td>\n",
       "      <td>1.0</td>\n",
       "      <td>0.0</td>\n",
       "      <td>0.0</td>\n",
       "      <td>0.0</td>\n",
       "      <td>883.0</td>\n",
       "    </tr>\n",
       "    <tr>\n",
       "      <th>99981</th>\n",
       "      <td>34.990000</td>\n",
       "      <td>6.333333</td>\n",
       "      <td>44.990</td>\n",
       "      <td>0.0000</td>\n",
       "      <td>0.000000</td>\n",
       "      <td>0.000000</td>\n",
       "      <td>0.000000</td>\n",
       "      <td>0.0</td>\n",
       "      <td>0.00</td>\n",
       "      <td>-6.333333</td>\n",
       "      <td>...</td>\n",
       "      <td>203.0</td>\n",
       "      <td>39.0</td>\n",
       "      <td>37.0</td>\n",
       "      <td>99.98999</td>\n",
       "      <td>3.0</td>\n",
       "      <td>3.0</td>\n",
       "      <td>0.0</td>\n",
       "      <td>0.0</td>\n",
       "      <td>0.0</td>\n",
       "      <td>118.0</td>\n",
       "    </tr>\n",
       "    <tr>\n",
       "      <th>99986</th>\n",
       "      <td>117.490000</td>\n",
       "      <td>384.000000</td>\n",
       "      <td>29.990</td>\n",
       "      <td>0.0000</td>\n",
       "      <td>250.000000</td>\n",
       "      <td>87.500000</td>\n",
       "      <td>87.500000</td>\n",
       "      <td>0.0</td>\n",
       "      <td>0.00</td>\n",
       "      <td>0.000000</td>\n",
       "      <td>...</td>\n",
       "      <td>135.0</td>\n",
       "      <td>106.0</td>\n",
       "      <td>34.0</td>\n",
       "      <td>59.98999</td>\n",
       "      <td>2.0</td>\n",
       "      <td>2.0</td>\n",
       "      <td>0.0</td>\n",
       "      <td>0.0</td>\n",
       "      <td>0.0</td>\n",
       "      <td>489.0</td>\n",
       "    </tr>\n",
       "    <tr>\n",
       "      <th>99993</th>\n",
       "      <td>95.170000</td>\n",
       "      <td>1745.000000</td>\n",
       "      <td>84.990</td>\n",
       "      <td>0.9900</td>\n",
       "      <td>45.000000</td>\n",
       "      <td>11.250000</td>\n",
       "      <td>11.250000</td>\n",
       "      <td>0.0</td>\n",
       "      <td>4.69</td>\n",
       "      <td>122.000000</td>\n",
       "      <td>...</td>\n",
       "      <td>1237.0</td>\n",
       "      <td>475.0</td>\n",
       "      <td>88.0</td>\n",
       "      <td>149.98999</td>\n",
       "      <td>2.0</td>\n",
       "      <td>2.0</td>\n",
       "      <td>0.0</td>\n",
       "      <td>0.0</td>\n",
       "      <td>0.0</td>\n",
       "      <td>464.0</td>\n",
       "    </tr>\n",
       "  </tbody>\n",
       "</table>\n",
       "<p>78334 rows × 73 columns</p>\n",
       "</div>"
      ],
      "text/plain": [
       "         rev_Mean     mou_Mean  totmrc_Mean  da_Mean  ovrmou_Mean  \\\n",
       "0       23.997500   219.250000       22.500   0.2475     0.000000   \n",
       "4       55.230000   570.500000       71.980   0.0000     0.000000   \n",
       "5       82.275000  1312.250000       75.000   1.2375     0.000000   \n",
       "9       31.662500    25.500000       29.990   0.2475     0.000000   \n",
       "10      62.127500    97.500000       65.985   2.4750     0.000000   \n",
       "...           ...          ...          ...      ...          ...   \n",
       "99973    0.000000    76.000000       29.670   0.0000     0.000000   \n",
       "99976   31.923333    63.333333       16.990   0.0000    42.666667   \n",
       "99981   34.990000     6.333333       44.990   0.0000     0.000000   \n",
       "99986  117.490000   384.000000       29.990   0.0000   250.000000   \n",
       "99993   95.170000  1745.000000       84.990   0.9900    45.000000   \n",
       "\n",
       "       ovrrev_Mean  vceovr_Mean  datovr_Mean  roam_Mean  change_mou  ...  \\\n",
       "0         0.000000     0.000000          0.0       0.00 -157.250000  ...   \n",
       "4         0.000000     0.000000          0.0       0.00   38.500000  ...   \n",
       "5         0.000000     0.000000          0.0       0.00  156.750000  ...   \n",
       "9         0.000000     0.000000          0.0       0.00   59.500000  ...   \n",
       "10        0.000000     0.000000          0.0       0.00   23.500000  ...   \n",
       "...            ...          ...          ...        ...         ...  ...   \n",
       "99973     0.000000     0.000000          0.0       0.00    0.000000  ...   \n",
       "99976    14.933333    14.933333          0.0       0.00  -38.333333  ...   \n",
       "99981     0.000000     0.000000          0.0       0.00   -6.333333  ...   \n",
       "99986    87.500000    87.500000          0.0       0.00    0.000000  ...   \n",
       "99993    11.250000    11.250000          0.0       4.69  122.000000  ...   \n",
       "\n",
       "       avg6mou  avg6qty  avg6rev  hnd_price  phones  models  truck   rv  \\\n",
       "0        322.0    136.0     38.0  149.98999     2.0     2.0    0.0  0.0   \n",
       "4        586.0    196.0     80.0  149.98999     6.0     4.0    0.0  0.0   \n",
       "5       1187.0    853.0     78.0  129.98999     9.0     4.0    0.0  0.0   \n",
       "9         54.0      7.0     34.0   79.98999     2.0     2.0    0.0  0.0   \n",
       "10       123.0     32.0     64.0   79.98999     3.0     3.0    0.0  0.0   \n",
       "...        ...      ...      ...        ...     ...     ...    ...  ...   \n",
       "99973     85.0     38.0     33.0   29.98999     1.0     1.0    0.0  0.0   \n",
       "99976     46.0     22.0     28.0   29.98999     1.0     1.0    0.0  0.0   \n",
       "99981    203.0     39.0     37.0   99.98999     3.0     3.0    0.0  0.0   \n",
       "99986    135.0    106.0     34.0   59.98999     2.0     2.0    0.0  0.0   \n",
       "99993   1237.0    475.0     88.0  149.98999     2.0     2.0    0.0  0.0   \n",
       "\n",
       "       forgntvl  eqpdays  \n",
       "0           0.0    361.0  \n",
       "4           0.0    434.0  \n",
       "5           0.0    458.0  \n",
       "9           1.0    601.0  \n",
       "10          0.0    464.0  \n",
       "...         ...      ...  \n",
       "99973       0.0    883.0  \n",
       "99976       0.0    883.0  \n",
       "99981       0.0    118.0  \n",
       "99986       0.0    489.0  \n",
       "99993       0.0    464.0  \n",
       "\n",
       "[78334 rows x 73 columns]"
      ]
     },
     "execution_count": 54,
     "metadata": {},
     "output_type": "execute_result"
    }
   ],
   "source": [
    "# 1. Use Elbow method to find the number of distinct customer groups\n",
    "# 2. For every cluster separately check the % of leavers\n",
    "data"
   ]
  },
  {
   "cell_type": "code",
   "execution_count": 57,
   "id": "abe1793e",
   "metadata": {},
   "outputs": [
    {
     "name": "stdout",
     "output_type": "stream",
     "text": [
      "Wall time: 2min 40s\n"
     ]
    }
   ],
   "source": [
    "%%time\n",
    "distorsions = []\n",
    "\n",
    "data = X[num_features].copy()\n",
    "\n",
    "for k in range(2, 20):\n",
    "    kmeans = KMeans(n_clusters=k)\n",
    "    kmeans.fit(data)\n",
    "    distorsions.append(kmeans.inertia_)"
   ]
  },
  {
   "cell_type": "code",
   "execution_count": 61,
   "id": "d6f22e77",
   "metadata": {},
   "outputs": [
    {
     "data": {
      "image/png": "[encoded data removed]",
      "text/plain": [
       "<Figure size 1080x360 with 1 Axes>"
      ]
     },
     "metadata": {
      "needs_background": "light"
     },
     "output_type": "display_data"
    }
   ],
   "source": [
    "fig = plt.figure(figsize=(15, 5))\n",
    "plt.plot(range(2, 20), distorsions)\n",
    "plt.xticks(np.arange(0, 20, 1))\n",
    "plt.grid(True)\n",
    "plt.title('Elbow curve')\n",
    "plt.show()"
   ]
  },
  {
   "cell_type": "markdown",
   "id": "c1786cf9",
   "metadata": {},
   "source": [
    "Using the Elbow Method I identify the optimal number of clusters to be 5 and retrain KMeans on it.\n",
    "\n",
    "What does this information give me? What if the elbow method identifies 100 clusters? How will it help me identify churners? I cannot investigate 100 clusters manually.\n",
    "\n",
    "PCA is not an option, because it loses variance."
   ]
  },
  {
   "cell_type": "code",
   "execution_count": 62,
   "id": "6eb46589",
   "metadata": {},
   "outputs": [
    {
     "data": {
      "text/plain": [
       "KMeans(n_clusters=5)"
      ]
     },
     "execution_count": 62,
     "metadata": {},
     "output_type": "execute_result"
    }
   ],
   "source": [
    "kmeans = KMeans(n_clusters=5)\n",
    "kmeans.fit(data)"
   ]
  },
  {
   "cell_type": "code",
   "execution_count": 65,
   "id": "b2584024",
   "metadata": {},
   "outputs": [],
   "source": [
    "data['cluster_no'] = kmeans.labels_"
   ]
  },
  {
   "cell_type": "code",
   "execution_count": null,
   "id": "99389ecf",
   "metadata": {},
   "outputs": [],
   "source": [
    "plt.scatter()"
   ]
  },
  {
   "cell_type": "code",
   "execution_count": null,
   "id": "4b6b008e",
   "metadata": {},
   "outputs": [],
   "source": []
  }
 ],
 "metadata": {
  "kernelspec": {
   "display_name": "Python 3 (ipykernel)",
   "language": "python",
   "name": "python3"
  },
  "language_info": {
   "codemirror_mode": {
    "name": "ipython",
    "version": 3
   },
   "file_extension": ".py",
   "mimetype": "text/x-python",
   "name": "python",
   "nbconvert_exporter": "python",
   "pygments_lexer": "ipython3",
   "version": "3.9.7"
  }
 },
 "nbformat": 4,
 "nbformat_minor": 5
}
